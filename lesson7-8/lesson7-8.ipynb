{
 "cells": [
  {
   "cell_type": "markdown",
   "id": "2a652502-93b9-48fa-b6f2-e1d7b413264f",
   "metadata": {},
   "source": [
    "### 5.3 ファイル読み込み (具体例2: SAM形式) \n",
    "SAMファイルの読み込みを行う。__SAMファイル__ は、@で始まるヘッダー行と各リードのアライメント情報を格納している (表5.7) アライメント情報の各列は、タブ (\\t) で区切られている。  \n",
    "\n",
    "表5.7 SAMファイルのアライメント情報  \n",
    "\n",
    "| 列数 | Field | 情報 | 例 (20行目)  |\n",
    "|--------------|-----------|------|--------|\n",
    "| 1 | QNAME | リード名 | SRR453566.24 |\n",
    "| 2 | FLAG | アライメント情報 | 83 |\n",
    "| 3 | RNAME | リファレンス名 | NC_001139.9 |\n",
    "| 4 | POS | マッピング位置 | 727620 |\n",
    "| 5 | MAPQ | マッピングスコア | 60 |\n",
    "| 6 | CIGAR | マッピングの状況 | 101M |\n",
    "| 7 | RNEXT | ペアエンドリードのマッピングされたリファレンス名<br>=の場合は、同じリファレンス名 | = |\n",
    "| 8 | PNEXT | ペアエンドリードのマッピング位置 | 727518 |\n",
    "| 9 | TLEN  | リード間の距離 | -203 |\n",
    "| 10 | SEQ | リードの塩基配列 | AAGGGTAA.... |\n",
    "| 11 | QUAL | 塩基配列のクォリティデータ | ?DCCDDDD ... |"
   ]
  },
  {
   "cell_type": "code",
   "execution_count": 8,
   "id": "011cafa5-5338-44aa-bfcf-5dfe37c6896d",
   "metadata": {},
   "outputs": [
    {
     "name": "stdout",
     "output_type": "stream",
     "text": [
      "@HD\tVN:1.0\tSO:unsorted\n",
      "@SQ\tSN:NC_001133.9\tLN:230218\n",
      "@SQ\tSN:NC_001134.8\tLN:813184\n",
      "@SQ\tSN:NC_001135.5\tLN:316620\n",
      "@SQ\tSN:NC_001136.10\tLN:1531933\n",
      "@SQ\tSN:NC_001137.3\tLN:576874\n",
      "@SQ\tSN:NC_001138.5\tLN:270161\n",
      "@SQ\tSN:NC_001139.9\tLN:1090940\n",
      "@SQ\tSN:NC_001140.6\tLN:562643\n",
      "@SQ\tSN:NC_001141.2\tLN:439888\n",
      "@SQ\tSN:NC_001142.9\tLN:745751\n",
      "@SQ\tSN:NC_001143.9\tLN:666816\n",
      "@SQ\tSN:NC_001144.5\tLN:1078177\n",
      "@SQ\tSN:NC_001145.3\tLN:924431\n",
      "@SQ\tSN:NC_001146.8\tLN:784333\n",
      "@SQ\tSN:NC_001147.6\tLN:1091291\n",
      "@SQ\tSN:NC_001148.4\tLN:948066\n",
      "@SQ\tSN:NC_001224.1\tLN:85779\n",
      "@PG\tID:hisat2\tPN:hisat2\tVN:2.1.0\tCL:\"/usr/local/pkg/hisat2/2.1.0/hisat2-align-s --wrapper basic-0 -p 4 -x ../reference/hisat/s288c.fna -S SRR453566.sam -1 /tmp/52279.inpipe1 -2 /tmp/52279.inpipe2\"\n",
      "SRR453566.24\t83\tNC_001139.9\t727620\t60\t101M\t=\t727518\t-203\tAAGGGTAAAGCTAAGGGTGATATTCCAGGTGTTAGATTCAAGGTCGTTAAGGTCTCTGGTGTCTCCTTGTTGGCTTTGTGGAAAGAAAAGAAGGAAAAGCC\t?DCCDDDDDDDDDDDDDD@CDCCBEEEDFFFFFHHHHFHJJJJIJJJJJJJJIJGJJJJJJJJJJJJJJJJJJJJJJJJJJJJJJJJJHHHHHFFFFFCCC\tAS:i:0\tXN:i:0\tXM:i:0\tXO:i:0\tXG:i:0\tNM:i:0\tMD:Z:101\tYS:i:0\tYT:Z:CP\tNH:i:1\n",
      "SRR453566.24\t163\tNC_001139.9\t727518\t60\t69M\t=\t727620\t203\tTTAATCAAGAACGGTAAGAAGGTCACTGCTTTCGTTCCAAACGATGGTTGTTTGAACTTTGTCGACGAA\t=DFFFFHHHHGGJIHFHIJJJJHIIJJIFHIJIJJJIJJIJEIHIE?=BFGIGCHGHIIIIIEFFD>AB\tAS:i:0\tXN:i:0\tXM:i:0\tXO:i:0\tXG:i:0\tNM:i:0\tMD:Z:69\tYS:i:0\tYT:Z:CP\tNH:i:1\n",
      "SRR453566.22\t99\tNC_001142.9\t509705\t60\t101M\t=\t509740\t136\tCAAAGCGTAAATAGCACCAAAGCTCAAACGACACTGGTATATTTCAATAAGTCTAACGAAGAGTTGGGACATCGTGAAAACTGCATCGGATTTAAGGATAT\tCCCFFFFFHGHHHJJJJJJJJJJJJJJJJJIJJJJJJGGHIJJJJB?DHGIHJJGGJJGIIIHAEFFFFFDEEDDDDDDDDDDDCDDDDDDDDACCDDDCA\tAS:i:-6\tXN:i:0\tXM:i:1\tXO:i:0\tXG:i:0\tNM:i:1\tMD:Z:41C59\tYS:i:-4\tYT:Z:CP\tNH:i:1\n",
      "SRR453566.22\t147\tNC_001142.9\t509740\t60\t101M\t=\t509705\t-136\tGGTATATTTCAATAAGTCTAACGAAGAGTTGGGACATCGTGAAAACTGCATCGGATTTAAGGATATTATGAATGAATCTCCAATCTCGGTGAAGAAGGCGG\t@DA@:>>>@CDCCCDCC?A@><EEFFCB;AHHHHJJIIIIHGIHFCIIGHEIJIJIGIJGJIJJJJJJIIJJJJJJJJIJJJJJJJJJHHHHHFFFFFCCC\tAS:i:-4\tZS:i:-7\tXN:i:0\tXM:i:1\tXO:i:0\tXG:i:0\tNM:i:1\tMD:Z:6C94\tYS:i:-6\tYT:Z:CP\tNH:i:1\n",
      "SRR453566.23\t99\tNC_001134.8\t674240\t60\t101M\t=\t674286\t131\tTTTTCTTCATATCTTCTATCCTTTTAACAATATGCTTATCTAAACCAACAAAAGCACCCATAATCATGAAAAGAATATTTGAAGTGTCTACAACAAATACT\t@BCFFFFFHHGHHJJGIIJHGIJJJHIJJJJIJJJJJJJJJJJIGIIIIIAGIIJJJIJIGIIJIHHJEEGGGGGDEHFHHGGFDDEFE@;>CCDDBCCDC\tAS:i:-6\tXN:i:0\tXM:i:1\tXO:i:0\tXG:i:0\tNM:i:1\tMD:Z:55T45\tYS:i:-4\tYT:Z:CP\tNH:i:1\n",
      "SRR453566.23\t147\tNC_001134.8\t674286\t60\t85M\t=\t674240\t-131\tAACAAAAGCACCCATAATCATGAAAAGAATATTTGAAGTGTCTACAACAAATACTTCGTCCTTCTTTGTTGTAGTTTGATTTTTT\t??>C>@5(@>EAEECCCB;DDFFFFFGFFHBIJIIHIJIJIHHHGHEIIIIIGJIJIJJJIHIHEHIGGGIGIJHHHHHFFFFD=\tAS:i:-4\tZS:i:-10\tXN:i:0\tXM:i:1\tXO:i:0\tXG:i:0\tNM:i:1\tMD:Z:9T75\tYS:i:-6\tYT:Z:CP\tNH:i:1\n"
     ]
    }
   ],
   "source": [
    "#　ファイルの中身を25行目まで確認する\n",
    "!head -n 25 ./data/SRR453566.sam  "
   ]
  },
  {
   "cell_type": "code",
   "execution_count": null,
   "id": "0c5bb67e-bd4c-4a1d-b76a-79818c0b6dd7",
   "metadata": {},
   "outputs": [],
   "source": []
  },
  {
   "cell_type": "code",
   "execution_count": null,
   "id": "371f1899-06d2-4953-b1a3-7181f21e126b",
   "metadata": {},
   "outputs": [],
   "source": []
  },
  {
   "cell_type": "code",
   "execution_count": null,
   "id": "8a0990ba-cced-4888-8caa-884b28862a90",
   "metadata": {},
   "outputs": [],
   "source": []
  },
  {
   "cell_type": "markdown",
   "id": "b34c28f4-778c-4750-ab47-9955ea5cb82d",
   "metadata": {},
   "source": [
    "### 5.3.1 ビット演算子  \n",
    "2列目のFLAG情報は、リードのマッピング状況を知ることができる。各情報は下記のように定義されている (表5.8)\n",
    "  \n",
    "Bit とは、、、  \n",
    "Binary Digit（バイナリ ディジット） の略で、   \n",
    "0か1だけを表す情報の最小単位です。2進数 (接頭辞 0b で 0b0001などと表現される)  \n",
    "16進数は 2進数の4桁で1文字を表すのでよく一緒に使われる。(接頭辞 0x で 0x1 などと表現される)"
   ]
  },
  {
   "cell_type": "markdown",
   "id": "6523778c-e3a7-40f9-9836-bd39397759ea",
   "metadata": {},
   "source": [
    "表5.8 SAMファイルのFLAG情報  \n",
    "| 十進数 |  Bit | 説明 (SAM定義) | Decoding SAM flags |\n",
    "|--------------|-----------|------|-------|\n",
    "| 1 | 0x1 | template having multiple seqments in sequencing | read paired |\n",
    "| 2 | 0x2 | each segment properly aliged according to the aligner | read mapped in proper pair |\n",
    "| 4 | 0x4 | segment unmapped | read unmapped |\n",
    "| 8 | 0x8 | next segment in the template unmapped | mate unmapped |\n",
    "| 16 | 0x10 | SEQ being reverse complemented | read reverse strand |\n",
    "| 32 | 0x20 | SEQ of the next segment in the template being reverse complemented | mate reverse strand |\n",
    "| 64 | 0x40 | the first segment in the template | first in pair |\n",
    "| 128 | 0x80 | the last segment in the template | second in pair |\n",
    "| 256 | 0x100 | secondary alignment | not primary alignment |\n",
    "| 512 | 0x200 | not passing filters, such as platform/vendor quality controls | read failes platform/vendor quality checks |\n",
    "| 1024 | 0x400 | PCR or optical duplicate | read is PCR or optical duplicate |\n",
    "| 2048 | 0x800 | supplementary alignment | supplementary alignment |\n"
   ]
  },
  {
   "cell_type": "markdown",
   "id": "49f1045b-1dd4-43b2-b226-259cac5ce212",
   "metadata": {},
   "source": [
    "FLAG情報に関しては、Decoding SAM flagsサイト (https://broadinstitute.github.io/picard/explain-flags.html) がわかりやすい。例えば。FLAG83を持つリードは、 read paired (0x1)、read mapped in proper pair (0x2)、read reverse strand (0x10)、first in pair (0x40)でリードがマッピングされていることを示している。いくつかのFLAGについて、bit情報をまとめた。(表5.9)"
   ]
  },
  {
   "cell_type": "markdown",
   "id": "74c7d5ba-f647-4247-9c1b-01c666f364fd",
   "metadata": {},
   "source": [
    "表5.9 FLAGとbit情報の対応の例  \n",
    "| 十進数 | Bit | FLAG=83 | FLAG=163 | FLAG=77 | FLAG=137 |\n",
    "|--------------|-----------|------|------|------|------|\n",
    "| 1 | 0x1 | ◯ | ◯ | ◯ | ◯ |\n",
    "| 2 | 0x2 | ◯ | ◯ |   |   |\n",
    "| 4 | 0x4 |   |   | ◯ |   |\n",
    "| 8 | 0x8 |   |   | ◯ | ◯ |\n",
    "| 16 | 0x10 | ◯ |   |   |   |\n",
    "| 32 | 0x20 |   | ◯ |   |   |\n",
    "| 64 | 0x40 | ◯ |   | ◯ |   |\n",
    "| 128 | 0x80 |   | ◯ |   | ◯ |\n",
    "| 256 | 0x100 |   |   |   |   |\n",
    "| 512 | 0x200 |   |   |   |   |\n",
    "| 1024 | 0x400 |   |   |   |   |\n",
    "| 2048 | 0x800 |   |   |   |   |\n"
   ]
  },
  {
   "cell_type": "markdown",
   "id": "6ecd4286-d5cf-4555-8c84-04d4c9f5ca70",
   "metadata": {},
   "source": [
    "ビット演算子 (表5.10) を用いて、FLAG情報を扱うことができる。例えば、if FLAG & 0x4: とすることで、unmap かどうかを判定できる。\n",
    "\n",
    "\n",
    "表5.10 ビット演算子の例  \n",
    "| ビット演算子 | 説明 |　例 |\n",
    "|--------------|-----------|-----|\n",
    "| x\\|y | xとyの論理和 (OR) をとる | x = x \\| 0x4  # xの3ビット目をONにする |\n",
    "| x&y | xとyの論理積(AND)をとる |　if x & 0x4: と記載するとxの3ビット目がON（1）かどうか調べたいときにif文で使います。<br>x = x & ~0x4  # xの3ビット目をOFFにする  |\n",
    "| x^y | xとyの排他的論理和(XOR)をとる|　x = x ^ 0x4  # xの3ビット目をトグル（1→0, 0→1）|\n"
   ]
  },
  {
   "cell_type": "markdown",
   "id": "ec652862-b6ce-4bb2-aa13-aa584f32a503",
   "metadata": {},
   "source": [
    "__FLGの状況の読み込み__  \n",
    "FLGの状況を確認する。"
   ]
  },
  {
   "cell_type": "code",
   "execution_count": 18,
   "id": "f0d22a4d-2e72-4656-956c-0e3e2a9d5157",
   "metadata": {},
   "outputs": [
    {
     "name": "stdout",
     "output_type": "stream",
     "text": [
      "83\t197\n",
      "163\t197\n",
      "99\t239\n",
      "147\t239\n",
      "355\t15\n",
      "403\t15\n",
      "81\t3\n",
      "161\t3\n",
      "65\t2\n",
      "129\t2\n",
      "77\t14\n",
      "141\t14\n",
      "113\t1\n",
      "177\t1\n",
      "89\t5\n",
      "133\t7\n",
      "339\t17\n",
      "419\t17\n",
      "97\t2\n",
      "145\t2\n",
      "153\t2\n",
      "69\t3\n",
      "73\t2\n",
      "137\t1\n"
     ]
    }
   ],
   "source": [
    "path = './data/SRR453566.sam'\n",
    "dic = {}\n",
    "with open(path) as f:\n",
    "    for line in f:\n",
    "        line = line.rstrip()\n",
    "        if line.startswith('@'): #ヘッダー行をスキップ\n",
    "            continue\n",
    "        s = line.split('\\t') #タブで区切る\n",
    "        FLG = s[1] #2列目を格納\n",
    "        if FLG in dic: #すでに辞書にFLGのkeyが格納されているか？\n",
    "            dic[FLG] += 1\n",
    "        else:\n",
    "            dic[FLG] = 1\n",
    "\n",
    "#出力FLAG, 総数\n",
    "for k, v in dic.items():\n",
    "    print(k + '\\t' + str(v))"
   ]
  },
  {
   "cell_type": "markdown",
   "id": "592f4a00-a2b0-461d-b3f0-02dd5f119ab5",
   "metadata": {},
   "source": [
    "FLAG情報の集計結果が得られた。例えば、FLAG83のリードが197本あったことがわかる。多い順で並べ替えて、出力する  "
   ]
  },
  {
   "cell_type": "code",
   "execution_count": 19,
   "id": "a58217a1-6db1-4a4d-839e-68550f82d815",
   "metadata": {},
   "outputs": [
    {
     "data": {
      "text/plain": [
       "[('99', 239),\n",
       " ('147', 239),\n",
       " ('83', 197),\n",
       " ('163', 197),\n",
       " ('339', 17),\n",
       " ('419', 17),\n",
       " ('355', 15),\n",
       " ('403', 15),\n",
       " ('77', 14),\n",
       " ('141', 14),\n",
       " ('133', 7),\n",
       " ('89', 5),\n",
       " ('81', 3),\n",
       " ('161', 3),\n",
       " ('69', 3),\n",
       " ('65', 2),\n",
       " ('129', 2),\n",
       " ('97', 2),\n",
       " ('145', 2),\n",
       " ('153', 2),\n",
       " ('73', 2),\n",
       " ('113', 1),\n",
       " ('177', 1),\n",
       " ('137', 1)]"
      ]
     },
     "execution_count": 19,
     "metadata": {},
     "output_type": "execute_result"
    }
   ],
   "source": [
    "sorted(dic.items(), key = lambda x:x[1], reverse = True)"
   ]
  },
  {
   "cell_type": "markdown",
   "id": "c2dba9f8-6b85-4822-8c39-13af30d36455",
   "metadata": {},
   "source": [
    "__コードの解説__ \n",
    "  \n",
    "| 部分 | 意味 |\n",
    "|-----|------|\n",
    "| dic.items() | キーと値のペアのリストを返す |\n",
    "| sorted() | 並び替えを行う |\n",
    "| key=lambda x: x[1] | 並び替えの基準を、各ペアの2番目（値）に指定する |\n",
    "| reverse=True | 大きい順（降順）に並び替える |\n",
    "  "
   ]
  },
  {
   "cell_type": "markdown",
   "id": "91b1ab06-5557-4c08-b6bc-6fc1e8124a20",
   "metadata": {},
   "source": [
    "__特定のFLAGを有するリード情報の読み込み__  \n",
    "特定のFLAGを有するリード情報を抽出する。マッピングされなかったリードを抽出する。read unmapped は、0x4, 4で表現される。"
   ]
  },
  {
   "cell_type": "code",
   "execution_count": 21,
   "id": "b95a631e-ab43-4d03-8ad7-4d7eee4e4568",
   "metadata": {},
   "outputs": [
    {
     "name": "stdout",
     "output_type": "stream",
     "text": [
      "SRR453566.116\n",
      "SRR453566.116\n",
      "SRR453566.126\n",
      "SRR453566.153\n",
      "SRR453566.153\n",
      "SRR453566.156\n",
      "SRR453566.156\n",
      "SRR453566.178\n",
      "SRR453566.178\n",
      "SRR453566.183\n",
      "SRR453566.242\n",
      "SRR453566.242\n",
      "SRR453566.243\n",
      "SRR453566.243\n",
      "SRR453566.255\n",
      "SRR453566.255\n",
      "SRR453566.263\n",
      "SRR453566.263\n",
      "SRR453566.302\n",
      "SRR453566.310\n",
      "SRR453566.322\n",
      "SRR453566.342\n",
      "SRR453566.342\n",
      "SRR453566.354\n",
      "SRR453566.354\n",
      "SRR453566.350\n",
      "SRR453566.381\n",
      "SRR453566.394\n",
      "SRR453566.394\n",
      "SRR453566.396\n",
      "SRR453566.396\n",
      "SRR453566.409\n",
      "SRR453566.433\n",
      "SRR453566.433\n",
      "SRR453566.472\n",
      "SRR453566.499\n",
      "SRR453566.499\n",
      "SRR453566.503\n"
     ]
    }
   ],
   "source": [
    "readList = []\n",
    "with open(path) as f:\n",
    "    for line in f:\n",
    "        line = line.rstrip()\n",
    "        if line.startswith('@'): #ヘッダー行をスキップ\n",
    "            continue\n",
    "        s = line.split('\\t') #タブで区切る\n",
    "        \n",
    "        FLG = int(s[1]) #ファイルから読み込むと str型 なので、これを int に変換する。\n",
    "        if FLG & 0x4: #FLGの値を2進数にして、16進数の0x4も2進数にすると0b0100、つまり3ビット目ONであれば TRUE\n",
    "            readList.append(s[0])\n",
    "\n",
    "#出力FLAG, 総数\n",
    "for item in readList:\n",
    "    print(item)"
   ]
  },
  {
   "cell_type": "markdown",
   "id": "01117559-f26c-4285-aefc-d0e72c82187f",
   "metadata": {},
   "source": [
    "ビット演算子を用いて、read unmapped (0x4) ビットを持つFLAG69, 77, 133, 141 のリードが抽出された。samtools を使うことによって、同様の処理が可能となる。"
   ]
  },
  {
   "cell_type": "markdown",
   "id": "943318bd-6441-48be-9bf1-aae58ca6f2ae",
   "metadata": {},
   "source": [
    "__マッピングされなかったリードの読み込み__  \n",
    "特定のFLAGを有するリードを抽出する。マッピングされなかったリードを抽出する。ペアエンドのリード(Read1, Read2) を別々に抽出する。配列も合わせて抽出する。"
   ]
  },
  {
   "cell_type": "code",
   "execution_count": 31,
   "id": "8526af6b-40ac-4e55-8213-a09bf0063927",
   "metadata": {},
   "outputs": [],
   "source": [
    "readList = []\n",
    "with open(path) as f:\n",
    "    for line in f:\n",
    "        line = line.rstrip()\n",
    "        if line.startswith('@'): #ヘッダー行をスキップ\n",
    "            continue\n",
    "            \n",
    "        s = line.split('\\t') #タブで区切る\n",
    "        FLG = int(s[1]) #ファイルから読み込むと str型 なので、これを int に変換する。\n",
    "        \n",
    "        if (FLG & 0x4) and (FLG & 0x40): ## read unmapped (0x4)  first in pair (0x40)\n",
    "            readList.append([s[0]+'-R1', s[9]]) \n",
    "\n",
    "        if(FLG & 0x4) and (FLG & 0x80) : ## read unmapped (0x4)  second in pair (0x40)\n",
    "            readList.append([s[0]+'-R2', s[9]])\n",
    "\n",
    "with open ('./output/unmapped.fasta', 'w') as f:\n",
    "    for item, seq in readList:\n",
    "        f.write('>'+item+'\\n'+seq+'\\n') ##Fasta形式"
   ]
  },
  {
   "cell_type": "markdown",
   "id": "b01c290b-866e-4ef9-8ce8-e75cf4888ed8",
   "metadata": {},
   "source": [
    "マッピングされなかったリードを抽出し、FASTA形式の \"unmapped.fasta\"へのファイル出力をした。web blastなどを使うことで、マッピングされなかったリードの由来を調べることができる。"
   ]
  },
  {
   "cell_type": "code",
   "execution_count": 32,
   "id": "e7a597b1-1f1e-4a92-a79c-3b970b4d350e",
   "metadata": {},
   "outputs": [
    {
     "data": {
      "text/plain": [
       ">SRR453566.116-R1\n",
       "GCCATCTGTGGCACGCTGTAATAGCCAATCTTTTACTTCCCAGATCTTGTCATACCACGGCGCTTCACGAGGTAGTAATGACACTGGTGCTGTTTCTGCAG\n",
       ">SRR453566.116-R2\n",
       "ACGATGTGGCCGGGCCTGCAGAAACAGCACCAGTGTCATTACTACCTC\n",
       ">SRR453566.126-R2\n",
       "GTGAGTTGGAGCAGCAGAGGTGGGGTTCTTTGGAGCTTCAGGAGAGGGAACTGG\n",
       ">SRR453566.153-R1\n",
       "CGGAAGTGTATCGTACAGTAGACGGAGTATACTAGTATAGTCTATAGTCCGTGGAATTCTAAGTGCCAGCTTTATAATGTCATTCTCCTTACTACAGACCC\n",
       ">SRR453566.153-R2\n",
       "GAAGGTTTTCGCGGTTTTTATAAACAAAACTTTCGTTACGAAATCGAGCAATCACCCCAGCTGCGTATTTGGAAATTC\n",
       ">SRR453566.156-R1\n",
       "CGTCATGTTTATCCTATGTGCGAGCATGGTATCAAGGCCTCATACTGTATGGCCCTTAATGATGCCATGGTGTCGGCTAATGGTAACCTGTATGGACTAGC\n",
       ">SRR453566.156-R2\n",
       "TTCGTCTCCCATTGTCCCTCATCCTCACTAAACAGCTTTTCTGCTAGTCCATACAGGTTACCATTAGCCGACACCATGGCATCATTA\n",
       ">SRR453566.178-R1\n",
       "CTAAAACTTGCCTAGAGGGGAATAGTATATGTTGAGCAAGTGTGTTGATGTAGTATAGTAAGTCAAATCTAAATTTATATCCAACATATGAAGCTAGACCA\n",
       ">SRR453566.178-R2\n",
       "TAGAAATAGATGAAGATGAATACAAAGAGAAGGTACATGAAATGCAAAAGTTGATTGGTCTAGCTTCATATGTTGGATATAAATTTAGATTTGACTTACTA\n",
       ">SRR453566.183-R2\n",
       "GGCAAGTCTGAGACCATTCTTCTCTTACTCTCAGAATTGGCACGTCTAAGCAAGAAGAAGGCACTATTGAAACTAGACAAC\n",
       ">SRR453566.242-R1\n",
       "ATTGTCCCTCATCCTCACTAAACAGCTTTTCTGCTAGTCCATACAGGTTACCATTAGCCGACACCATGGCATCATTAAGGGCCATACAGTATGAGGTCTTG\n",
       ">SRR453566.242-R2\n",
       "TCAAGACCTCATACTGTATGGCCCTTAATGATGCCATGGTGTCGGCTAATGGTAACCTGTATGGACTAGCAGAAAA\n",
       ">SRR453566.243-R1\n",
       "GTTCATTTAATATGTCGTTCAACGCACTAAAGTCCAGTGGAATATCCCCGTCTGCGACAGTAGAAATGTCACGACGAGCAACGGTAGCGCCATTAGGATCT\n",
       ">SRR453566.243-R2\n",
       "GTCGCAGTCAGATCCTAATGGCGCTACCGTTGCTCGTCGTGACATTTCTACTGTCGC\n",
       ">SRR453566.255-R1\n",
       "TAAATGTGGTGGAGGTCTTATGTATAATTCTTCTTTGATGTCTGCATACAAATATGCCGAAGATATGTCTAATTGTGTAATATAGTAGTTATTGTCTAATG\n",
       ">SRR453566.255-R2\n",
       "CTTGCATTAGACAATAACTACTATATTACACAATTAGACATATCTTCGGCATATTTGTATGCAGACATCAAAGAAGAATTATACATACGACCTCCACCAC\n",
       ">SRR453566.263-R1\n",
       "CGAACACACGACAAGTTTTGTAGTGACCAACAACTACACTTCTTTGCATACCGACCTGATTCATCATGGTAATGGAACATATACCACGTTTACCACACCTC\n",
       ">SRR453566.263-R2\n",
       "CTAGTCCATACAGGTTACCATTAGCCGACACCATGGCATCATTAAGGGCCATACAGTATGAGGCCTTGATACCATGCTCGC\n",
       ">SRR453566.302-R2\n",
       "GCCATGCAAATGTTTTGTTTCAATTTTAAGTTTATTCGGCTGCGCGGCGACGCTT\n",
       ">SRR453566.310-R1\n",
       "CTGAACTGTCACAGTCTAGGATCAAAATCAAATCTTTGGAGTACGAGATTTCCAAAGATTTGATTTTGATCCTAGACTGTGACAGTTCAGTTGAGGCTCTT\n",
       ">SRR453566.322-R2\n",
       "GGAAAAATGGCTAAAGAAAACACCGACATCAAAAAATTTTT\n",
       ">SRR453566.342-R1\n",
       "CTACGAATGAACCCCAGGTGATCGACTTGCCCCAATTGCCATCTGTAGCACGCTGTAATAGCCAATCTTTTACTTCCCAGATCTTGTCATACCACGGCGCT\n",
       ">SRR453566.342-R2\n",
       "GGCCGGGCCTGCAGAAACAGCACCAGTGTCATTACTACCTCGTGAAGCGCCGTGGTATGACAAGATCTGGGA\n",
       ">SRR453566.354-R1\n",
       "CGACATTATCCACTGGCCAGTACTCCAATACAATTTATAGTAATTCGTCTCCCATTGTCCCTCATCCTCACTAAACAGCTTTTCTGCTAGTCCATACAGGT\n",
       ">SRR453566.354-R2\n",
       "TTTGCATACCGACCTGATTCATCATGGTAATGGAACATATACCACGTTGACCACACCTCACATTCCAGCAGTGGCCAAGCGTCATGTTTATCCTATGTGCG\n",
       ">SRR453566.350-R2\n",
       "TTAGGTATTCTTGGATGAGTCTTTATAACCATTTGACTACTCAATTCTTCAATATACAAGCGGGCTATTTACACTTG\n",
       ">SRR453566.381-R2\n",
       "TTGGTCAACAATGGCTTTATAGCAGGCCAGGGTTTTTATT\n",
       ">SRR453566.394-R1\n",
       "CTCATCCTCACTAAACAGCTTTTCTGCTAGTCCATACAGGTTACCATTAGCCGACACCATGGCATCATTAAGGGCCATACAGTATGAGGCCTTGATACCAT\n",
       ">SRR453566.394-R2\n",
       "CAATATGTCAAAAGATCAGACACAGCCGAACACACGACAAGTTTTGTAGTGACCAACAACTACACTTCTTTGCATACCGACC\n",
       ">SRR453566.396-R1\n",
       "GAAAATTCTTAGACCAAAGAAAGTTTATTGAAGTGGAAACTCCAATGATGAACGTCATTGCTGGTGGTGCCACTGCCAAGCCATTCATTACACACCATAAT\n",
       ">SRR453566.396-R2\n",
       "TTCAAAAATAATTCTGGAGCAATTCTCATGTACATGTCCATATCAAGGTCATTATGGTGTGTAATGAATGGCTT\n",
       ">SRR453566.409-R2\n",
       "CCCACAGTTGAATAATTTTTTATTTAATGAGCATCCAGAATTGGTATCGTCTATTTTTAGTTTTCGCTTTCTTTTTGAAGGTGACG\n",
       ">SRR453566.433-R1\n",
       "CTCATACTGTATGGCCCTTAATGATGCCATGGTGTCGGCTAATGGTAACCTGTATGGACTAGCAGAAAAGCTGTTTAGTGAGGATGAGGGACAATGGG\n",
       ">SRR453566.433-R2\n",
       "GTGCTCTGTAAGGTCGAGTTATCGCATCAGAGGTCAGACACGATGCCCTAGTGGCC\n",
       ">SRR453566.472-R1\n",
       "TCTAAGACTTCTTTTTCTTGTCCTTACTCAAGTTTGGTGTAGCAGCAGTGATGGCTCCAAAAGCTCCAGTTGC\n",
       ">SRR453566.499-R1\n",
       "CAAAGTTGGGAACAATAAAACTTCTCTAATGGTATTGGAATCGGTTAAGAACATGGCCAATCTATCAATACCGCAACCCCAACCACCGGTTGGTGGTA\n",
       ">SRR453566.499-R2\n",
       "CAAGGTGATGACGAAGCTCAATTAGTCGATGAAACCTTCTGCAATGCCTTAGAATACGGTTTACCACCAACCGGTGG\n",
       ">SRR453566.503-R1\n",
       "AAAGAATGCAGCACTCAGAGGAAAAGAAAAAGAAGAAGAGAAGGAAGAAAGTGACGACTTATCAGGCCATGATGCCTTTTCCCCCTCAAAAAAGCGCGGCA\n"
      ]
     },
     "metadata": {},
     "output_type": "display_data"
    }
   ],
   "source": [
    "%more ./output/unmapped.fasta"
   ]
  },
  {
   "cell_type": "markdown",
   "id": "8db95b0a-4842-4eb7-bfee-d62ddccbde3b",
   "metadata": {},
   "source": [
    "## 5.4 正規表現  \n",
    "__正規表現__ (regular expression) とは、「文字列の集合を一つの文字列で表現する方法の一つである」。通常の文字列とメタ文字と呼ばれる特殊な文字を組み合わせてパターンを作り、パターンに指定された法則でならむ文字列の検索を実現できる。正規表現は、ファイルや他のデータの中から、複雑な文字列のパターンを検索するのに役立つ。  \n",
    "制御配列の一つの __TATAボックス__ を例に、正規表現を試してみる。  \n",
    "  \n",
    "TATAボックスは、RNAポリメラーゼⅡによる転写開始位置の上流25塩基対の位置、あるいはさらに上流に存在する共通した塩基配列で、5'=TATA[A/T]AA[G/A]-3'と定義されている。転写因子（例：TFIIDのTBPサブユニット）がTATAボックスに結合することで、RNAポリメラーゼIIを呼び込み、転写開始複合体を形成する。これが転写開始（RNA合成の始まり）の目印になる。\n",
    "  \n",
    "TATAボックスを有するリードをSAMファイルから検索する。文字列一致で探索する場合は、4通りの文字列を探索する必要がある。総補佐配列も含めると計8通りの文字列の探索が必要となる。  \n",
    "\n",
    "  * 5'-TATA[A]AA[G]-3'\n",
    "  * 5'-TATA[A]AA[A]-3'\n",
    "  * 5'-TATA[T]AA[A]-3'\n",
    "  * 5'-TATA[A]AA[G]-3'\n",
    "\n",
    "正規表現は、標準ライブラリの re モジュールを使う (表5.11)  \n",
    "  \n",
    "        表5.11 reモジュールでよく使うメソッド\n",
    "| メソッド | 説明 |\n",
    "|---------|-------|\n",
    "| compile() | 正規表現patternのオブジェクトを生成 |\n",
    "| matcth() | 文字列の先頭で正規表現patternの有無を探索 |\n",
    "| search() | 文字列ないで正規表現patternの有無を探索 |\n",
    "| findall() | 文字列ないですべての正規表現patternを探索 |\n",
    "| finditer() | 文字列ないで正規表現patternを探索し、取得するイテレータを返す。for文を添えて使用 |\n",
    "  \n",
    "正規表現で使用するメタ文字を一部紹介する (表5.12)  \n",
    "  \n",
    "      表5.12 正規表現で使用するメタ文字の一部  \n",
    "| パターン | 説明 |\n",
    "|---------|-------|\n",
    "| \\d      | 1個の数字 |\n",
    "| \\D      | 1個の数字以外の文字 |\n",
    "| \\w      | 1個の英字 |\n",
    "| \\W      | 1個の英字以外の文字 |\n",
    "| \\s      | 1個の空白文字 |\n",
    "| \\S      | 1個の空白文字以外の文字 |\n",
    "| .      | \\n以外の任意の文字 |\n",
    "| ^      | 文字列の先頭 |\n",
    "| $      | 文字列の末尾 |\n",
    "| *      | 直前の正規表現を0回以上、できるだけ多く繰り返したもの <br> ab*はa, ab, またはaに任意個数のbを続けたもの |\n",
    "| +      | 直前の正規表現を1回以上、できるだけ多く繰り返したもの <br> ab+はab, またはaに任意個数のbを続けたもの |\n",
    "| ?      | 直前の正規表現を0回もしくは1回<br>ab?はaあるいはab |\n",
    "| []      | 文字の集合<br>[abc]はaまたはbまたはc |"
   ]
  },
  {
   "cell_type": "markdown",
   "id": "c1891eed-1bd8-43be-adcf-8f35716d06ca",
   "metadata": {},
   "source": [
    "__正規表現を用いない探索__  \n",
    "TATAボックスを有する配列をreモジュールを使わずに探索する。4種類の配列それぞれの有無について調べる。"
   ]
  },
  {
   "cell_type": "code",
   "execution_count": 41,
   "id": "d527127f-5651-45b1-b51d-1ab6b2a23535",
   "metadata": {},
   "outputs": [
    {
     "name": "stdout",
     "output_type": "stream",
     "text": [
      "TATA3:AAATCTAAACACACCATCAGGATCAATTTACTGCGCAGTATGTACTCGTACTTGTATATAAGATTCAAAGGATACCAAGAAAATGCTATTACG\n",
      "TATA4:CGTGCTGATCAGGATATTTCTCTTCTTCATAGCATAGAAACCAAGTTGTTCCCATATATAAACTTCGCAGCCCTAAATAGTGAACAATCTCATAATTTTTG\n",
      "TATA2:AAATGGCAAAAAAAAAAGTAAAAAATGGCCCAACTGTATGAGACGTATAAAAAACGTGAAGGGTGAAGAAAAGAATGCCACTGCCCAATTTTATGCTTAAT\n",
      "TATA4:AAGCCGCCAAAATTCAACAGGGTACCGACTTGGCCGAAGTAGCCCCAATATTATGTGCTGGTGTTACTGTATATAAAGCACTAAAAGAGGCAGACTTGAA\n"
     ]
    }
   ],
   "source": [
    "path = './data/SRR453566.sam'\n",
    "TATA1 = 'TATAAAAG'\n",
    "TATA2 = 'TATAAAAA'\n",
    "TATA3 = 'TATATAAG'\n",
    "TATA4 = 'TATATAAA'\n",
    "\n",
    "with open(path) as f:\n",
    "    for line in f:\n",
    "        line = line.rstrip()  #改行を削除\n",
    "        if line.startswith('@'): #ヘッダー行をスキップ\n",
    "            continue\n",
    "        s= line.split('\\t') #タブで区切る\n",
    "        sequence = s[9] #10列目を格納\n",
    "\n",
    "        if TATA1 in sequence:\n",
    "            print('TATA1:' + sequence)\n",
    "\n",
    "        if TATA2 in sequence:\n",
    "            print('TATA2:' + sequence)\n",
    "\n",
    "        if TATA3 in sequence:\n",
    "            print('TATA3:' + sequence)\n",
    "\n",
    "        if TATA4 in sequence:\n",
    "            print('TATA4:' + sequence)\n",
    "\n",
    "        "
   ]
  },
  {
   "cell_type": "markdown",
   "id": "0c308c2f-382d-4cc0-82d5-eeb440704523",
   "metadata": {},
   "source": [
    "4通りのTATAボックスを用意して、それぞれについて探索を行った。そう補佐についても探索が必要な場合は、4通りの配列に加えてそれぞれに対して同様の処理を行えばよい。"
   ]
  },
  {
   "cell_type": "markdown",
   "id": "13c1bb35-7083-4df8-9901-696c5fa88629",
   "metadata": {},
   "source": [
    "__正規表現を用いる探索__  \n",
    "TATAボックスを有する配列をreモジュールによる正規表現パターンを用いて探索する。  "
   ]
  },
  {
   "cell_type": "code",
   "execution_count": 42,
   "id": "924c1ccf-fa35-4762-b29e-a445e193e891",
   "metadata": {},
   "outputs": [
    {
     "name": "stdout",
     "output_type": "stream",
     "text": [
      "AAATCTAAACACACCATCAGGATCAATTTACTGCGCAGTATGTACTCGTACTTGTATATAAGATTCAAAGGATACCAAGAAAATGCTATTACG\n",
      "CGTGCTGATCAGGATATTTCTCTTCTTCATAGCATAGAAACCAAGTTGTTCCCATATATAAACTTCGCAGCCCTAAATAGTGAACAATCTCATAATTTTTG\n",
      "AAATGGCAAAAAAAAAAGTAAAAAATGGCCCAACTGTATGAGACGTATAAAAAACGTGAAGGGTGAAGAAAAGAATGCCACTGCCCAATTTTATGCTTAAT\n",
      "AAGCCGCCAAAATTCAACAGGGTACCGACTTGGCCGAAGTAGCCCCAATATTATGTGCTGGTGTTACTGTATATAAAGCACTAAAAGAGGCAGACTTGAA\n"
     ]
    }
   ],
   "source": [
    "import re\n",
    "\n",
    "TATA = re.compile('TATA[AT]AA[GA]') #パターンをコンパイル AorT  GorA\n",
    "\n",
    "with open(path) as f:\n",
    "    for line in f:\n",
    "        line = line.rstrip()  #改行を削除\n",
    "        if line.startswith('@'): #ヘッダー行をスキップ\n",
    "            continue\n",
    "        s= line.split('\\t') #タブで区切る\n",
    "        sequence = s[9] #10列目を格納\n",
    "\n",
    "        m = TATA.search(sequence) #pattern を検索\n",
    "\n",
    "        if m:\n",
    "            print(sequence)\n",
    "        "
   ]
  },
  {
   "cell_type": "markdown",
   "id": "3223cde4-e866-4421-890d-e737d53f2d12",
   "metadata": {},
   "source": [
    "TATAボックス5'-TATA[A/T]AA[G/A]-3' を TATA = re.compile('TATA[AT]AA[GA]') としてコンパイルしている。これにより、効率的な処理が実現できる。コンパイルしなくても、re.search('TATA[AT]AA[GA]',　文字列) とすることで、同様の処理が実現できる。　　\n",
    "　　\n",
    "次に、pattern.match(文字列) として、正規表現パターンを検索している。この場合、計4種類のTATAボックス配列を検索している。__マッチオブジェクト__ から一致箇所の情報を抽出できる。"
   ]
  },
  {
   "cell_type": "markdown",
   "id": "858b3b2d-3c8a-46ae-805c-1e5a0aa319f3",
   "metadata": {},
   "source": [
    "__一致箇所を出力する探索__  \n",
    "TATAボックスを有する配列をreモジュールによる正規表現パターンを用いて探索する。一致箇所を出力する。"
   ]
  },
  {
   "cell_type": "code",
   "execution_count": 43,
   "id": "838669cd-9952-40fd-bbbb-9bd7cdaf4edc",
   "metadata": {},
   "outputs": [
    {
     "name": "stdout",
     "output_type": "stream",
     "text": [
      "54 62 TATATAAG\n",
      "54 62 TATATAAA\n",
      "45 53 TATAAAAA\n",
      "69 77 TATATAAA\n"
     ]
    }
   ],
   "source": [
    "TATA = re.compile('TATA[AT]AA[GA]') #パターンをコンパイル AorT  GorA\n",
    "\n",
    "with open(path) as f:\n",
    "    for line in f:\n",
    "        line = line.rstrip()  #改行を削除\n",
    "        if line.startswith('@'): #ヘッダー行をスキップ\n",
    "            continue\n",
    "        s= line.split('\\t') #タブで区切る\n",
    "        sequence = s[9] #10列目を格納\n",
    "\n",
    "        m = TATA.search(sequence) #pattern を検索\n",
    "\n",
    "        if m:\n",
    "            #一致した箇所を出力\n",
    "            print(m.start(), m.end(), m.string[m.start():m.end()])\n",
    "        "
   ]
  },
  {
   "cell_type": "markdown",
   "id": "7c62bf01-78df-42c9-8f29-bacb511b39de",
   "metadata": {},
   "source": [
    "マッチオブジェクトを用いることで、一致した箇所の情報や一致した文字列の抽出が可能となる。m.start(), m.end()はマッチした部分文字列の先頭と末尾のインデックスを返す。"
   ]
  },
  {
   "cell_type": "markdown",
   "id": "57e4efc8-0c2c-4893-853d-a6c20d0bf980",
   "metadata": {},
   "source": [
    "__相補鎖も含めた探索__  \n",
    "TATAボックスを有する配列をreモジュールによる正規表現パターンを用いて探索する。一致箇所を出力する。相補鎖についても探索する。"
   ]
  },
  {
   "cell_type": "code",
   "execution_count": 44,
   "id": "2f42a34a-d707-4f2a-92f4-008bfd4d5afe",
   "metadata": {},
   "outputs": [
    {
     "name": "stdout",
     "output_type": "stream",
     "text": [
      "54 62 TATATAAG\n",
      "14 22 TTTTTATA\n",
      "54 62 TATATAAA\n",
      "89 97 TTTTTATA\n",
      "62 70 TTTTTATA\n",
      "9 17 TTTTTATA\n",
      "45 53 TATAAAAA\n",
      "69 77 TATATAAA\n",
      "75 83 TTTTTATA\n"
     ]
    }
   ],
   "source": [
    "TATA = re.compile('TATA[AT]AA[GA]') #パターンをコンパイル AorT  GorA\n",
    "TATA_rev = re.compile('[CT]TT[AT]TATA') #相補鎖パターンをコンパイル\n",
    "\n",
    "with open(path) as f:\n",
    "    for line in f:\n",
    "        line = line.rstrip()  #改行を削除\n",
    "        if line.startswith('@'): #ヘッダー行をスキップ\n",
    "            continue\n",
    "        s= line.split('\\t') #タブで区切る\n",
    "        sequence = s[9] #10列目を格納\n",
    "\n",
    "        m = TATA.search(sequence) #pattern を検索\n",
    "\n",
    "        if m:\n",
    "            #一致した箇所を出力\n",
    "            print(m.start(), m.end(), m.string[m.start():m.end()])\n",
    "\n",
    "        m = TATA_rev.search(sequence) #相補鎖pattern を検索\n",
    "\n",
    "        if m:\n",
    "            #一致した箇所を出力\n",
    "            print(m.start(), m.end(), m.string[m.start():m.end()])"
   ]
  },
  {
   "cell_type": "markdown",
   "id": "4bd45467-98e7-4608-b60a-3a1d31331f95",
   "metadata": {},
   "source": [
    "配列内にパターンが複数含まれる場合には、findall()やfinditer()によって探索が可能となる。searchは、配列内の最初に出現した一致箇所の情報を取得する。"
   ]
  },
  {
   "cell_type": "markdown",
   "id": "670c5bb5-a9ba-427a-b3cf-4b1cb01bdb30",
   "metadata": {},
   "source": [
    "## 5.5 おわりに  \n",
    "5章では、文字列処理の基本について概説した。GFFやSAMファイルを例にして、ファイルの読み込み/書き込みから情報抽出までを紹介した。これらを駆使すれば、さまざまなファイルから、必要な情報の整理/収集が効率的に実現できる。少しでも研究の幅が広がる一助になれば幸いである。"
   ]
  },
  {
   "cell_type": "code",
   "execution_count": null,
   "id": "aa636c97-3c9e-4b28-9c8c-fa759c45c3f6",
   "metadata": {},
   "outputs": [],
   "source": []
  }
 ],
 "metadata": {
  "kernelspec": {
   "display_name": "Python 3 (ipykernel)",
   "language": "python",
   "name": "python3"
  },
  "language_info": {
   "codemirror_mode": {
    "name": "ipython",
    "version": 3
   },
   "file_extension": ".py",
   "mimetype": "text/x-python",
   "name": "python",
   "nbconvert_exporter": "python",
   "pygments_lexer": "ipython3",
   "version": "3.11.11"
  }
 },
 "nbformat": 4,
 "nbformat_minor": 5
}
