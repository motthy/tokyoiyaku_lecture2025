{
 "cells": [
  {
   "cell_type": "markdown",
   "id": "2a652502-93b9-48fa-b6f2-e1d7b413264f",
   "metadata": {},
   "source": [
    "### 5.3 ファイル読み込み (具体例2: SAM形式) \n",
    "SAMファイルの読み込みを行う。__SAMファイル__ は、@で始まるヘッダー行と各リードのアライメント情報を格納している (表5.7) アライメント情報の各列は、タブ (\\t) で区切られている。  \n",
    "\n",
    "表5.7 SAMファイルのアライメント情報  \n",
    "\n",
    "| 列数 | Field | 情報 | 例 (20行目)  |\n",
    "|--------------|-----------|------|--------|\n",
    "| 1 | QNAME | リード名 | SRR453566.24 |\n",
    "| 2 | FLAG | アライメント情報 | 83 |\n",
    "| 3 | RNAME | リファレンス名 | NC_001139.9 |\n",
    "| 4 | POS | マッピング位置 | 727620 |\n",
    "| 5 | MAPQ | マッピングスコア | 60 |\n",
    "| 6 | CIGAR | マッピングの状況 | 101M |\n",
    "| 7 | RNEXT | ペアエンドリードのマッピングされたリファレンス名<br>=の場合は、同じリファレンス名 | = |\n",
    "| 8 | PNEXT | ペアエンドリードのマッピング位置 | 727518 |\n",
    "| 9 | TLEN  | リード間の距離 | -203 |\n",
    "| 10 | SEQ | リードの塩基配列 | AAGGGTAA.... |\n",
    "| 11 | QUAL | 塩基配列のクォリティデータ | ?DCCDDDD ... |"
   ]
  },
  {
   "cell_type": "code",
   "execution_count": 3,
   "id": "011cafa5-5338-44aa-bfcf-5dfe37c6896d",
   "metadata": {},
   "outputs": [
    {
     "name": "stdout",
     "output_type": "stream",
     "text": [
      "@HD\tVN:1.0\tSO:unsorted\n",
      "@SQ\tSN:NC_001133.9\tLN:230218\n",
      "@SQ\tSN:NC_001134.8\tLN:813184\n",
      "@SQ\tSN:NC_001135.5\tLN:316620\n",
      "@SQ\tSN:NC_001136.10\tLN:1531933\n",
      "@SQ\tSN:NC_001137.3\tLN:576874\n",
      "@SQ\tSN:NC_001138.5\tLN:270161\n",
      "@SQ\tSN:NC_001139.9\tLN:1090940\n",
      "@SQ\tSN:NC_001140.6\tLN:562643\n",
      "@SQ\tSN:NC_001141.2\tLN:439888\n",
      "@SQ\tSN:NC_001142.9\tLN:745751\n",
      "@SQ\tSN:NC_001143.9\tLN:666816\n",
      "@SQ\tSN:NC_001144.5\tLN:1078177\n",
      "@SQ\tSN:NC_001145.3\tLN:924431\n",
      "@SQ\tSN:NC_001146.8\tLN:784333\n",
      "@SQ\tSN:NC_001147.6\tLN:1091291\n",
      "@SQ\tSN:NC_001148.4\tLN:948066\n",
      "@SQ\tSN:NC_001224.1\tLN:85779\n",
      "@PG\tID:hisat2\tPN:hisat2\tVN:2.1.0\tCL:\"/usr/local/pkg/hisat2/2.1.0/hisat2-align-s --wrapper basic-0 -p 4 -x ../reference/hisat/s288c.fna -S SRR453566.sam -1 /tmp/52279.inpipe1 -2 /tmp/52279.inpipe2\"\n",
      "SRR453566.24\t83\tNC_001139.9\t727620\t60\t101M\t=\t727518\t-203\tAAGGGTAAAGCTAAGGGTGATATTCCAGGTGTTAGATTCAAGGTCGTTAAGGTCTCTGGTGTCTCCTTGTTGGCTTTGTGGAAAGAAAAGAAGGAAAAGCC\t?DCCDDDDDDDDDDDDDD@CDCCBEEEDFFFFFHHHHFHJJJJIJJJJJJJJIJGJJJJJJJJJJJJJJJJJJJJJJJJJJJJJJJJJHHHHHFFFFFCCC\tAS:i:0\tXN:i:0\tXM:i:0\tXO:i:0\tXG:i:0\tNM:i:0\tMD:Z:101\tYS:i:0\tYT:Z:CP\tNH:i:1\n",
      "SRR453566.24\t163\tNC_001139.9\t727518\t60\t69M\t=\t727620\t203\tTTAATCAAGAACGGTAAGAAGGTCACTGCTTTCGTTCCAAACGATGGTTGTTTGAACTTTGTCGACGAA\t=DFFFFHHHHGGJIHFHIJJJJHIIJJIFHIJIJJJIJJIJEIHIE?=BFGIGCHGHIIIIIEFFD>AB\tAS:i:0\tXN:i:0\tXM:i:0\tXO:i:0\tXG:i:0\tNM:i:0\tMD:Z:69\tYS:i:0\tYT:Z:CP\tNH:i:1\n",
      "SRR453566.22\t99\tNC_001142.9\t509705\t60\t101M\t=\t509740\t136\tCAAAGCGTAAATAGCACCAAAGCTCAAACGACACTGGTATATTTCAATAAGTCTAACGAAGAGTTGGGACATCGTGAAAACTGCATCGGATTTAAGGATAT\tCCCFFFFFHGHHHJJJJJJJJJJJJJJJJJIJJJJJJGGHIJJJJB?DHGIHJJGGJJGIIIHAEFFFFFDEEDDDDDDDDDDDCDDDDDDDDACCDDDCA\tAS:i:-6\tXN:i:0\tXM:i:1\tXO:i:0\tXG:i:0\tNM:i:1\tMD:Z:41C59\tYS:i:-4\tYT:Z:CP\tNH:i:1\n",
      "SRR453566.22\t147\tNC_001142.9\t509740\t60\t101M\t=\t509705\t-136\tGGTATATTTCAATAAGTCTAACGAAGAGTTGGGACATCGTGAAAACTGCATCGGATTTAAGGATATTATGAATGAATCTCCAATCTCGGTGAAGAAGGCGG\t@DA@:>>>@CDCCCDCC?A@><EEFFCB;AHHHHJJIIIIHGIHFCIIGHEIJIJIGIJGJIJJJJJJIIJJJJJJJJIJJJJJJJJJHHHHHFFFFFCCC\tAS:i:-4\tZS:i:-7\tXN:i:0\tXM:i:1\tXO:i:0\tXG:i:0\tNM:i:1\tMD:Z:6C94\tYS:i:-6\tYT:Z:CP\tNH:i:1\n",
      "SRR453566.23\t99\tNC_001134.8\t674240\t60\t101M\t=\t674286\t131\tTTTTCTTCATATCTTCTATCCTTTTAACAATATGCTTATCTAAACCAACAAAAGCACCCATAATCATGAAAAGAATATTTGAAGTGTCTACAACAAATACT\t@BCFFFFFHHGHHJJGIIJHGIJJJHIJJJJIJJJJJJJJJJJIGIIIIIAGIIJJJIJIGIIJIHHJEEGGGGGDEHFHHGGFDDEFE@;>CCDDBCCDC\tAS:i:-6\tXN:i:0\tXM:i:1\tXO:i:0\tXG:i:0\tNM:i:1\tMD:Z:55T45\tYS:i:-4\tYT:Z:CP\tNH:i:1\n",
      "SRR453566.23\t147\tNC_001134.8\t674286\t60\t85M\t=\t674240\t-131\tAACAAAAGCACCCATAATCATGAAAAGAATATTTGAAGTGTCTACAACAAATACTTCGTCCTTCTTTGTTGTAGTTTGATTTTTT\t??>C>@5(@>EAEECCCB;DDFFFFFGFFHBIJIIHIJIJIHHHGHEIIIIIGJIJIJJJIHIHEHIGGGIGIJHHHHHFFFFD=\tAS:i:-4\tZS:i:-10\tXN:i:0\tXM:i:1\tXO:i:0\tXG:i:0\tNM:i:1\tMD:Z:9T75\tYS:i:-6\tYT:Z:CP\tNH:i:1\n"
     ]
    }
   ],
   "source": [
    "#　ファイルの中身を25行目まで確認する\n",
    "!head -n 25 ./data/SRR453566_10.sam  # 教科書の sam ファイルのtop10件を抜き出したファイル"
   ]
  },
  {
   "cell_type": "code",
   "execution_count": null,
   "id": "0c5bb67e-bd4c-4a1d-b76a-79818c0b6dd7",
   "metadata": {},
   "outputs": [],
   "source": []
  },
  {
   "cell_type": "code",
   "execution_count": null,
   "id": "371f1899-06d2-4953-b1a3-7181f21e126b",
   "metadata": {},
   "outputs": [],
   "source": []
  },
  {
   "cell_type": "code",
   "execution_count": null,
   "id": "8a0990ba-cced-4888-8caa-884b28862a90",
   "metadata": {},
   "outputs": [],
   "source": []
  },
  {
   "cell_type": "markdown",
   "id": "b34c28f4-778c-4750-ab47-9955ea5cb82d",
   "metadata": {},
   "source": [
    "### 5.3.1 ビット演算子  \n",
    "2列目のFLAG情報は、リードのマッピング状況を知ることができる。各情報は下記のように定義されている (表5.8)"
   ]
  },
  {
   "cell_type": "code",
   "execution_count": null,
   "id": "c13c1185-7aa6-4ddd-802f-60cacf3593b8",
   "metadata": {},
   "outputs": [],
   "source": []
  },
  {
   "cell_type": "markdown",
   "id": "6523778c-e3a7-40f9-9836-bd39397759ea",
   "metadata": {},
   "source": [
    "表5.1 バイオインフォマティクスで頻出するファイル形式  \n",
    "| ファイル形式 | 格納情報 | 参照 |\n",
    "|--------------|-----------|------|\n",
    "| GFF3 (Generic Feature Format Version 3) | 遺伝子アノテーション | [gmod.org](https://gmod.org/wiki/GFF3), [GitHub Spec](https://github.com/The-Sequence-Ontology/Specifications/blob/master/gff3.md) |\n",
    "| SAM (Sequence Alignment/Map Format) | NGSリードのマッピング結果 | [SAM Format PDF](https://samtools.github.io/hts-specs/SAMv1.pdf) |\n",
    "| FASTA | DNAやアミノ酸などの配列データ | [Wikipedia (JA)](https://ja.wikipedia.org/wiki/FASTA) |\n",
    "| FASTQ | DNAなどの塩基配列とそのクオリティスコア | [Wikipedia (JA)](https://ja.wikipedia.org/wiki/Fastq) |"
   ]
  },
  {
   "cell_type": "markdown",
   "id": "49f1045b-1dd4-43b2-b226-259cac5ce212",
   "metadata": {},
   "source": [
    "GFF3 や SAM のように、複数列からなるテキストファイルを扱うことが多い。列の区切り文字としては、タブ (\\t)、スペース ( ), カンマ(,) が主に用いられる。FASTA, GFF3 については __第6章__ も参照。"
   ]
  },
  {
   "cell_type": "markdown",
   "id": "74c7d5ba-f647-4247-9c1b-01c666f364fd",
   "metadata": {},
   "source": [
    "表5.2 バイナリファイルの例  \n",
    "| ファイル形式 | 説明 | 参照 |\n",
    "|--------------|-----------|------|\n",
    "| gz | gzip コマンドで圧縮したファイルにつく拡張子 | [Wikipedia (JA)](https://ja.wikipedia.org/wiki/Gzip) |\n",
    "| BAM (Binary Alignment Format) | NGSリードのマッピング結果 | [SAM v1](https://samtools.github.io/hts-specs/SAMv1.pdf) |"
   ]
  },
  {
   "cell_type": "markdown",
   "id": "6ecd4286-d5cf-4555-8c84-04d4c9f5ca70",
   "metadata": {},
   "source": [
    "## 5.2 ファイルの読み書き  \n",
    "プログラムで処理した結果を保存しておきたい場合や、外部からPythonにデータを取り込む場合にファイルを使用する。Pythonでファイルを操作するためには、組み込み型のファイル型を使うことができる。特別な宣言は不要で、open()関数を使用して、ファイルの読み書きを行う。open()関数は、ファイルを開き、対応するファイルオブジェクトを返す。ファイルを開くことができなければ、OSErrorが返される。\n",
    "~~~  \n",
    "open(filename, mode)\n",
    "~~~\n",
    "* filename は、ファイルにつけられた名前の文字列 (パス)\n",
    "* mode は、ファイルのタイプやファイルをどのように操作したいかを知らせるための文字列 (表5.3)\n",
    "\n",
    "open()でファイルを開いたら、close()によってファイルを閉じる必要がある。しかしながら、with構文を使うことによって、close()処理が不要になる。with構文では、ファイルが存在する場合はファイルを開いて処理を実行し、最後にclose()処理も実行される。ファイルが存在しない場合には、実行しない仕組みになっている。  \n",
    "\n",
    "表5.3 open()関数のmode一覧  \n",
    "| mode | 説明 |\n",
    "|--------------|-----------|\n",
    "| r | ファイルを読み込み専用で開く (デフォルト) |\n",
    "| w | ファイルを書き出し専用で開く |\n",
    "| a | ファイルの最後に追記 |\n",
    "| x | ファイルを書き出し専用で開く<br>(ただしふぁいるが存在しない場合のみ) |\n",
    "| + | 読み込みと書き込みの両方を可能とする「r+」「w+」 |\n",
    "| b | ファイルをバイナリモードで開く |"
   ]
  },
  {
   "cell_type": "markdown",
   "id": "ec652862-b6ce-4bb2-aa13-aa584f32a503",
   "metadata": {},
   "source": [
    "### 5.2.1 ファイルを読み込む  \n",
    "ファイルの読み込みはopen()を使用する。asに続く変数にファイルオブジェクトが代入される。　　\n",
    "~~~\n",
    "with open(filename, 'r') as f: # 'r'は省略可\n",
    "~~~"
   ]
  },
  {
   "cell_type": "markdown",
   "id": "b861a7b1-6101-44a1-a50c-b9396131a260",
   "metadata": {},
   "source": [
    "### 5.2.2 ファイルを書き込む  \n",
    "ファイルの書き込みは、読み込み同様open()を使用する。ただし、mode='w'とする  \n",
    "~~~\n",
    "with open(filename, 'w') as f:\n",
    "~~~"
   ]
  },
  {
   "cell_type": "markdown",
   "id": "ca034105-a6f3-4471-85d8-3c6102b311cd",
   "metadata": {},
   "source": [
    "### 5.2.3 改行コード  \n",
    "__改行コード__とは、改行を表す制御文字である。文字列の中で改行がある部分に対して、改行を指示する文字コードになる。OS (システム) で改行コードが異なる。(表5.4)  \n",
    "\n",
    "表5.4 システムごとの改行コード  \n",
    "| 改行コード | 見え方 |システム|\n",
    "|--------------|-----------|------|\n",
    "| CR | \\r | macOS (≦ 9) |\n",
    "| LF | \\n | Unix, macOS |\n",
    "| CR+LF | \\r\\n | Windowns |\n"
   ]
  },
  {
   "cell_type": "markdown",
   "id": "851e87dc-9e12-467d-bfbd-2765c311ec97",
   "metadata": {},
   "source": [
    "### 5.2.4 ファイル読み込み (具体例 1: GFF3形式)  \n",
    "data/ ディレクトリの中に　s288c_n20.gff と SRR453566_10.sam を置いてあるので、そのデータを使ってファイルの読み込みを学習していく。  \n",
    "まずは、酵母の GFF ファイル s288c_n20.gff (最初の20行だけを抽出) を題材として、ファイル読み込みを行う。"
   ]
  },
  {
   "cell_type": "code",
   "execution_count": 4,
   "id": "a430735d-3ad9-4cfd-a1ab-bad54b6c1e7e",
   "metadata": {},
   "outputs": [
    {
     "name": "stdout",
     "output_type": "stream",
     "text": [
      "##gff-version 3\n",
      "#!gff-spec-version 1.21\n",
      "#!processor NCBI annotwriter\n",
      "#!genome-build R64\n",
      "#!genome-build-accession NCBI_Assembly:GCF_000146045.2\n",
      "#!annotation-source SGD R64-2-1\n",
      "##sequence-region NC_001133.9 1 230218\n",
      "##species https://www.ncbi.nlm.nih.gov/Taxonomy/Browser/wwwtax.cgi?id=559292\n",
      "NC_001133.9\tRefSeq\tregion\t1\t230218\t.\t+\t.\tID=id0;Dbxref=taxon:559292;Name=I;chromosome=I;gbkey=Src;genome=chromosome;mol_type=genomic DNA;strain=S288C\n",
      "NC_001133.9\tRefSeq\ttelomere\t1\t801\t.\t-\t.\tID=id1;Dbxref=SGD:S000028862;Note=TEL01L%3B Telomeric region on the left arm of Chromosome I%3B composed of an X element core sequence%2C X element combinatorial repeats%2C and a short terminal stretch of telomeric repeats;gbkey=telomere\n",
      "NC_001133.9\tRefSeq\torigin_of_replication\t707\t776\t.\t+\t.\tID=id2;Dbxref=SGD:S000121252;Note=ARS102~Autonomously Replicating Sequence;gbkey=rep_origin\n",
      "NC_001133.9\tRefSeq\tgene\t1807\t2169\t.\t-\t.\tID=gene0;Dbxref=GeneID:851229;Name=PAU8;end_range=2169,.;gbkey=Gene;gene=PAU8;gene_biotype=protein_coding;locus_tag=YAL068C;partial=true;start_range=.,1807\n",
      "NC_001133.9\tRefSeq\tmRNA\t1807\t2169\t.\t-\t.\tID=rna0;Parent=gene0;Dbxref=GeneID:851229,Genbank:NM_001180043.1;Name=NM_001180043.1;end_range=2169,.;gbkey=mRNA;gene=PAU8;partial=true;product=seripauperin PAU8;start_range=.,1807;transcript_id=NM_001180043.1\n",
      "NC_001133.9\tRefSeq\texon\t1807\t2169\t.\t-\t.\tID=id3;Parent=rna0;Dbxref=GeneID:851229,Genbank:NM_001180043.1;end_range=2169,.;gbkey=mRNA;gene=PAU8;partial=true;product=seripauperin PAU8;start_range=.,1807;transcript_id=NM_001180043.1\n",
      "NC_001133.9\tRefSeq\tCDS\t1807\t2169\t.\t-\t0\tID=cds0;Parent=rna0;Dbxref=SGD:S000002142,GeneID:851229,Genbank:NP_009332.1;Name=NP_009332.1;Note=hypothetical protein%3B member of the seripauperin multigene family encoded mainly in subtelomeric regions;gbkey=CDS;gene=PAU8;product=seripauperin PAU8;protein_id=NP_009332.1\n",
      "NC_001133.9\tRefSeq\tgene\t2480\t2707\t.\t+\t.\tID=gene1;Dbxref=GeneID:1466426;Name=YAL067W-A;end_range=2707,.;gbkey=Gene;gene_biotype=protein_coding;locus_tag=YAL067W-A;partial=true;start_range=.,2480\n",
      "NC_001133.9\tRefSeq\tmRNA\t2480\t2707\t.\t+\t.\tID=rna1;Parent=gene1;Dbxref=GeneID:1466426,Genbank:NM_001184582.1;Name=NM_001184582.1;end_range=2707,.;gbkey=mRNA;partial=true;product=hypothetical protein;start_range=.,2480;transcript_id=NM_001184582.1\n",
      "NC_001133.9\tRefSeq\texon\t2480\t2707\t.\t+\t.\tID=id4;Parent=rna1;Dbxref=GeneID:1466426,Genbank:NM_001184582.1;end_range=2707,.;gbkey=mRNA;partial=true;product=hypothetical protein;start_range=.,2480;transcript_id=NM_001184582.1\n",
      "NC_001133.9\tRefSeq\tCDS\t2480\t2707\t.\t+\t0\tID=cds1;Parent=rna1;Dbxref=SGD:S000028593,GeneID:1466426,Genbank:NP_878038.1;Name=NP_878038.1;Note=hypothetical protein%3B identified by gene-trapping%2C microarray-based expression analysis%2C and genome-wide homology searching;gbkey=CDS;product=hypothetical protein;protein_id=NP_878038.1\n",
      "NC_001133.9\tRefSeq\tgene\t7235\t9016\t.\t-\t.\tID=gene2;Dbxref=GeneID:851230;Name=SEO1;end_range=9016,.;gbkey=Gene;gene=SEO1;gene_biotype=protein_coding;locus_tag=YAL067C;partial=true;start_range=.,7235\n"
     ]
    }
   ],
   "source": [
    "%cat data/s288c_n20.gff"
   ]
  },
  {
   "cell_type": "markdown",
   "id": "daf0df46-c13f-4c8c-b82c-c24dedb63a3a",
   "metadata": {},
   "source": [
    "GFF ファイルは9列からなるテキストファイルで、各列はタブ (\\t) で区切られている。  \n",
    "  \n",
    "表5.5 GFF3の各列の情報  \n",
    "| 列数 | 名前 | 情報 | 例 (19行目) |\n",
    "|--------------|-----------|------|------|\n",
    "| 1 | seqid | 染色体名やスキャフォールド名 | NC_001133.9 |\n",
    "| 2 | source | プロジェクト名やソフトウェア名など自由に記載 | RefSeq |\n",
    "| 3 | type | 属性型 | CDS |\n",
    "| 4 | start | 開始位置 | 2480 |\n",
    "| 5 | end | 終点位置 | 2707 |\n",
    "| 6 | score | スコア (.はスコアなし) | . |\n",
    "| 7 | strand | ストランドの向き | + |\n",
    "| 8 | phase | 読み枠に関する情報 (0,1,2)<br>CDS feature の場合には必須 | 0 |\n",
    "| 9 | attributes | 付属情報 (セミコロン (;) 区切り)<br>%エンコーディング (URLエンコード) | ID=cds1;Parent=rna1;Dbxref=SGD:S000028593,GeneID:1466426.. |  \n",
    "\n",
    "19行目のattributes は以下のようになっている。詳細に見てみよう。 (表5.6)\n",
    "\n",
    "ID=cds1;Parent=rna1;Dbxref=SGD:S000028593,GeneID:1466426,Genbank:NP_878038.1;Name=NP_878038.1;Note=hypothetical protein%3B identified by gene-trapping%2C microarray-based expression analysis%2C and genome-wide homology searching;gbkey=CDS;product=hypothetical protein;protein_id=NP_878038.1  \n",
    "\n",
    "表5.6 attributesの詳細\n",
    "| タグ | 情報 |\n",
    "|-----|------|\n",
    "| ID | cds1 |\n",
    "| Parent | rna1 |\n",
    "| Dbxref | SGD:S000028593,GeneID:1466426,Genbank:NP_878038.1 |\n",
    "| Name | NP_878038.1 |\n",
    "| Note | hypothetical protein%3B identified by gene-trapping%2C microarray-based expression analysis%2C and genome-wide homology searching |\n",
    "| gbkey | CDS |\n",
    "| product | hypothetical protein |\n",
    "| protein_id | NP_878038.1 |  \n",
    "\n",
    "  Note は URL エンコーディング記法が採用されている。  \n",
    "  URL を使用できない文字 (セミコロン、カンマなど) を他の文字列でエスケープして表現する記法"
   ]
  },
  {
   "cell_type": "markdown",
   "id": "60255f00-b0be-4376-8a9a-b64631ddf3b0",
   "metadata": {},
   "source": [
    "__1行目のみの読み込み__  \n",
    "さっそくファイルを読み込んでみる。s288c_n20.gff を読み込んで出力する。1行目だけ出力する。"
   ]
  },
  {
   "cell_type": "code",
   "execution_count": 5,
   "id": "66df7be7-6ceb-4ed9-b0ac-f59cde85eeeb",
   "metadata": {},
   "outputs": [
    {
     "name": "stdout",
     "output_type": "stream",
     "text": [
      "##gff-version 3\n",
      "\n"
     ]
    }
   ],
   "source": [
    "path = './data/s288c_n20.gff'\n",
    "with open(path) as f: #ファイルオープン\n",
    "    line = f.readline() #1行読み込み\n",
    "    print(line) #出力"
   ]
  },
  {
   "cell_type": "markdown",
   "id": "9a6ac192-fd0a-4d67-b90e-5f2691f5845e",
   "metadata": {},
   "source": [
    "1行目##gff-version 3が読み込まれた。readline()メソッドは、ファイルから1行読み込み、文字列を返す。テキストファイルをプログラムで処理する場合は、1行ごとに読み込んで処理することが多いため、readline()メソッドを用いた例を紹介している。read()メソッドは、ファイル全体を読み込むことが可能だが、ファイルサイズが大きい場合には、計算機のメモリを圧迫する可能性があることから注意が必要になる。"
   ]
  },
  {
   "cell_type": "markdown",
   "id": "7c8b2f80-3364-4437-a9b6-2baa88a56583",
   "metadata": {},
   "source": [
    "__ファイル全体の読み込み__  \n",
    "1行目だけではなく、ファイル全体を読み込んでみる。s288c_n20.gff を読み込んで出力する。  "
   ]
  },
  {
   "cell_type": "code",
   "execution_count": 7,
   "id": "c8f40a2d-fa79-43a9-87ce-0732183eb9e5",
   "metadata": {},
   "outputs": [
    {
     "name": "stdout",
     "output_type": "stream",
     "text": [
      "##gff-version 3\n",
      "\n",
      "#!gff-spec-version 1.21\n",
      "\n",
      "#!processor NCBI annotwriter\n",
      "\n",
      "#!genome-build R64\n",
      "\n",
      "#!genome-build-accession NCBI_Assembly:GCF_000146045.2\n",
      "\n",
      "#!annotation-source SGD R64-2-1\n",
      "\n",
      "##sequence-region NC_001133.9 1 230218\n",
      "\n",
      "##species https://www.ncbi.nlm.nih.gov/Taxonomy/Browser/wwwtax.cgi?id=559292\n",
      "\n",
      "NC_001133.9\tRefSeq\tregion\t1\t230218\t.\t+\t.\tID=id0;Dbxref=taxon:559292;Name=I;chromosome=I;gbkey=Src;genome=chromosome;mol_type=genomic DNA;strain=S288C\n",
      "\n",
      "NC_001133.9\tRefSeq\ttelomere\t1\t801\t.\t-\t.\tID=id1;Dbxref=SGD:S000028862;Note=TEL01L%3B Telomeric region on the left arm of Chromosome I%3B composed of an X element core sequence%2C X element combinatorial repeats%2C and a short terminal stretch of telomeric repeats;gbkey=telomere\n",
      "\n",
      "NC_001133.9\tRefSeq\torigin_of_replication\t707\t776\t.\t+\t.\tID=id2;Dbxref=SGD:S000121252;Note=ARS102~Autonomously Replicating Sequence;gbkey=rep_origin\n",
      "\n",
      "NC_001133.9\tRefSeq\tgene\t1807\t2169\t.\t-\t.\tID=gene0;Dbxref=GeneID:851229;Name=PAU8;end_range=2169,.;gbkey=Gene;gene=PAU8;gene_biotype=protein_coding;locus_tag=YAL068C;partial=true;start_range=.,1807\n",
      "\n",
      "NC_001133.9\tRefSeq\tmRNA\t1807\t2169\t.\t-\t.\tID=rna0;Parent=gene0;Dbxref=GeneID:851229,Genbank:NM_001180043.1;Name=NM_001180043.1;end_range=2169,.;gbkey=mRNA;gene=PAU8;partial=true;product=seripauperin PAU8;start_range=.,1807;transcript_id=NM_001180043.1\n",
      "\n",
      "NC_001133.9\tRefSeq\texon\t1807\t2169\t.\t-\t.\tID=id3;Parent=rna0;Dbxref=GeneID:851229,Genbank:NM_001180043.1;end_range=2169,.;gbkey=mRNA;gene=PAU8;partial=true;product=seripauperin PAU8;start_range=.,1807;transcript_id=NM_001180043.1\n",
      "\n",
      "NC_001133.9\tRefSeq\tCDS\t1807\t2169\t.\t-\t0\tID=cds0;Parent=rna0;Dbxref=SGD:S000002142,GeneID:851229,Genbank:NP_009332.1;Name=NP_009332.1;Note=hypothetical protein%3B member of the seripauperin multigene family encoded mainly in subtelomeric regions;gbkey=CDS;gene=PAU8;product=seripauperin PAU8;protein_id=NP_009332.1\n",
      "\n",
      "NC_001133.9\tRefSeq\tgene\t2480\t2707\t.\t+\t.\tID=gene1;Dbxref=GeneID:1466426;Name=YAL067W-A;end_range=2707,.;gbkey=Gene;gene_biotype=protein_coding;locus_tag=YAL067W-A;partial=true;start_range=.,2480\n",
      "\n",
      "NC_001133.9\tRefSeq\tmRNA\t2480\t2707\t.\t+\t.\tID=rna1;Parent=gene1;Dbxref=GeneID:1466426,Genbank:NM_001184582.1;Name=NM_001184582.1;end_range=2707,.;gbkey=mRNA;partial=true;product=hypothetical protein;start_range=.,2480;transcript_id=NM_001184582.1\n",
      "\n",
      "NC_001133.9\tRefSeq\texon\t2480\t2707\t.\t+\t.\tID=id4;Parent=rna1;Dbxref=GeneID:1466426,Genbank:NM_001184582.1;end_range=2707,.;gbkey=mRNA;partial=true;product=hypothetical protein;start_range=.,2480;transcript_id=NM_001184582.1\n",
      "\n",
      "NC_001133.9\tRefSeq\tCDS\t2480\t2707\t.\t+\t0\tID=cds1;Parent=rna1;Dbxref=SGD:S000028593,GeneID:1466426,Genbank:NP_878038.1;Name=NP_878038.1;Note=hypothetical protein%3B identified by gene-trapping%2C microarray-based expression analysis%2C and genome-wide homology searching;gbkey=CDS;product=hypothetical protein;protein_id=NP_878038.1\n",
      "\n",
      "NC_001133.9\tRefSeq\tgene\t7235\t9016\t.\t-\t.\tID=gene2;Dbxref=GeneID:851230;Name=SEO1;end_range=9016,.;gbkey=Gene;gene=SEO1;gene_biotype=protein_coding;locus_tag=YAL067C;partial=true;start_range=.,7235\n",
      "\n"
     ]
    }
   ],
   "source": [
    "with open(path) as f:\n",
    "    for line in f:\n",
    "        print(line)"
   ]
  },
  {
   "cell_type": "markdown",
   "id": "20f9d761-89d3-4bb8-b26b-c46f82bf9e76",
   "metadata": {},
   "source": [
    "forループを使い、ファイルから1行ずつ読み込み、出力した。出力結果には空行が追加されている。print(line, end='')とすることで、改行コードを付与しない出力も可能だが、次に示す方法の方がよく使われるかもしれない。"
   ]
  },
  {
   "cell_type": "markdown",
   "id": "0a3782c7-2025-4322-91fc-b5bc6d4fff72",
   "metadata": {},
   "source": [
    "__改行コードを削除した読み込み__  \n",
    "s299c_n20.gff を読み込んで出力する。改行コードの削除を実行する。"
   ]
  },
  {
   "cell_type": "code",
   "execution_count": 9,
   "id": "592cfd18-138e-4d41-ac64-b68c8d7c5fde",
   "metadata": {},
   "outputs": [
    {
     "name": "stdout",
     "output_type": "stream",
     "text": [
      "##gff-version 3\n",
      "#!gff-spec-version 1.21\n",
      "#!processor NCBI annotwriter\n",
      "#!genome-build R64\n",
      "#!genome-build-accession NCBI_Assembly:GCF_000146045.2\n",
      "#!annotation-source SGD R64-2-1\n",
      "##sequence-region NC_001133.9 1 230218\n",
      "##species https://www.ncbi.nlm.nih.gov/Taxonomy/Browser/wwwtax.cgi?id=559292\n",
      "NC_001133.9\tRefSeq\tregion\t1\t230218\t.\t+\t.\tID=id0;Dbxref=taxon:559292;Name=I;chromosome=I;gbkey=Src;genome=chromosome;mol_type=genomic DNA;strain=S288C\n",
      "NC_001133.9\tRefSeq\ttelomere\t1\t801\t.\t-\t.\tID=id1;Dbxref=SGD:S000028862;Note=TEL01L%3B Telomeric region on the left arm of Chromosome I%3B composed of an X element core sequence%2C X element combinatorial repeats%2C and a short terminal stretch of telomeric repeats;gbkey=telomere\n",
      "NC_001133.9\tRefSeq\torigin_of_replication\t707\t776\t.\t+\t.\tID=id2;Dbxref=SGD:S000121252;Note=ARS102~Autonomously Replicating Sequence;gbkey=rep_origin\n",
      "NC_001133.9\tRefSeq\tgene\t1807\t2169\t.\t-\t.\tID=gene0;Dbxref=GeneID:851229;Name=PAU8;end_range=2169,.;gbkey=Gene;gene=PAU8;gene_biotype=protein_coding;locus_tag=YAL068C;partial=true;start_range=.,1807\n",
      "NC_001133.9\tRefSeq\tmRNA\t1807\t2169\t.\t-\t.\tID=rna0;Parent=gene0;Dbxref=GeneID:851229,Genbank:NM_001180043.1;Name=NM_001180043.1;end_range=2169,.;gbkey=mRNA;gene=PAU8;partial=true;product=seripauperin PAU8;start_range=.,1807;transcript_id=NM_001180043.1\n",
      "NC_001133.9\tRefSeq\texon\t1807\t2169\t.\t-\t.\tID=id3;Parent=rna0;Dbxref=GeneID:851229,Genbank:NM_001180043.1;end_range=2169,.;gbkey=mRNA;gene=PAU8;partial=true;product=seripauperin PAU8;start_range=.,1807;transcript_id=NM_001180043.1\n",
      "NC_001133.9\tRefSeq\tCDS\t1807\t2169\t.\t-\t0\tID=cds0;Parent=rna0;Dbxref=SGD:S000002142,GeneID:851229,Genbank:NP_009332.1;Name=NP_009332.1;Note=hypothetical protein%3B member of the seripauperin multigene family encoded mainly in subtelomeric regions;gbkey=CDS;gene=PAU8;product=seripauperin PAU8;protein_id=NP_009332.1\n",
      "NC_001133.9\tRefSeq\tgene\t2480\t2707\t.\t+\t.\tID=gene1;Dbxref=GeneID:1466426;Name=YAL067W-A;end_range=2707,.;gbkey=Gene;gene_biotype=protein_coding;locus_tag=YAL067W-A;partial=true;start_range=.,2480\n",
      "NC_001133.9\tRefSeq\tmRNA\t2480\t2707\t.\t+\t.\tID=rna1;Parent=gene1;Dbxref=GeneID:1466426,Genbank:NM_001184582.1;Name=NM_001184582.1;end_range=2707,.;gbkey=mRNA;partial=true;product=hypothetical protein;start_range=.,2480;transcript_id=NM_001184582.1\n",
      "NC_001133.9\tRefSeq\texon\t2480\t2707\t.\t+\t.\tID=id4;Parent=rna1;Dbxref=GeneID:1466426,Genbank:NM_001184582.1;end_range=2707,.;gbkey=mRNA;partial=true;product=hypothetical protein;start_range=.,2480;transcript_id=NM_001184582.1\n",
      "NC_001133.9\tRefSeq\tCDS\t2480\t2707\t.\t+\t0\tID=cds1;Parent=rna1;Dbxref=SGD:S000028593,GeneID:1466426,Genbank:NP_878038.1;Name=NP_878038.1;Note=hypothetical protein%3B identified by gene-trapping%2C microarray-based expression analysis%2C and genome-wide homology searching;gbkey=CDS;product=hypothetical protein;protein_id=NP_878038.1\n",
      "NC_001133.9\tRefSeq\tgene\t7235\t9016\t.\t-\t.\tID=gene2;Dbxref=GeneID:851230;Name=SEO1;end_range=9016,.;gbkey=Gene;gene=SEO1;gene_biotype=protein_coding;locus_tag=YAL067C;partial=true;start_range=.,7235\n"
     ]
    }
   ],
   "source": [
    "with open(path) as f:\n",
    "    for line in f:\n",
    "        line = line.rstrip() #改行コードの削除\n",
    "        print(line)"
   ]
  },
  {
   "cell_type": "markdown",
   "id": "36221d64-a5ca-474f-b342-1aa9c23d4ff7",
   "metadata": {},
   "source": [
    "これで元のファイルと同じ出力結果になった。str.rstrip()メソッドは、引数に何も指定しない場合は、文字列の末尾部分の空白文字 (スペース (space), タブ (tab), 改行 (linefeed), 復帰 (return), 改ページ(formfeed), 垂直タブ (vertival tab, 現代ではほとんど使われない) を除去する。例えば、行末の文字列を対象として文字列一致においては、空白文字の有無によって意図しない結果となることもある。そのため、人の目に見えない末尾の空白文字は、最初に削除して処理した方がいい。 "
   ]
  },
  {
   "cell_type": "markdown",
   "id": "b3cf24f3-bfbd-40e2-b39b-53b5d7e095fc",
   "metadata": {},
   "source": [
    "__#で始まる行のみの読み込み__  \n",
    "目的とする情報のみを抽出することもできる。s288c_n20.gff を読み込んで出力する。改行コードの削除を実行する。#で始まる行だけを出力する。"
   ]
  },
  {
   "cell_type": "code",
   "execution_count": 10,
   "id": "5708f1b5-340b-4799-98b8-24579090f910",
   "metadata": {},
   "outputs": [
    {
     "name": "stdout",
     "output_type": "stream",
     "text": [
      "##gff-version 3\n",
      "#!gff-spec-version 1.21\n",
      "#!processor NCBI annotwriter\n",
      "#!genome-build R64\n",
      "#!genome-build-accession NCBI_Assembly:GCF_000146045.2\n",
      "#!annotation-source SGD R64-2-1\n",
      "##sequence-region NC_001133.9 1 230218\n",
      "##species https://www.ncbi.nlm.nih.gov/Taxonomy/Browser/wwwtax.cgi?id=559292\n"
     ]
    }
   ],
   "source": [
    "with open(path) as f:\n",
    "    for line in f:\n",
    "        line = line.rstrip() #改行コードの削除\n",
    "\n",
    "        if line.startswith('#'):   # #で始まるかどうか\n",
    "            print(line)"
   ]
  },
  {
   "cell_type": "markdown",
   "id": "329d1479-85fc-437b-81e1-7c298875f218",
   "metadata": {},
   "source": [
    "#で始まるヘッダー行だけを抽出することができた。"
   ]
  },
  {
   "cell_type": "markdown",
   "id": "77414243-bd66-4b7c-bc03-8907f992f2ca",
   "metadata": {},
   "source": [
    "__#で始まる行以外の読み込み__  \n",
    "s288c_n20.gff を読み込んで出力する。改行コードの削除を実行する。#で始まる行以外を出力する"
   ]
  },
  {
   "cell_type": "code",
   "execution_count": 11,
   "id": "111495b8-0099-463a-b3d9-a6295c9aa1f6",
   "metadata": {},
   "outputs": [
    {
     "name": "stdout",
     "output_type": "stream",
     "text": [
      "NC_001133.9\tRefSeq\tregion\t1\t230218\t.\t+\t.\tID=id0;Dbxref=taxon:559292;Name=I;chromosome=I;gbkey=Src;genome=chromosome;mol_type=genomic DNA;strain=S288C\n",
      "NC_001133.9\tRefSeq\ttelomere\t1\t801\t.\t-\t.\tID=id1;Dbxref=SGD:S000028862;Note=TEL01L%3B Telomeric region on the left arm of Chromosome I%3B composed of an X element core sequence%2C X element combinatorial repeats%2C and a short terminal stretch of telomeric repeats;gbkey=telomere\n",
      "NC_001133.9\tRefSeq\torigin_of_replication\t707\t776\t.\t+\t.\tID=id2;Dbxref=SGD:S000121252;Note=ARS102~Autonomously Replicating Sequence;gbkey=rep_origin\n",
      "NC_001133.9\tRefSeq\tgene\t1807\t2169\t.\t-\t.\tID=gene0;Dbxref=GeneID:851229;Name=PAU8;end_range=2169,.;gbkey=Gene;gene=PAU8;gene_biotype=protein_coding;locus_tag=YAL068C;partial=true;start_range=.,1807\n",
      "NC_001133.9\tRefSeq\tmRNA\t1807\t2169\t.\t-\t.\tID=rna0;Parent=gene0;Dbxref=GeneID:851229,Genbank:NM_001180043.1;Name=NM_001180043.1;end_range=2169,.;gbkey=mRNA;gene=PAU8;partial=true;product=seripauperin PAU8;start_range=.,1807;transcript_id=NM_001180043.1\n",
      "NC_001133.9\tRefSeq\texon\t1807\t2169\t.\t-\t.\tID=id3;Parent=rna0;Dbxref=GeneID:851229,Genbank:NM_001180043.1;end_range=2169,.;gbkey=mRNA;gene=PAU8;partial=true;product=seripauperin PAU8;start_range=.,1807;transcript_id=NM_001180043.1\n",
      "NC_001133.9\tRefSeq\tCDS\t1807\t2169\t.\t-\t0\tID=cds0;Parent=rna0;Dbxref=SGD:S000002142,GeneID:851229,Genbank:NP_009332.1;Name=NP_009332.1;Note=hypothetical protein%3B member of the seripauperin multigene family encoded mainly in subtelomeric regions;gbkey=CDS;gene=PAU8;product=seripauperin PAU8;protein_id=NP_009332.1\n",
      "NC_001133.9\tRefSeq\tgene\t2480\t2707\t.\t+\t.\tID=gene1;Dbxref=GeneID:1466426;Name=YAL067W-A;end_range=2707,.;gbkey=Gene;gene_biotype=protein_coding;locus_tag=YAL067W-A;partial=true;start_range=.,2480\n",
      "NC_001133.9\tRefSeq\tmRNA\t2480\t2707\t.\t+\t.\tID=rna1;Parent=gene1;Dbxref=GeneID:1466426,Genbank:NM_001184582.1;Name=NM_001184582.1;end_range=2707,.;gbkey=mRNA;partial=true;product=hypothetical protein;start_range=.,2480;transcript_id=NM_001184582.1\n",
      "NC_001133.9\tRefSeq\texon\t2480\t2707\t.\t+\t.\tID=id4;Parent=rna1;Dbxref=GeneID:1466426,Genbank:NM_001184582.1;end_range=2707,.;gbkey=mRNA;partial=true;product=hypothetical protein;start_range=.,2480;transcript_id=NM_001184582.1\n",
      "NC_001133.9\tRefSeq\tCDS\t2480\t2707\t.\t+\t0\tID=cds1;Parent=rna1;Dbxref=SGD:S000028593,GeneID:1466426,Genbank:NP_878038.1;Name=NP_878038.1;Note=hypothetical protein%3B identified by gene-trapping%2C microarray-based expression analysis%2C and genome-wide homology searching;gbkey=CDS;product=hypothetical protein;protein_id=NP_878038.1\n",
      "NC_001133.9\tRefSeq\tgene\t7235\t9016\t.\t-\t.\tID=gene2;Dbxref=GeneID:851230;Name=SEO1;end_range=9016,.;gbkey=Gene;gene=SEO1;gene_biotype=protein_coding;locus_tag=YAL067C;partial=true;start_range=.,7235\n"
     ]
    }
   ],
   "source": [
    "with open(path) as f:\n",
    "    for line in f:\n",
    "        line = line.rstrip() #改行コードの削除\n",
    "\n",
    "        if line.startswith('#'):   # #で始まるかどうか\n",
    "            continue\n",
    "        print(line)"
   ]
  },
  {
   "cell_type": "markdown",
   "id": "1e47a789-b94e-490a-9682-d7fe64f87ce6",
   "metadata": {},
   "source": [
    "__特定の列のみの読み込み__  \n",
    "s288c_n20.gffを読み込んで出力する。改行コードの削除を実行する。#で始まる行以外を出力する。9列目のデータのみを出力する。"
   ]
  },
  {
   "cell_type": "code",
   "execution_count": 13,
   "id": "07324a75-6ce8-4162-bfdc-c1fef3de6ed4",
   "metadata": {},
   "outputs": [
    {
     "name": "stdout",
     "output_type": "stream",
     "text": [
      "ID=id0;Dbxref=taxon:559292;Name=I;chromosome=I;gbkey=Src;genome=chromosome;mol_type=genomic DNA;strain=S288C\n",
      "ID=id1;Dbxref=SGD:S000028862;Note=TEL01L%3B Telomeric region on the left arm of Chromosome I%3B composed of an X element core sequence%2C X element combinatorial repeats%2C and a short terminal stretch of telomeric repeats;gbkey=telomere\n",
      "ID=id2;Dbxref=SGD:S000121252;Note=ARS102~Autonomously Replicating Sequence;gbkey=rep_origin\n",
      "ID=gene0;Dbxref=GeneID:851229;Name=PAU8;end_range=2169,.;gbkey=Gene;gene=PAU8;gene_biotype=protein_coding;locus_tag=YAL068C;partial=true;start_range=.,1807\n",
      "ID=rna0;Parent=gene0;Dbxref=GeneID:851229,Genbank:NM_001180043.1;Name=NM_001180043.1;end_range=2169,.;gbkey=mRNA;gene=PAU8;partial=true;product=seripauperin PAU8;start_range=.,1807;transcript_id=NM_001180043.1\n",
      "ID=id3;Parent=rna0;Dbxref=GeneID:851229,Genbank:NM_001180043.1;end_range=2169,.;gbkey=mRNA;gene=PAU8;partial=true;product=seripauperin PAU8;start_range=.,1807;transcript_id=NM_001180043.1\n",
      "ID=cds0;Parent=rna0;Dbxref=SGD:S000002142,GeneID:851229,Genbank:NP_009332.1;Name=NP_009332.1;Note=hypothetical protein%3B member of the seripauperin multigene family encoded mainly in subtelomeric regions;gbkey=CDS;gene=PAU8;product=seripauperin PAU8;protein_id=NP_009332.1\n",
      "ID=gene1;Dbxref=GeneID:1466426;Name=YAL067W-A;end_range=2707,.;gbkey=Gene;gene_biotype=protein_coding;locus_tag=YAL067W-A;partial=true;start_range=.,2480\n",
      "ID=rna1;Parent=gene1;Dbxref=GeneID:1466426,Genbank:NM_001184582.1;Name=NM_001184582.1;end_range=2707,.;gbkey=mRNA;partial=true;product=hypothetical protein;start_range=.,2480;transcript_id=NM_001184582.1\n",
      "ID=id4;Parent=rna1;Dbxref=GeneID:1466426,Genbank:NM_001184582.1;end_range=2707,.;gbkey=mRNA;partial=true;product=hypothetical protein;start_range=.,2480;transcript_id=NM_001184582.1\n",
      "ID=cds1;Parent=rna1;Dbxref=SGD:S000028593,GeneID:1466426,Genbank:NP_878038.1;Name=NP_878038.1;Note=hypothetical protein%3B identified by gene-trapping%2C microarray-based expression analysis%2C and genome-wide homology searching;gbkey=CDS;product=hypothetical protein;protein_id=NP_878038.1\n",
      "ID=gene2;Dbxref=GeneID:851230;Name=SEO1;end_range=9016,.;gbkey=Gene;gene=SEO1;gene_biotype=protein_coding;locus_tag=YAL067C;partial=true;start_range=.,7235\n"
     ]
    }
   ],
   "source": [
    "with open(path) as f:\n",
    "    for line in f:\n",
    "        line = line.rstrip() #改行コードの削除\n",
    "\n",
    "        if line.startswith('#'):   # #で始まるかどうか\n",
    "            continue\n",
    "        s = line.split('\\t') # タブで区切る\n",
    "        print(s[8])"
   ]
  },
  {
   "cell_type": "markdown",
   "id": "e2fd31ce-0053-455a-9264-0e18af57f518",
   "metadata": {},
   "source": [
    "__;で区切る読み込み__  \n",
    "s288c_n20.gff を読み込んで出力する。改行コードの削除を実行する。#で始まる行以外を出力する。9列目のデータのみを出力する。"
   ]
  },
  {
   "cell_type": "code",
   "execution_count": 16,
   "id": "05c9e740-5223-474a-90cb-62912745862e",
   "metadata": {},
   "outputs": [
    {
     "name": "stdout",
     "output_type": "stream",
     "text": [
      "ID=id0\n",
      "Dbxref=taxon:559292\n",
      "Name=I\n",
      "chromosome=I\n",
      "gbkey=Src\n",
      "genome=chromosome\n",
      "mol_type=genomic DNA\n",
      "strain=S288C\n",
      "ID=id1\n",
      "Dbxref=SGD:S000028862\n",
      "Note=TEL01L%3B Telomeric region on the left arm of Chromosome I%3B composed of an X element core sequence%2C X element combinatorial repeats%2C and a short terminal stretch of telomeric repeats\n",
      "gbkey=telomere\n",
      "ID=id2\n",
      "Dbxref=SGD:S000121252\n",
      "Note=ARS102~Autonomously Replicating Sequence\n",
      "gbkey=rep_origin\n",
      "ID=gene0\n",
      "Dbxref=GeneID:851229\n",
      "Name=PAU8\n",
      "end_range=2169,.\n",
      "gbkey=Gene\n",
      "gene=PAU8\n",
      "gene_biotype=protein_coding\n",
      "locus_tag=YAL068C\n",
      "partial=true\n",
      "start_range=.,1807\n",
      "ID=rna0\n",
      "Parent=gene0\n",
      "Dbxref=GeneID:851229,Genbank:NM_001180043.1\n",
      "Name=NM_001180043.1\n",
      "end_range=2169,.\n",
      "gbkey=mRNA\n",
      "gene=PAU8\n",
      "partial=true\n",
      "product=seripauperin PAU8\n",
      "start_range=.,1807\n",
      "transcript_id=NM_001180043.1\n",
      "ID=id3\n",
      "Parent=rna0\n",
      "Dbxref=GeneID:851229,Genbank:NM_001180043.1\n",
      "end_range=2169,.\n",
      "gbkey=mRNA\n",
      "gene=PAU8\n",
      "partial=true\n",
      "product=seripauperin PAU8\n",
      "start_range=.,1807\n",
      "transcript_id=NM_001180043.1\n",
      "ID=cds0\n",
      "Parent=rna0\n",
      "Dbxref=SGD:S000002142,GeneID:851229,Genbank:NP_009332.1\n",
      "Name=NP_009332.1\n",
      "Note=hypothetical protein%3B member of the seripauperin multigene family encoded mainly in subtelomeric regions\n",
      "gbkey=CDS\n",
      "gene=PAU8\n",
      "product=seripauperin PAU8\n",
      "protein_id=NP_009332.1\n",
      "ID=gene1\n",
      "Dbxref=GeneID:1466426\n",
      "Name=YAL067W-A\n",
      "end_range=2707,.\n",
      "gbkey=Gene\n",
      "gene_biotype=protein_coding\n",
      "locus_tag=YAL067W-A\n",
      "partial=true\n",
      "start_range=.,2480\n",
      "ID=rna1\n",
      "Parent=gene1\n",
      "Dbxref=GeneID:1466426,Genbank:NM_001184582.1\n",
      "Name=NM_001184582.1\n",
      "end_range=2707,.\n",
      "gbkey=mRNA\n",
      "partial=true\n",
      "product=hypothetical protein\n",
      "start_range=.,2480\n",
      "transcript_id=NM_001184582.1\n",
      "ID=id4\n",
      "Parent=rna1\n",
      "Dbxref=GeneID:1466426,Genbank:NM_001184582.1\n",
      "end_range=2707,.\n",
      "gbkey=mRNA\n",
      "partial=true\n",
      "product=hypothetical protein\n",
      "start_range=.,2480\n",
      "transcript_id=NM_001184582.1\n",
      "ID=cds1\n",
      "Parent=rna1\n",
      "Dbxref=SGD:S000028593,GeneID:1466426,Genbank:NP_878038.1\n",
      "Name=NP_878038.1\n",
      "Note=hypothetical protein%3B identified by gene-trapping%2C microarray-based expression analysis%2C and genome-wide homology searching\n",
      "gbkey=CDS\n",
      "product=hypothetical protein\n",
      "protein_id=NP_878038.1\n",
      "ID=gene2\n",
      "Dbxref=GeneID:851230\n",
      "Name=SEO1\n",
      "end_range=9016,.\n",
      "gbkey=Gene\n",
      "gene=SEO1\n",
      "gene_biotype=protein_coding\n",
      "locus_tag=YAL067C\n",
      "partial=true\n",
      "start_range=.,7235\n"
     ]
    }
   ],
   "source": [
    "with open(path) as f:\n",
    "    for line in f:\n",
    "        line = line.rstrip() #改行コードの削除\n",
    "\n",
    "        if line.startswith('#'):   # #で始まるかどうか\n",
    "            continue\n",
    "        s = line.split('\\t') # タブで区切る\n",
    "        items = s[8].split(';') # 9列目を \";\" で区切る\n",
    "        for item in items: # リストを1つずつ\n",
    "            print(item) # 出力"
   ]
  },
  {
   "cell_type": "markdown",
   "id": "68c7d113-58a9-4367-930e-9a0ef6cfdea2",
   "metadata": {},
   "source": [
    "__特定のタグのデータの読み込み1__  \n",
    "s288c_n20.gff を読み込んで出力する。改行コードの削除を実行する。#で始まる行以外を出力する。9列目のデータのみを出力する。;で区切る。oroductデータのみを出力する。"
   ]
  },
  {
   "cell_type": "code",
   "execution_count": 18,
   "id": "056038f9-f5c5-4284-9085-2a4bbd2b13ce",
   "metadata": {},
   "outputs": [
    {
     "name": "stdout",
     "output_type": "stream",
     "text": [
      "product=seripauperin PAU8\n",
      "product=seripauperin PAU8\n",
      "product=seripauperin PAU8\n",
      "product=hypothetical protein\n",
      "product=hypothetical protein\n",
      "product=hypothetical protein\n"
     ]
    }
   ],
   "source": [
    "with open(path) as f:\n",
    "    for line in f:\n",
    "        line = line.rstrip() #改行コードの削除\n",
    "\n",
    "        if line.startswith('#'):   # #で始まるかどうか\n",
    "            continue\n",
    "        s = line.split('\\t') # タブで区切る\n",
    "        items = s[8].split(';') # 9列目を \";\" で区切る\n",
    "        for item in items: # リストを1つずつ\n",
    "            if item.startswith('product='):\n",
    "                print(item)"
   ]
  },
  {
   "cell_type": "markdown",
   "id": "3015bf36-36c1-4dab-afdc-088ca949f2d2",
   "metadata": {},
   "source": [
    "__辞書型での読み込み__  \n",
    "s288c_n20.gff を読み込んで出力する。改行コードの削除を実行する。#で始まる行以外を出力する。9列目のデータを辞書型で取得する。"
   ]
  },
  {
   "cell_type": "code",
   "execution_count": 25,
   "id": "10f8c378-2227-4dad-a21a-3ccaa3b736dc",
   "metadata": {},
   "outputs": [
    {
     "name": "stdout",
     "output_type": "stream",
     "text": [
      "{'ID': 'id0', 'Dbxref': 'taxon:559292', 'Name': 'I', 'chromosome': 'I', 'gbkey': 'Src', 'genome': 'chromosome', 'mol_type': 'genomic DNA', 'strain': 'S288C'}\n",
      "{'ID': 'id1', 'Dbxref': 'SGD:S000028862', 'Note': 'TEL01L%3B Telomeric region on the left arm of Chromosome I%3B composed of an X element core sequence%2C X element combinatorial repeats%2C and a short terminal stretch of telomeric repeats', 'gbkey': 'telomere'}\n",
      "{'ID': 'id2', 'Dbxref': 'SGD:S000121252', 'Note': 'ARS102~Autonomously Replicating Sequence', 'gbkey': 'rep_origin'}\n",
      "{'ID': 'gene0', 'Dbxref': 'GeneID:851229', 'Name': 'PAU8', 'end_range': '2169,.', 'gbkey': 'Gene', 'gene': 'PAU8', 'gene_biotype': 'protein_coding', 'locus_tag': 'YAL068C', 'partial': 'true', 'start_range': '.,1807'}\n",
      "{'ID': 'rna0', 'Parent': 'gene0', 'Dbxref': 'GeneID:851229,Genbank:NM_001180043.1', 'Name': 'NM_001180043.1', 'end_range': '2169,.', 'gbkey': 'mRNA', 'gene': 'PAU8', 'partial': 'true', 'product': 'seripauperin PAU8', 'start_range': '.,1807', 'transcript_id': 'NM_001180043.1'}\n",
      "{'ID': 'id3', 'Parent': 'rna0', 'Dbxref': 'GeneID:851229,Genbank:NM_001180043.1', 'end_range': '2169,.', 'gbkey': 'mRNA', 'gene': 'PAU8', 'partial': 'true', 'product': 'seripauperin PAU8', 'start_range': '.,1807', 'transcript_id': 'NM_001180043.1'}\n",
      "{'ID': 'cds0', 'Parent': 'rna0', 'Dbxref': 'SGD:S000002142,GeneID:851229,Genbank:NP_009332.1', 'Name': 'NP_009332.1', 'Note': 'hypothetical protein%3B member of the seripauperin multigene family encoded mainly in subtelomeric regions', 'gbkey': 'CDS', 'gene': 'PAU8', 'product': 'seripauperin PAU8', 'protein_id': 'NP_009332.1'}\n",
      "{'ID': 'gene1', 'Dbxref': 'GeneID:1466426', 'Name': 'YAL067W-A', 'end_range': '2707,.', 'gbkey': 'Gene', 'gene_biotype': 'protein_coding', 'locus_tag': 'YAL067W-A', 'partial': 'true', 'start_range': '.,2480'}\n",
      "{'ID': 'rna1', 'Parent': 'gene1', 'Dbxref': 'GeneID:1466426,Genbank:NM_001184582.1', 'Name': 'NM_001184582.1', 'end_range': '2707,.', 'gbkey': 'mRNA', 'partial': 'true', 'product': 'hypothetical protein', 'start_range': '.,2480', 'transcript_id': 'NM_001184582.1'}\n",
      "{'ID': 'id4', 'Parent': 'rna1', 'Dbxref': 'GeneID:1466426,Genbank:NM_001184582.1', 'end_range': '2707,.', 'gbkey': 'mRNA', 'partial': 'true', 'product': 'hypothetical protein', 'start_range': '.,2480', 'transcript_id': 'NM_001184582.1'}\n",
      "{'ID': 'cds1', 'Parent': 'rna1', 'Dbxref': 'SGD:S000028593,GeneID:1466426,Genbank:NP_878038.1', 'Name': 'NP_878038.1', 'Note': 'hypothetical protein%3B identified by gene-trapping%2C microarray-based expression analysis%2C and genome-wide homology searching', 'gbkey': 'CDS', 'product': 'hypothetical protein', 'protein_id': 'NP_878038.1'}\n",
      "{'ID': 'gene2', 'Dbxref': 'GeneID:851230', 'Name': 'SEO1', 'end_range': '9016,.', 'gbkey': 'Gene', 'gene': 'SEO1', 'gene_biotype': 'protein_coding', 'locus_tag': 'YAL067C', 'partial': 'true', 'start_range': '.,7235'}\n"
     ]
    }
   ],
   "source": [
    "with open(path) as f:\n",
    "    for line in f:\n",
    "        line = line.rstrip() #改行コードの削除\n",
    "\n",
    "        if line.startswith('#'):   # #で始まるかどうか\n",
    "            continue\n",
    "        s = line.split('\\t') # タブで区切る\n",
    "        items = s[8].split(';') # 9列目を \";\" で区切る\n",
    "        tags = dict([tmp.split('=') for tmp in items]) # リスト内包表記で一括取得\n",
    "        print(tags)\n",
    "            "
   ]
  },
  {
   "cell_type": "markdown",
   "id": "9efad179-6dc9-4fad-9bbf-9beaed227ece",
   "metadata": {},
   "source": [
    "__特定のタグのデータの読み込み2__  \n",
    "s288c_n20.gff を読み込んで出力する。改行コードの削除を実行する。#で始まる行以外を出力する。9列目のNoteデータのみを出力する。"
   ]
  },
  {
   "cell_type": "code",
   "execution_count": 26,
   "id": "14fa2721-59d9-4665-b6bb-d2c3e75a6b8a",
   "metadata": {},
   "outputs": [
    {
     "name": "stdout",
     "output_type": "stream",
     "text": [
      "TEL01L%3B Telomeric region on the left arm of Chromosome I%3B composed of an X element core sequence%2C X element combinatorial repeats%2C and a short terminal stretch of telomeric repeats\n",
      "ARS102~Autonomously Replicating Sequence\n",
      "hypothetical protein%3B member of the seripauperin multigene family encoded mainly in subtelomeric regions\n",
      "hypothetical protein%3B identified by gene-trapping%2C microarray-based expression analysis%2C and genome-wide homology searching\n"
     ]
    }
   ],
   "source": [
    "with open(path) as f:\n",
    "    for line in f:\n",
    "        line = line.rstrip() #改行コードの削除\n",
    "\n",
    "        if line.startswith('#'):   # #で始まるかどうか\n",
    "            continue\n",
    "        s = line.split('\\t') # タブで区切る\n",
    "        items = s[8].split(';') # 9列目を \";\" で区切る\n",
    "        tags = dict([tmp.split('=') for tmp in items]) # リスト内包表記で一括取得\n",
    "        \n",
    "        if 'Note' in tags: # Noteタグの有無\n",
    "            print(tags['Note'])\n",
    "            "
   ]
  },
  {
   "cell_type": "markdown",
   "id": "3326d332-1027-48a1-aeb9-02437396835c",
   "metadata": {},
   "source": [
    "__URLでコードする読み込み__  \n",
    "s288c_n20.gff を読み込んで出力する。改行コードの削除を実行する。#で始まる行以外を出力する。9列目のNoteデータをURLデコードして、出力する。"
   ]
  },
  {
   "cell_type": "code",
   "execution_count": 28,
   "id": "31beed52-dd73-4767-8548-562636d9ca62",
   "metadata": {},
   "outputs": [
    {
     "name": "stdout",
     "output_type": "stream",
     "text": [
      "TEL01L; Telomeric region on the left arm of Chromosome I; composed of an X element core sequence, X element combinatorial repeats, and a short terminal stretch of telomeric repeats\n",
      "ARS102~Autonomously Replicating Sequence\n",
      "hypothetical protein; member of the seripauperin multigene family encoded mainly in subtelomeric regions\n",
      "hypothetical protein; identified by gene-trapping, microarray-based expression analysis, and genome-wide homology searching\n"
     ]
    }
   ],
   "source": [
    "from urllib.parse import unquote\n",
    "with open(path) as f:\n",
    "    for line in f:\n",
    "        line = line.rstrip() #改行コードの削除\n",
    "\n",
    "        if line.startswith('#'):   # #で始まるかどうか\n",
    "            continue\n",
    "        s = line.split('\\t') # タブで区切る\n",
    "        items = s[8].split(';') # 9列目を \";\" で区切る\n",
    "        tags = dict([tmp.split('=') for tmp in items]) # リスト内包表記で一括取得\n",
    "        \n",
    "        if 'Note' in tags: # Noteタグの有無\n",
    "            print(unquote(tags['Note'])) # Note の内容をデコードして出力"
   ]
  },
  {
   "cell_type": "markdown",
   "id": "ef3ec779-1c1d-4e01-bf1f-0f77eca3e3d3",
   "metadata": {},
   "source": [
    "urllib.parseモジュールを使えば、URLエンコード、デコードが実現できる。"
   ]
  },
  {
   "cell_type": "markdown",
   "id": "6f61e99b-757a-4197-a247-acff29d4ac4c",
   "metadata": {},
   "source": [
    "__特定の行以降を読み込み__  \n",
    "s288c_n20.gff を読み込んで3行目以降を改行コードを削除して出力する。"
   ]
  },
  {
   "cell_type": "code",
   "execution_count": 29,
   "id": "4e48c465-15be-4bac-a765-e361921affdf",
   "metadata": {},
   "outputs": [
    {
     "name": "stdout",
     "output_type": "stream",
     "text": [
      "#!processor NCBI annotwriter\n",
      "#!genome-build R64\n",
      "#!genome-build-accession NCBI_Assembly:GCF_000146045.2\n",
      "#!annotation-source SGD R64-2-1\n",
      "##sequence-region NC_001133.9 1 230218\n",
      "##species https://www.ncbi.nlm.nih.gov/Taxonomy/Browser/wwwtax.cgi?id=559292\n",
      "NC_001133.9\tRefSeq\tregion\t1\t230218\t.\t+\t.\tID=id0;Dbxref=taxon:559292;Name=I;chromosome=I;gbkey=Src;genome=chromosome;mol_type=genomic DNA;strain=S288C\n",
      "NC_001133.9\tRefSeq\ttelomere\t1\t801\t.\t-\t.\tID=id1;Dbxref=SGD:S000028862;Note=TEL01L%3B Telomeric region on the left arm of Chromosome I%3B composed of an X element core sequence%2C X element combinatorial repeats%2C and a short terminal stretch of telomeric repeats;gbkey=telomere\n",
      "NC_001133.9\tRefSeq\torigin_of_replication\t707\t776\t.\t+\t.\tID=id2;Dbxref=SGD:S000121252;Note=ARS102~Autonomously Replicating Sequence;gbkey=rep_origin\n",
      "NC_001133.9\tRefSeq\tgene\t1807\t2169\t.\t-\t.\tID=gene0;Dbxref=GeneID:851229;Name=PAU8;end_range=2169,.;gbkey=Gene;gene=PAU8;gene_biotype=protein_coding;locus_tag=YAL068C;partial=true;start_range=.,1807\n",
      "NC_001133.9\tRefSeq\tmRNA\t1807\t2169\t.\t-\t.\tID=rna0;Parent=gene0;Dbxref=GeneID:851229,Genbank:NM_001180043.1;Name=NM_001180043.1;end_range=2169,.;gbkey=mRNA;gene=PAU8;partial=true;product=seripauperin PAU8;start_range=.,1807;transcript_id=NM_001180043.1\n",
      "NC_001133.9\tRefSeq\texon\t1807\t2169\t.\t-\t.\tID=id3;Parent=rna0;Dbxref=GeneID:851229,Genbank:NM_001180043.1;end_range=2169,.;gbkey=mRNA;gene=PAU8;partial=true;product=seripauperin PAU8;start_range=.,1807;transcript_id=NM_001180043.1\n",
      "NC_001133.9\tRefSeq\tCDS\t1807\t2169\t.\t-\t0\tID=cds0;Parent=rna0;Dbxref=SGD:S000002142,GeneID:851229,Genbank:NP_009332.1;Name=NP_009332.1;Note=hypothetical protein%3B member of the seripauperin multigene family encoded mainly in subtelomeric regions;gbkey=CDS;gene=PAU8;product=seripauperin PAU8;protein_id=NP_009332.1\n",
      "NC_001133.9\tRefSeq\tgene\t2480\t2707\t.\t+\t.\tID=gene1;Dbxref=GeneID:1466426;Name=YAL067W-A;end_range=2707,.;gbkey=Gene;gene_biotype=protein_coding;locus_tag=YAL067W-A;partial=true;start_range=.,2480\n",
      "NC_001133.9\tRefSeq\tmRNA\t2480\t2707\t.\t+\t.\tID=rna1;Parent=gene1;Dbxref=GeneID:1466426,Genbank:NM_001184582.1;Name=NM_001184582.1;end_range=2707,.;gbkey=mRNA;partial=true;product=hypothetical protein;start_range=.,2480;transcript_id=NM_001184582.1\n",
      "NC_001133.9\tRefSeq\texon\t2480\t2707\t.\t+\t.\tID=id4;Parent=rna1;Dbxref=GeneID:1466426,Genbank:NM_001184582.1;end_range=2707,.;gbkey=mRNA;partial=true;product=hypothetical protein;start_range=.,2480;transcript_id=NM_001184582.1\n",
      "NC_001133.9\tRefSeq\tCDS\t2480\t2707\t.\t+\t0\tID=cds1;Parent=rna1;Dbxref=SGD:S000028593,GeneID:1466426,Genbank:NP_878038.1;Name=NP_878038.1;Note=hypothetical protein%3B identified by gene-trapping%2C microarray-based expression analysis%2C and genome-wide homology searching;gbkey=CDS;product=hypothetical protein;protein_id=NP_878038.1\n",
      "NC_001133.9\tRefSeq\tgene\t7235\t9016\t.\t-\t.\tID=gene2;Dbxref=GeneID:851230;Name=SEO1;end_range=9016,.;gbkey=Gene;gene=SEO1;gene_biotype=protein_coding;locus_tag=YAL067C;partial=true;start_range=.,7235\n"
     ]
    }
   ],
   "source": [
    "with open(path) as f:\n",
    "    f.readline() # 1行目の読み込みを実行\n",
    "    f.readline() # 2行目の読み込みを実行\n",
    "    for line in f: # 3行目からの読み込みを実行\n",
    "        line = line.rstrip()\n",
    "        print(line)"
   ]
  },
  {
   "cell_type": "markdown",
   "id": "a9ae9531-b8e3-4d76-9b4e-22956e4fd5d9",
   "metadata": {},
   "source": [
    "readline() を2階実行することで、最初の2行を読み込んだことになる。そのあとにforループを用いることで、3行目からの処理が可能となる。"
   ]
  },
  {
   "cell_type": "markdown",
   "id": "755d1e70-20d4-4690-b5fd-a5d15d252866",
   "metadata": {},
   "source": [
    "### 5.2.5 ファイルの書き込み (具体例)  \n",
    "\n",
    "__書き込み1__  \n",
    "open(file, mode='w') とすれば、ファイルへの書き込みができる。'Hello world!\\n'をtest1.txtに出力する。\n",
    "事前に、%mkdir outputなどをして出力ディレクトリを作っておこう。"
   ]
  },
  {
   "cell_type": "code",
   "execution_count": 33,
   "id": "f39279b3-aff3-4116-8928-747d8c930c1e",
   "metadata": {},
   "outputs": [
    {
     "name": "stdout",
     "output_type": "stream",
     "text": [
      "mkdir: output: File exists\n"
     ]
    }
   ],
   "source": [
    "%mkdir output\n",
    "#output が既にある場合は、output1 or output2 など名前を変更してください。"
   ]
  },
  {
   "cell_type": "code",
   "execution_count": 37,
   "id": "ccf495e4-b18c-4363-8e90-036c09f0ecc0",
   "metadata": {},
   "outputs": [],
   "source": [
    "output = './output/test1.txt' #ファイル名\n",
    "out = 'Hello world!\\n' #出力\n",
    "with open(output, 'w') as f: #ファイルオープン\n",
    "    f.write(out) #ファイルへの書き込み"
   ]
  },
  {
   "cell_type": "code",
   "execution_count": 38,
   "id": "06198681-7101-41d0-8d05-03b5d240dc9f",
   "metadata": {},
   "outputs": [
    {
     "name": "stdout",
     "output_type": "stream",
     "text": [
      "Hello world!\n"
     ]
    }
   ],
   "source": [
    "%cat ./output/test1.txt"
   ]
  },
  {
   "cell_type": "markdown",
   "id": "63f8c4e0-0c0a-4c76-99df-b1d70dd8ae44",
   "metadata": {},
   "source": [
    "test1.txt ファイルがoutputディレクトリ下に作成された。中身を確認するとHello world!となっている。outputディレクトリがない場合は、FileNotFoundError: No such file or directory: '.output/test1.txt'となる。mode オプション (表5.3) を変更することで、上書きするのか、追記するのか、新規作成するのかを設定できる。"
   ]
  },
  {
   "cell_type": "markdown",
   "id": "3ee37794-3f91-463b-8d84-5d9803bc574b",
   "metadata": {},
   "source": [
    "__書き込み2__  \n",
    "'Hello world\\n!' をtest1.txt に出力する。ファイルが存在する場合は上書きしない。"
   ]
  },
  {
   "cell_type": "code",
   "execution_count": 39,
   "id": "1f27650c-4e9a-443e-909f-86fb294af7f9",
   "metadata": {},
   "outputs": [
    {
     "ename": "FileExistsError",
     "evalue": "[Errno 17] File exists: './output/test1.txt'",
     "output_type": "error",
     "traceback": [
      "\u001b[31m---------------------------------------------------------------------------\u001b[39m",
      "\u001b[31mFileExistsError\u001b[39m                           Traceback (most recent call last)",
      "\u001b[36mCell\u001b[39m\u001b[36m \u001b[39m\u001b[32mIn[39]\u001b[39m\u001b[32m, line 3\u001b[39m\n\u001b[32m      1\u001b[39m output = \u001b[33m'\u001b[39m\u001b[33m./output/test1.txt\u001b[39m\u001b[33m'\u001b[39m \u001b[38;5;66;03m#ファイル名\u001b[39;00m\n\u001b[32m      2\u001b[39m out = \u001b[33m'\u001b[39m\u001b[33mHello world!\u001b[39m\u001b[38;5;130;01m\\n\u001b[39;00m\u001b[33m'\u001b[39m \u001b[38;5;66;03m#出力\u001b[39;00m\n\u001b[32m----> \u001b[39m\u001b[32m3\u001b[39m \u001b[38;5;28;01mwith\u001b[39;00m \u001b[38;5;28;43mopen\u001b[39;49m\u001b[43m(\u001b[49m\u001b[43moutput\u001b[49m\u001b[43m,\u001b[49m\u001b[43m \u001b[49m\u001b[33;43m'\u001b[39;49m\u001b[33;43mx\u001b[39;49m\u001b[33;43m'\u001b[39;49m\u001b[43m)\u001b[49m \u001b[38;5;28;01mas\u001b[39;00m f: \u001b[38;5;66;03m#ファイルオープン\u001b[39;00m\n\u001b[32m      4\u001b[39m     f.write(out) \u001b[38;5;66;03m#ファイルへの書き込み\u001b[39;00m\n",
      "\u001b[36mFile \u001b[39m\u001b[32m~/miniforge3/envs/pags_middle_2024/lib/python3.11/site-packages/IPython/core/interactiveshell.py:325\u001b[39m, in \u001b[36m_modified_open\u001b[39m\u001b[34m(file, *args, **kwargs)\u001b[39m\n\u001b[32m    318\u001b[39m \u001b[38;5;28;01mif\u001b[39;00m file \u001b[38;5;129;01min\u001b[39;00m {\u001b[32m0\u001b[39m, \u001b[32m1\u001b[39m, \u001b[32m2\u001b[39m}:\n\u001b[32m    319\u001b[39m     \u001b[38;5;28;01mraise\u001b[39;00m \u001b[38;5;167;01mValueError\u001b[39;00m(\n\u001b[32m    320\u001b[39m         \u001b[33mf\u001b[39m\u001b[33m\"\u001b[39m\u001b[33mIPython won\u001b[39m\u001b[33m'\u001b[39m\u001b[33mt let you open fd=\u001b[39m\u001b[38;5;132;01m{\u001b[39;00mfile\u001b[38;5;132;01m}\u001b[39;00m\u001b[33m by default \u001b[39m\u001b[33m\"\u001b[39m\n\u001b[32m    321\u001b[39m         \u001b[33m\"\u001b[39m\u001b[33mas it is likely to crash IPython. If you know what you are doing, \u001b[39m\u001b[33m\"\u001b[39m\n\u001b[32m    322\u001b[39m         \u001b[33m\"\u001b[39m\u001b[33myou can use builtins\u001b[39m\u001b[33m'\u001b[39m\u001b[33m open.\u001b[39m\u001b[33m\"\u001b[39m\n\u001b[32m    323\u001b[39m     )\n\u001b[32m--> \u001b[39m\u001b[32m325\u001b[39m \u001b[38;5;28;01mreturn\u001b[39;00m \u001b[43mio_open\u001b[49m\u001b[43m(\u001b[49m\u001b[43mfile\u001b[49m\u001b[43m,\u001b[49m\u001b[43m \u001b[49m\u001b[43m*\u001b[49m\u001b[43margs\u001b[49m\u001b[43m,\u001b[49m\u001b[43m \u001b[49m\u001b[43m*\u001b[49m\u001b[43m*\u001b[49m\u001b[43mkwargs\u001b[49m\u001b[43m)\u001b[49m\n",
      "\u001b[31mFileExistsError\u001b[39m: [Errno 17] File exists: './output/test1.txt'"
     ]
    }
   ],
   "source": [
    "output = './output/test1.txt' #ファイル名\n",
    "out = 'Hello world!\\n' #出力\n",
    "with open(output, 'x') as f: #ファイルオープン\n",
    "    f.write(out) #ファイルへの書き込み"
   ]
  },
  {
   "cell_type": "markdown",
   "id": "ab2afe49-f8ba-4e8e-b44a-7907f530dcb7",
   "metadata": {},
   "source": [
    "先に作ったtest1.txtが存在しているので、FileExistsError: [Errno 17] File exists: './output/test1.txt' となった。mode=x を用いることで、既存ファイルへの上書きを防ぐことができる。 "
   ]
  },
  {
   "cell_type": "code",
   "execution_count": null,
   "id": "3a25db6a-9c12-4766-8b0c-0c39ab9e3065",
   "metadata": {},
   "outputs": [],
   "source": []
  }
 ],
 "metadata": {
  "kernelspec": {
   "display_name": "Python 3 (ipykernel)",
   "language": "python",
   "name": "python3"
  },
  "language_info": {
   "codemirror_mode": {
    "name": "ipython",
    "version": 3
   },
   "file_extension": ".py",
   "mimetype": "text/x-python",
   "name": "python",
   "nbconvert_exporter": "python",
   "pygments_lexer": "ipython3",
   "version": "3.11.11"
  }
 },
 "nbformat": 4,
 "nbformat_minor": 5
}
