{
 "cells": [
  {
   "cell_type": "markdown",
   "id": "69933153-f1e4-49d8-9953-7854b9f62764",
   "metadata": {},
   "source": [
    "#　プログラミング実践\n",
    "国立遺伝学研究所の3人の研究員で講義を行います。  \n",
    "1-12回: 望月孝子  \n",
    "13-20回: 坂本美佳  \n",
    "21-30回: 黒川真臣  "
   ]
  },
  {
   "cell_type": "markdown",
   "id": "0760d52e-0c1b-4c8d-8f0d-51299a052b78",
   "metadata": {},
   "source": [
    "# 講義の資料取得について  \n",
    "\n",
    "1. teams から本日の講義の資料をダウンロードする\n",
    "  \n",
    "<img src=\"https://github.com/tmochidu/tokyoiyaku_lecture2025_img/blob/main/lesson1/img/21.png?raw=true\" alt=\"コマンドモード\" style=\"width:500px;\">  \n",
    "  \n",
    "2. Jupyter hub にアップロード  \n",
    "<img src=\"https://github.com/tmochidu/tokyoiyaku_lecture2025_img/blob/main/lesson1/img/22.png?raw=true\" alt=\"コマンドモード\" style=\"width:500px;\">  \n",
    "    \n",
    "3. Terminal で zip ファイルを解凍する\n",
    "<img src=\"https://github.com/tmochidu/tokyoiyaku_lecture2025_img/blob/main/lesson1/img/23.png?raw=true\" alt=\"コマンドモード\" style=\"width:500px;\">  \n",
    "    \n",
    "  \n",
    "4. 不要なファイルとディレクトリを削除  \n",
    "<span style=\"color:red; font-weight:bold;\">rm コマンドは、必要なファイルまで消してしまわないように注意して実行する</span>  \n",
    "<img src=\"https://github.com/tmochidu/tokyoiyaku_lecture2025_img/blob/main/lesson1/img/24.png?raw=true\" alt=\"コマンドモード\" style=\"width:500px;\">\n",
    "　　\n",
    "5. Teams にて終わった方は、終わった旨をchatに入力してください。"
   ]
  },
  {
   "cell_type": "code",
   "execution_count": null,
   "id": "2aa99788-cd82-4c1c-8390-645edee843e9",
   "metadata": {},
   "outputs": [],
   "source": []
  },
  {
   "cell_type": "code",
   "execution_count": null,
   "id": "a8014020-8e8e-4e3f-bd1e-9cea2da408d6",
   "metadata": {},
   "outputs": [],
   "source": []
  },
  {
   "cell_type": "markdown",
   "id": "cb778c32-6e88-4493-9332-4b0c123b5e1b",
   "metadata": {},
   "source": [
    "# 3 Jupyter Notebookの使い方"
   ]
  },
  {
   "cell_type": "markdown",
   "id": "7eca2378-0a94-4f87-b713-bf94e64a43eb",
   "metadata": {},
   "source": [
    "## 3.1 Jupyter Notebook の基本操作"
   ]
  },
  {
   "cell_type": "markdown",
   "id": "d18a98e0-30e1-4a09-8036-e9dc29aef19e",
   "metadata": {},
   "source": [
    "### 3.1.1 インストールと起動"
   ]
  },
  {
   "attachments": {},
   "cell_type": "markdown",
   "id": "965b5f28-5278-4733-96b0-eb7cc2643b40",
   "metadata": {},
   "source": [
    "自分のPCで実行する場合、Miniconda あるいは Miniforge を導入していれば、すぐにJupyter Notebook が使用できる状態になっている。\n",
    "<img src=\"https://github.com/tmochidu/tokyoiyaku_lecture2025_img/blob/main/lesson1/img/20.png?raw=true\" alt=\"コマンドモード\" style=\"width:500px;\">"
   ]
  },
  {
   "cell_type": "markdown",
   "id": "886453a0-e979-40df-94a9-ccccb10ac4ee",
   "metadata": {},
   "source": [
    "### 3.1.2 新規ノートブックの作成"
   ]
  },
  {
   "cell_type": "markdown",
   "id": "328d04d3-7077-48b1-b612-c700714ebad6",
   "metadata": {},
   "source": [
    "__Jupyter hubでの方法__  \n",
    "<img src=\"https://github.com/tmochidu/tokyoiyaku_lecture2025_img/blob/main/lesson1/img/19.png?raw=true\" alt=\"ノートブックの作成\" style=\"width:500px;\">"
   ]
  },
  {
   "cell_type": "markdown",
   "id": "c38dfd3a-c1f3-49b0-9ce0-63d2a02127e7",
   "metadata": {},
   "source": [
    "__Jupyter Notebookでの方法__  \n",
    "<img src=\"https://github.com/tmochidu/tokyoiyaku_lecture2025_img/blob/main/lesson1/img/25.png?raw=true\" alt=\"ノートブックの作成\" style=\"width:500px;\"><br><br><br> \n",
    "<img src=\"https://github.com/tmochidu/tokyoiyaku_lecture2025_img/blob/main/lesson1/img/26.png?raw=true\" alt=\"ノートブックの作成\" style=\"width:500px;\">"
   ]
  },
  {
   "cell_type": "markdown",
   "id": "a62d4886-bf48-4648-9a62-f84815ec3409",
   "metadata": {
    "editable": true,
    "slideshow": {
     "slide_type": ""
    },
    "tags": []
   },
   "source": [
    "### 3.1.3 コードの実行  \n",
    "セル内をクリックして入力した後に、実行ボタンを押してみましょう。  \n",
    "実行ボタンを押す代わりに、Shift+Return/Enterキーも可能  \n",
    "Return/Enterキーを単独で押せば、複数の行からなるコードを1つのセルに入力することができる。"
   ]
  },
  {
   "cell_type": "code",
   "execution_count": null,
   "id": "33e521ad-5900-4caf-91f9-b9645a5db802",
   "metadata": {},
   "outputs": [],
   "source": [
    "print(\"I love bioinformatics!\")"
   ]
  },
  {
   "cell_type": "markdown",
   "id": "d3840676-ba96-4706-87b2-e60d1abb5c09",
   "metadata": {},
   "source": [
    "Jupyter Notebook では print()関数を使用しなくてもセルの最終行を処理した時に得られる値 (評価値) が実行時に自動的に表示されるため、変数だけを入力してセルを実行することで変数の中身を簡単に確認できる。  なお、最終行が単なる代入処理のように評価値が得られない場合には出力されない。"
   ]
  },
  {
   "cell_type": "code",
   "execution_count": null,
   "id": "799f6737-1064-49bf-b1a9-c674adf32f00",
   "metadata": {},
   "outputs": [],
   "source": [
    "a = \"Hello\"\n",
    "b = \"World\"\n",
    "a + b"
   ]
  },
  {
   "cell_type": "code",
   "execution_count": null,
   "id": "e94fa9f4-2968-4b80-a89c-60bd47f70fa5",
   "metadata": {},
   "outputs": [],
   "source": [
    "print(a)\n",
    "print(b)\n",
    "print(a + b)"
   ]
  },
  {
   "cell_type": "code",
   "execution_count": null,
   "id": "2e587aa7-1ede-41a4-9a34-3b4a83661ae5",
   "metadata": {},
   "outputs": [],
   "source": [
    "c = a + b"
   ]
  },
  {
   "cell_type": "code",
   "execution_count": null,
   "id": "4f8f3cf8-5c30-4707-860a-c45920575adb",
   "metadata": {},
   "outputs": [],
   "source": [
    "c"
   ]
  },
  {
   "cell_type": "markdown",
   "id": "b4887ad7-e1ea-4b6a-9143-9e4d0e295cf2",
   "metadata": {},
   "source": [
    "無限ループになるようなコードを実行してしまった時や処理に時間がかかるコードを実行した際には途中で停止させたい時は、停止ボタンを押すことで処理を中断することができる"
   ]
  },
  {
   "cell_type": "markdown",
   "id": "ee4ea001-44b4-40da-be3b-903466422fda",
   "metadata": {},
   "source": [
    "## 3.1.4 編集モードとコマンドモード\n",
    "選択されているセルの状態に注意が必要。カーソルがセルの内部にあり文字が入力状態が可能になっている状態を <B>編集モード</B> とよび、このときセル内の入力欄が青枠で囲まれている。これに対してセル全体が青枠で囲われている状態を <B>コマンドモード</B>と呼び、文字入力ができない代わりに、セルのコピー、ペースト、順番の入れ替えといったセル自体の操作を行うことができる。これらは画面上部のメニューやアイコンからも行えるが、頻繁に行う操作については後述するようにキーボードからのショートカットを利用した方がよい。  \n",
    "マウスで操作する場合、セル内のフォーム部分をクリックした場合には編集モードになり、フォームの周りの部分をクリックした場合にはコマンドモードとなる。また、コマンドモードで Return/Enterキーを押すと編集モードに切り替わり、逆に編集モードでESCキーを押すとコマンドモードに切り替えることができる。  \n",
    "セル間の移動はカーソルキーで行うことができる。"
   ]
  },
  {
   "cell_type": "code",
   "execution_count": null,
   "id": "bc86cb75-24b0-4233-81b5-02317ee1624d",
   "metadata": {},
   "outputs": [],
   "source": [
    "import"
   ]
  },
  {
   "cell_type": "code",
   "execution_count": null,
   "id": "49a13b4a-8383-4ec2-a2e3-b77056e665f1",
   "metadata": {},
   "outputs": [],
   "source": [
    "c"
   ]
  },
  {
   "cell_type": "code",
   "execution_count": null,
   "id": "017d59ed-5cc0-4e9f-ab7c-a9c2d0240586",
   "metadata": {},
   "outputs": [],
   "source": []
  },
  {
   "cell_type": "markdown",
   "id": "bc81a8e2-1030-4bd8-9690-5efaf4bdc09c",
   "metadata": {},
   "source": [
    "## 3.1.5 セルの種類  \n",
    "コードセル: python を実行するのに用いられる  \n",
    "マークダウン: マークダウン記法を使って文字の書式や箇条書きなどの修飾を簡単に行える  \n",
    "Raw NBConvertセル: 改行やスペースが入力した通りに表示さされる。書式の設定ができない。"
   ]
  },
  {
   "cell_type": "markdown",
   "id": "33b0d0de-cdad-4851-9f71-8bb43bcb42f0",
   "metadata": {},
   "source": [
    "__Markdownセルの例__  \n",
    "* コマンドモードでキーボードの __m__ を押すとマークダウンセルに変更できます\n",
    "* _マークダウンセルでは書式を変更することができます。_"
   ]
  },
  {
   "cell_type": "raw",
   "id": "7d7083d0-28e8-4719-8731-c388c3aa44b1",
   "metadata": {},
   "source": [
    "__Raw NBConvertセルの例__  \n",
    "* コマンドモードでキーボードの __r__ を押すとRaw NBConvertセルに変更できます\n",
    "* _Raw NBConvertセルでは書式を変更することができません。_"
   ]
  },
  {
   "cell_type": "markdown",
   "id": "9d826fa0-7c3b-41f1-8200-fa212436c974",
   "metadata": {},
   "source": [
    "マークダウンセルでは LaTex を使った数式の記述もできる。  \n",
    "Latex とは、テキストベースの組版(くみはん)処理システムおよびそのための記述法で、特に数式を整形することに優れている。\n",
    "\n",
    "行内に数式を埋め込む場合は $ で囲い、ブロックとして記述する場合には $$ で囲んで記述する"
   ]
  },
  {
   "cell_type": "markdown",
   "id": "73fe840a-2ac6-4aff-b246-2fb735393d98",
   "metadata": {},
   "source": [
    "* __Latex__ の表示\n",
    "二次方程式 $ax^2+bx+c=0$ の解は\n",
    "$$ x= \\frac{-b\\pm\\sqrt{b^2-4ac}}{2a} $$\n",
    "で表示されます。"
   ]
  },
  {
   "cell_type": "markdown",
   "id": "cde07ab3-8f92-426d-acdc-e97798f9d4fb",
   "metadata": {},
   "source": [
    "* __Latex__ の表示\n",
    "二次方程式 $ax^2+bx+c=0$ の解は\n",
    "$$ x= \\frac{-b\\pm\\sqrt{b^2-4ac}}{2a} $$\n",
    "で表示されます。"
   ]
  },
  {
   "cell_type": "markdown",
   "id": "b93ee1cf-513e-468e-b341-2fd9c1846893",
   "metadata": {},
   "source": [
    "## 3.1.6 ヘルプの表示とキーボードショートカット  \n",
    "キーボードの Cmd (Ctrl) + Shift + hキーを押すとキーボードのショートカットの一覧を示すヘルプ画面が表示される。利用できるショートカットはコマンドモードと編集モードで異なる。  \n",
    "このうち、頻繁に使用し重要と思われるものを以下に抜粋する。  \n",
    "その他、コピー・ペーストなど、編集モードではテキストを入力する際の一般的なキーボードショートカットを多く利用できる。"
   ]
  },
  {
   "cell_type": "markdown",
   "id": "6caa5872-8e46-4a92-9ef3-f97dae7d4a21",
   "metadata": {},
   "source": [
    "__コマンドモード__  \n",
    "<img src=\"https://github.com/tmochidu/tokyoiyaku_lecture2025_img/blob/main/lesson1/img/1.png?raw=true\" alt=\"コマンドモード\" style=\"width:500px;\">"
   ]
  },
  {
   "cell_type": "markdown",
   "id": "12290ede-9ca1-4924-85f7-327d0881eb50",
   "metadata": {},
   "source": [
    "__編集モード__  \n",
    "<img src=\"https://github.com/tmochidu/tokyoiyaku_lecture2025_img/blob/main/lesson1/img/2.png?raw=true\" alt=\"編集モード\" style=\"width:500px;\">"
   ]
  },
  {
   "cell_type": "markdown",
   "id": "c1554873-93c3-4989-8000-40d32e459a03",
   "metadata": {},
   "source": [
    "__コマンドモードで使えるショートカット__\n",
    "\n",
    "| 目的 | ショートカット | 備考    |\n",
    "| ---- | ---- | ---- |\n",
    "| 編集モードへの切り替え | Return/Enterキー |      |\n",
    "| セルの実行 | Shift+Return/Enter |  編集モードでも使用可能    |\n",
    "| セルの削除 | dキーを続けて２回押す |  削除を取り消すにはzキーを押す    |\n",
    "| 上にセルを挿入 | aキー |  above の意味    |\n",
    "| 下にセルを挿入 | bキー |  below の意味    |\n",
    "| セルのコピー | cキー |      |\n",
    "| セルのカット | xキー |      |\n",
    "| セルのペースト | vキー |      |\n",
    "| 検索と置換 | fキー |      |\n",
    "| マークダウンセルへの変更 | mキー |      |\n",
    "| コードセルへの変更 | yキー |      |\n"
   ]
  },
  {
   "cell_type": "markdown",
   "id": "7de498a8-bafa-4fd3-8b52-1668aba380e9",
   "metadata": {},
   "source": [
    "__編集モードで使えるショートカット__\n",
    "| 目的 | ショートカット | 備考    |\n",
    "| ---- | ---- | ---- |\n",
    "| コマンドモードへの切り替え | Escキー |      |\n",
    "| インデント | (行の先頭で)Tabキー |  編集モードでも使用可能    |\n",
    "| インデントの解除 | (行の先頭で)Shift+Tabキー |  削除を取り消すにはzキーを押す    |\n",
    "| コメントアウト | Cmd(WindowsではCtrl)-\\ |  mac 日本語キーボードの場合、\\ が認識されない可能性がある    |\n",
    "| 自動補完候補の表示 | (入力の途中で)Tabキー |      |\n",
    "| ポップアップでヘルプの表示 | (変数や関数にカーソルを合わせて) Shift-Tab | 変数の内容や関数のヘルプ等を表示できる     |\n"
   ]
  },
  {
   "cell_type": "markdown",
   "id": "7882b777-bd06-4b07-aa78-66e2aaf6b349",
   "metadata": {},
   "source": [
    "## 3.1.7 コマンドパレット　　\n",
    "メニューバーやアイコンから利用できる機能は __コマンドパレット__ から呼び出すこともできる。メニューバー:View -> Active command palette もしくは、コマンドモードでキーボードの Cmd(Ctrl)+Shift+cキーを押すとコマンドパレットが表示でき、入力欄に文字を入力していくと表示される項目を絞り込んでいくことができる。"
   ]
  },
  {
   "cell_type": "markdown",
   "id": "a5c822f0-497b-4717-9ab9-41126a62f476",
   "metadata": {},
   "source": [
    "__コマンドパレット__  \n",
    "<img src=\"https://github.com/tmochidu/tokyoiyaku_lecture2025_img/blob/main/lesson1/img/3.png?raw=true\" alt=\"コマンドパレット\" style=\"width:500px;\">"
   ]
  },
  {
   "cell_type": "markdown",
   "id": "a97ad05d-1cab-4f36-958f-335df6fa08fc",
   "metadata": {},
   "source": [
    "# 3.2 Jupyter Notebook の便利な機能  \n",
    "## 3.2.1 コマンドの補完  \n",
    "  \n",
    "コマンドセルの文字入力の途中で Tab キーを押すと、その時点で入力可能な候補 (変数名や関数名など)　が表示される。文字を続けて入力していくことで候補を絞り込むことができ、候補が1つだけであれば自動で入力される  \n",
    "<img src=\"https://github.com/tmochidu/tokyoiyaku_lecture2025_img/blob/main/lesson1/img/4.png?raw=true\" alt=\"コマンド補完1\" style=\"width:500px;\">  \n",
    "### <code>&nbsp;</code><code>&nbsp;</code><code>&nbsp;</code><code>&nbsp;</code><code>&nbsp;</code><code>&nbsp;</code><code>&nbsp;</code>__↓ さらに絞り込む__   <code>&nbsp;</code><code>&nbsp;</code><code>&nbsp;</code><code>&nbsp;</code><code>&nbsp;</code><code>&nbsp;</code>\n",
    "<img src=\"https://github.com/tmochidu/tokyoiyaku_lecture2025_img/blob/main/lesson1/img/5.png?raw=true\" alt=\"コマンド補完2\" style=\"width:500px;\">"
   ]
  },
  {
   "cell_type": "code",
   "execution_count": null,
   "id": "87229b1c-93ca-45c0-8dee-5de22ef4795b",
   "metadata": {},
   "outputs": [],
   "source": [
    "from math import log"
   ]
  },
  {
   "cell_type": "markdown",
   "id": "24b6afcf-2112-4b2b-a7de-2ecd4eb93fbe",
   "metadata": {},
   "source": [
    "## 3.2.2 ヘルプの表示  \n",
    "変数や関数の後ろに？をつけて実行する (Shift-Return/Enter)とヘルプを表示させることができる"
   ]
  },
  {
   "cell_type": "code",
   "execution_count": null,
   "id": "533e9859-8953-43bf-8383-c24906eec65f",
   "metadata": {},
   "outputs": [],
   "source": [
    "log?"
   ]
  },
  {
   "cell_type": "markdown",
   "id": "c14dd22a-a33a-4f4a-ab6a-f54756cb2c56",
   "metadata": {},
   "source": [
    "また、変数や関数にカーソルを合わせた状態でShift-Tab を押すと、変数の内容や関数の説明をポップアップで表示できる"
   ]
  },
  {
   "cell_type": "code",
   "execution_count": null,
   "id": "34e25bb6-fe44-4a07-b3c5-73808df232bf",
   "metadata": {},
   "outputs": [],
   "source": [
    "log"
   ]
  },
  {
   "cell_type": "markdown",
   "id": "c741ac89-a607-4ed8-b6e0-0a3beb98810c",
   "metadata": {},
   "source": [
    "##  マジックコマンド  \n",
    "様々な特殊な機能を提供するマジックコマンドには、行マジックとセルマジックの2種類がある。以下に代表的なものを挙げる。"
   ]
  },
  {
   "cell_type": "markdown",
   "id": "c3fc00ed-9686-4e8a-ab06-fc9dfb20f209",
   "metadata": {},
   "source": [
    "__行マジック__  \n",
    "独特の%で始まるマジックコマンドは行マジックと呼ばれ、単独で効果を発揮するものと、マジックコマンドを含んだ行に対して効果を発揮するものがある。なおautomajic機能が有効になっていると行マジックの先頭の%は省略できる。\n",
    "Automagicはデフォルトで有効化されている。"
   ]
  },
  {
   "cell_type": "code",
   "execution_count": null,
   "id": "dec3ff87-a036-48a3-93d3-c247aa7e4e75",
   "metadata": {},
   "outputs": [],
   "source": [
    "#automagic　機能が有効かを確認する方法\n",
    "%automagic"
   ]
  },
  {
   "cell_type": "code",
   "execution_count": null,
   "id": "7176aca4-6bb7-4424-b323-6555d0d0abe4",
   "metadata": {},
   "outputs": [],
   "source": [
    "#automagic　機能 on / off\n",
    "%automagic off\n",
    "%automagic on"
   ]
  },
  {
   "cell_type": "markdown",
   "id": "1e427dfe-e34c-45b3-91b4-3d55c63d1d0c",
   "metadata": {},
   "source": [
    "* %lsmagic マジックコマンドの一覧を表示する"
   ]
  },
  {
   "cell_type": "code",
   "execution_count": null,
   "id": "cd27439d-163e-4c5f-8ae6-d3714cd6cb6d",
   "metadata": {},
   "outputs": [],
   "source": [
    "%lsmagic "
   ]
  },
  {
   "cell_type": "markdown",
   "id": "21bd1324-f885-4aa5-8ccb-7d3f15785471",
   "metadata": {},
   "source": [
    "* %timeit, %time コマンドの実行時間を計測する"
   ]
  },
  {
   "cell_type": "code",
   "execution_count": null,
   "id": "b4bf27d5-7b4e-4568-b3dd-cf43f488969c",
   "metadata": {},
   "outputs": [],
   "source": [
    "%timeit sum([x * x for x in range (10**6)])"
   ]
  },
  {
   "cell_type": "markdown",
   "id": "e4c80ce9-8902-47f2-bc99-481df064822b",
   "metadata": {},
   "source": [
    "10回実行を1セットとして、7runs実行している。各1セット毎に 10回実行し、その平均を 1セット目の実行時間としたのちに、7runs 分の標準偏差を計算している。"
   ]
  },
  {
   "cell_type": "markdown",
   "id": "4f87eafb-5d15-4129-b495-474965a22504",
   "metadata": {},
   "source": [
    "* %run 外部のPython プログラムを実行する。"
   ]
  },
  {
   "cell_type": "code",
   "execution_count": null,
   "id": "48212754-672a-4e55-9ad4-290b821f4764",
   "metadata": {},
   "outputs": [],
   "source": [
    "%run script.py"
   ]
  },
  {
   "cell_type": "markdown",
   "id": "aed69403-2d86-42f3-b548-b883a33f3fc7",
   "metadata": {},
   "source": [
    "* ファイル/ディレクトリの操作 (%pwd, %cd, %ls など)\n",
    "  基本的なシェルコマンドの多くはマジックコマンドで利用できる。Automagic が有効になっている場合は%は省略できるため、ターミナルを使うのとほぼ同じ感覚でファイル／ディレクトリ操作ができる"
   ]
  },
  {
   "cell_type": "code",
   "execution_count": null,
   "id": "dde64800-bac0-44b5-87fb-1bc4946538df",
   "metadata": {},
   "outputs": [],
   "source": [
    "ls data/"
   ]
  },
  {
   "cell_type": "markdown",
   "id": "2966b77e-a73d-4337-81c2-cd7b40ad58bb",
   "metadata": {},
   "source": [
    "__セルマジック__  \n",
    "%%で始まるセルマジックはセル全体に対して効果を発揮する。"
   ]
  },
  {
   "cell_type": "markdown",
   "id": "4787887f-4a84-4b38-b7dc-44456ced1df7",
   "metadata": {},
   "source": [
    "* %%timeit, %%time  \n",
    "  セル全体の実行時間を表示する\n",
    "* %%bash\n",
    "  セルないでBash (Linuxコマンド言語) のコマンドを実行する"
   ]
  },
  {
   "cell_type": "code",
   "execution_count": null,
   "id": "e0ee005c-e474-47f4-a6f2-b5d956eaaac6",
   "metadata": {},
   "outputs": [],
   "source": [
    "%%bash\n",
    "cd data\n",
    "for filename in `ls` \n",
    "do\n",
    "  head -1 $filename\n",
    "done"
   ]
  },
  {
   "cell_type": "markdown",
   "id": "6264cd08-e7c0-4b12-9782-667e4ea74123",
   "metadata": {},
   "source": [
    "## 3.2.4　シェルコマンドの利用 \n",
    "マジックコマンドを利用する方法以外でもシェルコマンドを実行することができる"
   ]
  },
  {
   "cell_type": "markdown",
   "id": "bc8b3cf5-0561-433d-a7b4-a87d454a41c0",
   "metadata": {},
   "source": [
    "! をつけて任意のコマンドを実行可能  \n",
    "次の例はcurl コマンドを使ってDDBJ からファイルをダウンロードしているものである。リダイレクト (>)、パイプ (|) などのシェル機能も利用できる"
   ]
  },
  {
   "cell_type": "code",
   "execution_count": null,
   "id": "301a932a-6781-4e6d-a409-b49b318b12a9",
   "metadata": {},
   "outputs": [],
   "source": [
    "!curl \"https://www.ncbi.nlm.nih.gov/nuccore/AP014680.1?report=fasta&format=text\" > test.txt"
   ]
  },
  {
   "cell_type": "markdown",
   "id": "44dab534-43dd-4557-a525-127d222e562b",
   "metadata": {},
   "source": [
    "解析結果をPython の変数として受け取る  \n",
    "!を使って実行したシェルコマンドの結果はリストとしてPythonの変数に代入できる"
   ]
  },
  {
   "cell_type": "code",
   "execution_count": null,
   "id": "324ca371-d71e-4977-abc0-72ea9c3e5f1d",
   "metadata": {},
   "outputs": [],
   "source": [
    "file_name=!ls data/*\n",
    "print(file_name)"
   ]
  },
  {
   "cell_type": "markdown",
   "id": "2254618d-cd6d-4ddf-956f-3361e9964120",
   "metadata": {},
   "source": [
    "Python の変数をシェルコマンドに渡す。  \n",
    "{} (波かっこ) で括ることでPython の変数をシェルに渡すこともできる"
   ]
  },
  {
   "cell_type": "code",
   "execution_count": null,
   "id": "7e1ec5c7-a474-41be-b230-8ee18f572e14",
   "metadata": {},
   "outputs": [],
   "source": [
    "my_str=\"Hello\"\n",
    "!echo {my_str}"
   ]
  },
  {
   "cell_type": "markdown",
   "id": "4647f3fc-c685-45e7-8caf-76c18cf53e30",
   "metadata": {},
   "source": [
    "## 3.2.5 表形式データの表示  \n",
    "データ解析用のライブラリ pandas を使った場合、表形式データを見やすい形で自動整形してくれる。第13,14,15回で学ぶ予定。"
   ]
  },
  {
   "cell_type": "code",
   "execution_count": null,
   "id": "78716ce8-4ff4-4296-9f3a-b280309faa94",
   "metadata": {},
   "outputs": [],
   "source": [
    "import pandas as pd\n",
    "df = pd.DataFrame([[1,2,3,4],[10,20,30,40],[100,200,300,400]])\n",
    "df"
   ]
  },
  {
   "cell_type": "markdown",
   "id": "ebf67768-dc5b-4761-95b4-506ce9081287",
   "metadata": {},
   "source": [
    "## 3.2.6 グラフの描画  \n",
    "グラフ描画ライブラリMatplotlib を使ってデータを可視化できる。Matplotlib やデータの可視化手法の詳細は 第21,22,23,24回で学ぶ予定。"
   ]
  },
  {
   "cell_type": "code",
   "execution_count": null,
   "id": "c1b66b1b-4b28-41c4-86ba-8c8e3db8969a",
   "metadata": {},
   "outputs": [],
   "source": [
    "import numpy as np\n",
    "import matplotlib.pyplot as plt"
   ]
  },
  {
   "cell_type": "code",
   "execution_count": null,
   "id": "4b4e4032-f76f-4b91-ad97-6b7c40850666",
   "metadata": {},
   "outputs": [],
   "source": [
    "x=np.arange(-5,5,0.1)\n",
    "y1=np.sin(x)\n",
    "y2=np.cos(x)\n",
    "plt.plot(x,y1)\n",
    "plt.plot(x,y2)\n",
    "plt.show()"
   ]
  },
  {
   "cell_type": "markdown",
   "id": "14997a52-6df8-4b6e-9228-aaff12483c4d",
   "metadata": {},
   "source": [
    "# 3.3 今後の学習に向けて  \n",
    "Jupyter Noatebook の後継に当たる JupyterLabや Googleのクラウド上のJupyter 環境であるGoogle Colaboratory についても紹介する"
   ]
  },
  {
   "cell_type": "markdown",
   "id": "c872ecf4-3b6d-4261-a939-df41fa8187a5",
   "metadata": {},
   "source": [
    "## 3.3.1 JupyterLab  \n",
    "Jupyter Notebook の後継として開発が始まった対話型統合開発環境で、複数のファイルの同時編集やターミナルとの統合などの機能強化が行われている。バージョン7 以降のJupyter Notebook でJupyterLabの機能との共有化が図られており、以前のバージョンのNotebookとは大幅に外観や利用できる機能も異なっている。\n",
    "\n",
    "教科書の手順に従って、Jupyter Notebook をインストールしている場合、JupyterLab はすぐに利用できる状態になっている。ターミナルで、  \n",
    "  \n",
    "__jupyter lab__  \n",
    "  \n",
    "と入力すると起動でき、Jupyter Notebook と同様にweb ブラウザが開いて画面が表示される。  \n",
    "JupyterLab は統合開発環境 (Integrated Development Environment, IDE) ソフトのような画面構成が特徴で、画面左端のサイドバーからファイルの管理や各種の設定ができるようになっている。また、エディタ部分の分割表示も可能で、複数のファイルやターミナルを開きながらの作業がやりやすくなっている。分割するだけでなくタブを使った複数ファイルの切り替えもできる。  \n",
    "\n",
    "教科書のサンプルファイルも含め、Jupyter Notebook で作成したファイルは JupyterLab上でも同様に実行できるので、はじめからJupyterLabを使って学習を進めてもよい。基本的なキーボードショートカットのほとんどは共通して使用できる。"
   ]
  },
  {
   "cell_type": "markdown",
   "id": "04950096-cc70-49cc-a766-5ef6bb02894e",
   "metadata": {},
   "source": [
    "<img src=\"https://github.com/tmochidu/tokyoiyaku_lecture2025_img/blob/main/lesson1/img/6.png?raw=true\" alt=\"jupyterlab\" style=\"width:700px;\">"
   ]
  },
  {
   "cell_type": "markdown",
   "id": "3aac03b9-cfd5-4c3b-af2e-6e99768911af",
   "metadata": {},
   "source": [
    "## 3.3.3 Google Colaboratory  \n",
    "google Colaboratory (Google Colab) は google が提供する Jupyter Notebook の実行環境で、Google アカウントが必要ではあるがインストールや設定の必要はなく、無料で利用できる。GPU (Graphics Processing Unit, 画像処理に適したプロセッサー) や TPU (Tensor Processing Unit, Google が開発した機械学習に特化したプロセッサー) も利用でき、必要なライブラリもインストール済みであることから、特に機械学習分野での利用に適している。 "
   ]
  },
  {
   "cell_type": "markdown",
   "id": "804e1e03-88d6-4ab2-ad86-b9e234e89aac",
   "metadata": {},
   "source": [
    "<img src=\"https://github.com/tmochidu/tokyoiyaku_lecture2025_img/blob/main/lesson1/img/7.png?raw=true\" alt=\"google\" style=\"width:600px;\">"
   ]
  },
  {
   "cell_type": "markdown",
   "id": "ab09d47f-68e1-421e-ad65-c183c7251eed",
   "metadata": {},
   "source": [
    "google Colab を利用するには、Webブラウザで、colab.research.google.com を開く。  \n",
    "チュートリアル用のファイルを閲覧するだけであれば、Google アカウントは不要であるが、実行したり新規にファイルを作成したりするためには Google アカウントでのログインが必要である。ログイン状態になっていなければ画面右上のログインボタンからログインしておく。  "
   ]
  },
  {
   "cell_type": "markdown",
   "id": "5f097c5a-22f3-4d59-86b3-94ee2dc8c2b1",
   "metadata": {},
   "source": [
    "新規ファイルを作成する際は、メニューバーのファイルからドライブの新しいノートブックを選ぶ。画面構成やコマンドショートカットの方法は多少異なるが、Jupyter Notebook と同じようにコードを実行していくことができる。"
   ]
  },
  {
   "cell_type": "markdown",
   "id": "e2143187-d21e-44c8-9d73-e15dd1cc0d20",
   "metadata": {},
   "source": [
    "<img src=\"https://github.com/tmochidu/tokyoiyaku_lecture2025_img/blob/main/lesson1/img/8.png?raw=true\" alt=\"jupyterlab\" style=\"width:600px;\">"
   ]
  },
  {
   "cell_type": "markdown",
   "id": "7acd54d4-4050-4003-a3ea-2273c0ad9bf7",
   "metadata": {},
   "source": [
    "なお、ファイルは Google Drive 上に作成されるColab Notebooks というフォルダ内に保存される。  \n",
    "別の起動方法として、Google Drive の __新規ファイル作成__ で Google Clab のファイルをあらかじめ任意の場所に作成したり、手元のノートブックをGoogle Drive 常にアップロードしたりして、それを開くことも行える。新規ファイルの作成は、Google Drive上の __新規ボタン->その他->Google Colaboratory__ を選ぶことで行える。なお、初めて使用する際は、 __アプリを追加__ でGoogle Colab を追加しておく必要がある。"
   ]
  },
  {
   "cell_type": "markdown",
   "id": "e6f0f2ca-0176-4598-a0c2-6bbc1d640e07",
   "metadata": {},
   "source": [
    "<img src=\"https://github.com/tmochidu/tokyoiyaku_lecture2025_img/blob/main/lesson1/img/9.png?raw=true\" alt=\"jupyterlab\" style=\"width:600px;\">"
   ]
  },
  {
   "cell_type": "markdown",
   "id": "1ecf6e53-e230-4f31-ba45-b6192f4aaaaa",
   "metadata": {},
   "source": [
    "Google Drive上のファイルをGoogle Colab で開くには、ファイル上で右クリックし、__アプリで開く->Google Colaboratory__ を選択する"
   ]
  },
  {
   "cell_type": "markdown",
   "id": "aea58e74-45d7-439b-8853-85d39bdafd3f",
   "metadata": {},
   "source": [
    "<img src=\"https://github.com/tmochidu/tokyoiyaku_lecture2025_img/blob/main/lesson1/img/10.png?raw=true\" alt=\"jupyterlab\" style=\"width:600px;\">"
   ]
  },
  {
   "cell_type": "markdown",
   "id": "085a52b8-9991-4a95-9a52-595c9150d6c2",
   "metadata": {},
   "source": [
    "以下にGoogle Colab を使用する上での注意点をいくつか述べる。"
   ]
  },
  {
   "cell_type": "markdown",
   "id": "01ab0c35-a693-4bad-ba3e-1f9edb8998d2",
   "metadata": {},
   "source": [
    "### 時間制限  \n",
    " Google ColabはGoogleクラウドの仮想マシン上で動作しており、利用には時間制限がかけられている。 __仮想マシン起動後12時間__ が経過すると実行中であったとしても仮想マシンは破棄される。ただし、Google Driveに保存したノートブックやデータファイルは残る。またブラウザの __ウィンドウを閉じて90分__ が経過した場合など長時間放置した場合には仮想マシンから切断される。  \n",
    "  \n",
    "### 外部リソースの利用  \n",
    " 仮想マシン外のリソース (自分のコンピュータ上にあるデータファイルなど) を利用するためには、仮想マシンにファイルをアップロードしたり、仮想マシン側からファイルを参照できるようになったりする必要がある。いくつかの方法が公式ドキュメントに紹介されているが、Google Drive を介してファイルのやりとりを行う方法を以下に解説する。なお、インターネット上で公開されているファイルに関してはcurlやwget などを使って仮想マシン側から直接ダウンロードすることができる。(Jupyter Notebook と同様、シェルコマンドの実行は!をつけることで行える。)"
   ]
  },
  {
   "cell_type": "markdown",
   "id": "a005b6d3-e651-40fd-94fb-1d7e171f8f25",
   "metadata": {},
   "source": [
    "以下の手順例では、Google Drive上にあらかじめ作成したcolab_dataというフォルダ内のファイルを参照する方法を示す。はじめにGoogke Driveを仮想マシンにマウントするため、Colab上で以下のコマンドを実行する。"
   ]
  },
  {
   "cell_type": "markdown",
   "id": "29067c6a-46fa-4ced-8035-2cebbfa9f487",
   "metadata": {},
   "source": [
    "<img src=\"https://github.com/tmochidu/tokyoiyaku_lecture2025_img/blob/main/lesson1/img/11.png?raw=true\" alt=\"jupyterlab\" style=\"width:600px;\">"
   ]
  },
  {
   "cell_type": "markdown",
   "id": "e10d97e4-d92e-4c5f-b733-a294f02dfce2",
   "metadata": {},
   "source": [
    "1つ目のセルの2行目のコマンドはカレントディレクトリ (初期状態では /content) にgdrive という名称でGoogle Drive をマウントすることを意味している。gdrive の部分は任意の名称でよい。実行するとGoogle ドライブへのアクセスを確認するウィンドウが表示されるので、画面の指示に従ってGoogleアカウントで認証を行う。  \n",
    "認証に成功すると、Googleドライブ上のファイルやフォルダはgdrive/MyDrive (絶対パスでは /content/gdrive/MyDrive/data/test.txt) というように参照できる。"
   ]
  },
  {
   "cell_type": "markdown",
   "id": "f99c1014-4753-4f90-ae82-e8ddbfa33b34",
   "metadata": {},
   "source": [
    "### モジュールのインストール  \n",
    "本書で利用するpandasやMatplotlibなどの拡張モジュールの多くはインストール済みなので初期状態から利用できる。Google Colab に含まれていないモジュールについては!をつけてpipコマンドを実行することで自分でインストールすることができる。"
   ]
  },
  {
   "cell_type": "markdown",
   "id": "877d9422-f91b-437b-8db5-8f78583b2812",
   "metadata": {},
   "source": [
    "<img src=\"https://github.com/tmochidu/tokyoiyaku_lecture2025_img/blob/main/lesson1/img/12.png?raw=true\" alt=\"jupyterlab\" style=\"width:600px;\">"
   ]
  },
  {
   "cell_type": "markdown",
   "id": "43decc16-66bc-4658-8e40-12eec7599df4",
   "metadata": {},
   "source": [
    "### Github からのインポート  \n",
    "GitHubで公開されているJupyter Notebookのファイルをインポートし、Google Colab上で実行することができる。メニューバーから __ファイル->ノートブックを開く->GitHub__ と選択するとGitHubのファイルを指定するダイアログが表示される。URL (あるいはGitHubのアカウント名) を指定して検索を実行するとリポジトリが含まれるノートブックファイルの一覧が表示されるので、目的のノートブックを選択して開くことができる。"
   ]
  },
  {
   "cell_type": "markdown",
   "id": "70dce5ca-afa4-40a1-958d-c632322a9def",
   "metadata": {},
   "source": [
    "<img src=\"https://github.com/tmochidu/tokyoiyaku_lecture2025_img/blob/main/lesson1/img/13.png?raw=true\" alt=\"jupyterlab\" style=\"width:600px;\">"
   ]
  },
  {
   "cell_type": "markdown",
   "id": "c0869a78-ef59-4bd3-bf27-7da4de0de405",
   "metadata": {},
   "source": [
    "一般に、インターネット上で公開されているファイルを扱う際には安全性に注意する必要がある。Google Colabでは、Googleが作成したノートブック以外を開いて実行する際にはセキュリティに関して警告が表示される。インポートしたファイルは、 __ファイル->ドライブにコピーを保存__ を行うことで Google Drive 上に保存できる。"
   ]
  },
  {
   "cell_type": "markdown",
   "id": "d553fbe6-26b0-4c72-9683-c9d787da3835",
   "metadata": {},
   "source": [
    "### 生成AIの利用  \n",
    "Google Colab上でGoogleが開発している __生成AI Gemini__ が利用できる。メニューバーの __Gemini__ ボタンを押すと対話パネルが開き質問をすることができる。また、新規セル上のAIで「 __生成__ 」をクリックするとプロンプト入力欄が表示され、指示に従ってコードが自動生成される。  \n"
   ]
  },
  {
   "cell_type": "markdown",
   "id": "025c848b-d15a-4d88-814f-938a3c089d22",
   "metadata": {},
   "source": [
    "<img src=\"https://github.com/tmochidu/tokyoiyaku_lecture2025_img/blob/main/lesson1/img/14.png?raw=true\" alt=\"jupyterlab\" style=\"width:600px;\">"
   ]
  },
  {
   "cell_type": "markdown",
   "id": "070c270c-c152-4f2f-9a6e-2bf0b24a62f9",
   "metadata": {},
   "source": [
    "<img src=\"https://github.com/tmochidu/tokyoiyaku_lecture2025_img/blob/main/lesson1/img/15.png?raw=true\" alt=\"jupyterlab\" style=\"width:600px;\">"
   ]
  },
  {
   "cell_type": "markdown",
   "id": "90fd2913-6e24-4cf4-97b8-2258bf4450e6",
   "metadata": {},
   "source": [
    "## 3.3.3 Visual Studio Code  \n",
    " __Visual Studio Code (VScode)__ はマイクロソフト社が開発している統合開発ツールで無料で利用できる。 VScodeには、プログラムを解析して問題のある箇所の指摘や補完を行う静的解析や、__GitHub Copilot__ に代表されるコード生成機能などさまざまな拡張機能が用意されている。VScode の機能は多岐にわたるため詳細の説明は他の書籍やウェブ資料に譲るとして、ここではVScodeを利用してJupyter Notebookと同様にインタラクティブにコーディングを行う方法を簡単に紹介する。  \n",
    " 以下ではVScode にPythonの拡張機能が必要となる。これらは画面左のメニューの拡張機能アイコンを押して表示される管理パネルからインストールできる。"
   ]
  },
  {
   "cell_type": "markdown",
   "id": "d3105203-da24-4f56-a1be-20efa55a48f4",
   "metadata": {},
   "source": [
    "### Notebook形式ファイルを開く  \n",
    " Pythonの拡張機能がインストールされていれば Notebook形式のファイル (.ipynb) をVScodeで開いて実行できる。画面の左上に現在使用中のカーネルが表示されており、これをクリックすることで他のカーネルに切り替えることができる。例えば異なるモジュールがインストールされたconda仮想環境のPythonやBashのカーネルに切り替えることができる。"
   ]
  },
  {
   "cell_type": "markdown",
   "id": "970b1150-b8b2-4b4d-bf26-76d2702f5cbe",
   "metadata": {},
   "source": [
    "<img src=\"https://github.com/tmochidu/tokyoiyaku_lecture2025_img/blob/main/lesson1/img/16.png?raw=true\" alt=\"jupyterlab\" style=\"width:600px;\">"
   ]
  },
  {
   "cell_type": "markdown",
   "id": "ba54a297-f5b1-465a-af34-d0f714178d32",
   "metadata": {},
   "source": [
    "Github Copilotの機能拡張をインストールしていればコードの自動生成も利用できる。このような強力な開発支援機能を利用できる点はVScodeでNotebookファイルを扱う際の大きなメリットといえる。"
   ]
  },
  {
   "cell_type": "markdown",
   "id": "a531605c-0763-4d60-ace0-16454553318b",
   "metadata": {},
   "source": [
    "<img src=\"https://github.com/tmochidu/tokyoiyaku_lecture2025_img/blob/main/lesson1/img/17.png?raw=true\" alt=\"jupyterlab\" style=\"width:600px;\">"
   ]
  },
  {
   "cell_type": "markdown",
   "id": "6814c6e6-5524-42eb-b88c-150d73831bfc",
   "metadata": {},
   "source": [
    "### Python スクリプトをインタラクティブに実行する  \n",
    "Notebook形式ではない通常のPythonスクリプトファイル(.py)を編集する際にもVScodeの機能を使ってJupyter Notebookと同様にインタラクティブにコードの実行ができる。  \n",
    "スクリプトの途中に'#%%' を記載することでその部分を擬似的なセルとしてShift-Eter/Return で実行でき、実行結果は画面右に即座に表示される。編集したファイルを通常のスクリプトとして実行する際には'#%%'と書かれた行はコメント行として解釈される(無視される)ので動作に影響はない。この機能は試行錯誤を行いながらスクリプトファイルを作成する際に便利である。"
   ]
  },
  {
   "cell_type": "markdown",
   "id": "a2731fca-f50f-4fc5-9511-0a73f8ca4f92",
   "metadata": {},
   "source": [
    "<img src=\"https://github.com/tmochidu/tokyoiyaku_lecture2025_img/blob/main/lesson1/img/18.png?raw=true\" alt=\"jupyterlab\" style=\"width:600px;\">"
   ]
  },
  {
   "cell_type": "code",
   "execution_count": null,
   "id": "a283723b-315d-45f6-ad9f-c7c1326b7109",
   "metadata": {},
   "outputs": [],
   "source": []
  },
  {
   "cell_type": "code",
   "execution_count": null,
   "id": "d1c81af5-d0a3-4907-91fd-febf59318a4e",
   "metadata": {},
   "outputs": [],
   "source": []
  }
 ],
 "metadata": {
  "kernelspec": {
   "display_name": "Python 3 (ipykernel)",
   "language": "python",
   "name": "python3"
  },
  "language_info": {
   "codemirror_mode": {
    "name": "ipython",
    "version": 3
   },
   "file_extension": ".py",
   "mimetype": "text/x-python",
   "name": "python",
   "nbconvert_exporter": "python",
   "pygments_lexer": "ipython3",
   "version": "3.11.11"
  }
 },
 "nbformat": 4,
 "nbformat_minor": 5
}
