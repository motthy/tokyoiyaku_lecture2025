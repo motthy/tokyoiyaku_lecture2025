{
 "cells": [
  {
   "cell_type": "markdown",
   "id": "7eca2378-0a94-4f87-b713-bf94e64a43eb",
   "metadata": {},
   "source": [
    "## 4.5 制御構文  \n",
    " if文、for文、while文といった制御構文について確認していく。まず、前提として、ここで説明する制御構文 (制御フロー) は以下のような形で記載される。if文を例にとると  \n",
    "\n",
    "~~~\n",
    "if 条件:\n",
    "   コード1  \n",
    "   コード2  \n",
    "   ...  \n",
    "~~~\n",
    "\n",
    "というような形で入力される。こうすることで、if文などによって実際に処理されるコードが、字下げにより、__コードブロック__として認識され、処理される。  \n",
    " ただし、ご自身でJupyter Notebook にこれらのコードを入力していくと、改行と同時に自動的にインデントが入る。そこから改行してもインデントが入った状態が継続される。(これは、高機能なエディタ等でPythonコードを入力しても同様のこととなったりする)。「自分でわざわざさらにインデントを足す」という作業は必要ない。\n"
   ]
  },
  {
   "cell_type": "markdown",
   "id": "b34c28f4-778c-4750-ab47-9955ea5cb82d",
   "metadata": {},
   "source": [
    "##### 4.5.1 if 文  \n",
    "if文は、条件分岐のための構文。次の文を実行してみる。"
   ]
  },
  {
   "cell_type": "code",
   "execution_count": 2,
   "id": "5d39f05b-66aa-4745-a03d-d7a3883e3323",
   "metadata": {},
   "outputs": [
    {
     "name": "stdout",
     "output_type": "stream",
     "text": [
      "above 300\n"
     ]
    }
   ],
   "source": [
    "gene_set1 = {'chr': 1, 'pos': 324, 'ref' : 'c', 'var': 't'}\n",
    "\n",
    "if gene_set1['pos'] >= 300:\n",
    "    print('above 300')"
   ]
  },
  {
   "cell_type": "markdown",
   "id": "49f1045b-1dd4-43b2-b226-259cac5ce212",
   "metadata": {},
   "source": [
    "辞書型gene_set1のposが300を超えていたら、above 300と出力する。  \n",
    "gene_set1 のpos の数値を、例えば250に書き換えて再実行してみると何も表示されない、というのがわかると思います。  \n",
    "\n",
    "さて、ここでelifとelseを書き加えてみる。これで「もし...なら」「さもなくば、もし・・・・なら」「どれでもなかったら・・・・」という分岐を作ることができる。Jupyter Notebookでは、この際のインデントは自動で入る。この字下げを行うことで、実行文 (ここではprint()の行) がブロック化されて扱われることになる。"
   ]
  },
  {
   "cell_type": "markdown",
   "id": "51e296ad-eeb6-47b8-977c-10ed70a0fb15",
   "metadata": {},
   "source": [
    "list1 の型を確認する。"
   ]
  },
  {
   "cell_type": "code",
   "execution_count": 3,
   "id": "441816b1-d9c4-4224-8519-2e20fbfb6599",
   "metadata": {},
   "outputs": [
    {
     "name": "stdout",
     "output_type": "stream",
     "text": [
      "above 300\n"
     ]
    }
   ],
   "source": [
    "gene_set1 = {'chr': 1, 'pos': 324, 'ref' : 'c', 'var': 't'}\n",
    "\n",
    "if gene_set1['pos'] >= 300: #もしposが300以上なら\n",
    "    print('above 300')\n",
    "\n",
    "elif gene_set1['pos'] >= 200: #さもなくば、もし200以上なら\n",
    "    print('above 200')\n",
    "\n",
    "else: #そのどれでもなかったら\n",
    "    print('under 200')"
   ]
  },
  {
   "cell_type": "markdown",
   "id": "0e0f8ae2-f8c7-4150-b5d8-450188d0e343",
   "metadata": {},
   "source": [
    "'pos': 324 の部分をいろいろ書き換えてためしてみてください。"
   ]
  },
  {
   "cell_type": "markdown",
   "id": "eee088d6-e606-4bfd-9ecf-bfba4f322234",
   "metadata": {},
   "source": [
    "__参考7: 論理演算__\n",
    "  \n",
    "先ほどは、シンプルにgene_set1['pos']の値で条件分けをしていた。ですが、例えば、 x >= 300 かつ y>=200なら... といった複数の条件を組み合わせることも考えられる。論理演算によって、このような操作が可能となる。"
   ]
  },
  {
   "cell_type": "code",
   "execution_count": 4,
   "id": "89d03c7c-4e79-4677-ae42-5c257c9dcc6b",
   "metadata": {},
   "outputs": [
    {
     "name": "stdout",
     "output_type": "stream",
     "text": [
      "sucess\n"
     ]
    }
   ],
   "source": [
    "x=350\n",
    "y=250\n",
    "\n",
    "if x >= 300 and y > 200:\n",
    "    print('sucess')\n",
    "\n",
    "elif x >= 300 or y > 200:\n",
    "    print('half sucess')"
   ]
  },
  {
   "cell_type": "markdown",
   "id": "a08c5cf6-cfa0-487f-99f9-de9bf31a11e2",
   "metadata": {},
   "source": [
    "条件1 and 条件2とすることで、両方ともTrueの場合に条件を満たしたと判断される。条件1 or 条件2とすることで、片方 (もしくは両方) がTrue の場合に条件を満たしたと判断される。xとyの値を変化させて試してみてください。さらに not (否定) もある。"
   ]
  },
  {
   "cell_type": "code",
   "execution_count": 5,
   "id": "42f08a33-8bd9-4e95-aee9-66e1f0aa9870",
   "metadata": {},
   "outputs": [
    {
     "name": "stdout",
     "output_type": "stream",
     "text": [
      "sucess\n"
     ]
    }
   ],
   "source": [
    "x=150\n",
    "y=150\n",
    "\n",
    "if not x >= 300 and not y >= 200:\n",
    "    print('sucess')"
   ]
  },
  {
   "cell_type": "markdown",
   "id": "c0d3f7b7-bb78-42c7-b0bb-84db595fdcde",
   "metadata": {},
   "source": [
    "こうすることで x >= 300 「ではなく」、かつ y>= 200 「ではない」 ときのみ True と判断がされる。"
   ]
  },
  {
   "cell_type": "markdown",
   "id": "f3dd1222-adcb-4d82-9d1d-f9240486ce41",
   "metadata": {},
   "source": [
    "### 4.5.2 for文章  \n",
    "~~~\n",
    "for 変数 in データの並び (list)など:\n",
    "    処理2\n",
    "    処理2\n",
    "~~~\n",
    "\n",
    "とすることで、データの並び分だけ反復処理を行う。例えば、リストはこのデータの並びとして使うことができる。ここでも for の次の行のインデントを忘れないように。"
   ]
  },
  {
   "cell_type": "code",
   "execution_count": 8,
   "id": "6abe2978-f88d-4d4a-b417-e75c7297b2a6",
   "metadata": {},
   "outputs": [
    {
     "name": "stdout",
     "output_type": "stream",
     "text": [
      "gene_01  is tested\n",
      "gene_02  is tested\n",
      "gene_03  is tested\n"
     ]
    }
   ],
   "source": [
    "for_iter = ['gene_01', 'gene_02', 'gene_03']\n",
    "\n",
    "for gene in for_iter:\n",
    "    print(gene, ' is tested')"
   ]
  },
  {
   "cell_type": "markdown",
   "id": "d6d31009-5312-4b74-8e04-32211fd6b471",
   "metadata": {},
   "source": [
    "タプルなども使用可能。先ほどの入力をコピペして、角カッコ[]のところだけ丸カッコ()に変えてみる。"
   ]
  },
  {
   "cell_type": "code",
   "execution_count": 9,
   "id": "ad61cbc0-e4be-4fe9-8652-21944b34b15e",
   "metadata": {},
   "outputs": [
    {
     "name": "stdout",
     "output_type": "stream",
     "text": [
      "gene_01  is tested\n",
      "gene_02  is tested\n",
      "gene_03  is tested\n"
     ]
    }
   ],
   "source": [
    "for_iter = ('gene_01', 'gene_02', 'gene_03')\n",
    "\n",
    "for gene in for_iter:\n",
    "    print(gene, ' is tested')"
   ]
  },
  {
   "cell_type": "markdown",
   "id": "f6e951da-fb8f-47d0-9b01-1c8c4c99b1c8",
   "metadata": {},
   "source": [
    "集合型もできるが、順序の保証はない。"
   ]
  },
  {
   "cell_type": "code",
   "execution_count": 10,
   "id": "2de17dd8-c66a-4ccb-9d7e-5c43848aa51f",
   "metadata": {},
   "outputs": [
    {
     "name": "stdout",
     "output_type": "stream",
     "text": [
      "gene_02  is tested\n",
      "gene_01  is tested\n",
      "gene_03  is tested\n"
     ]
    }
   ],
   "source": [
    "for_iter = {'gene_01', 'gene_02', 'gene_03'}\n",
    "\n",
    "for gene in for_iter:\n",
    "    print(gene, ' is tested')"
   ]
  },
  {
   "cell_type": "markdown",
   "id": "89a77969-839d-4155-ba09-034354019f5c",
   "metadata": {},
   "source": [
    "文字列もできる"
   ]
  },
  {
   "cell_type": "code",
   "execution_count": 11,
   "id": "8e37d9eb-1d57-4253-8fe1-ff56bc922eea",
   "metadata": {},
   "outputs": [
    {
     "name": "stdout",
     "output_type": "stream",
     "text": [
      "a  is tested\n",
      "t  is tested\n",
      "g  is tested\n",
      "c  is tested\n",
      "A  is tested\n",
      "T  is tested\n",
      "G  is tested\n",
      "C  is tested\n"
     ]
    }
   ],
   "source": [
    "for_iter = 'atgcATGC'\n",
    "\n",
    "for gene in for_iter:\n",
    "    print(gene, ' is tested')"
   ]
  },
  {
   "cell_type": "markdown",
   "id": "c37b9f97-8e7d-476d-be72-0c9ff61b5c6b",
   "metadata": {},
   "source": [
    "「10回繰り返す」という場合は数列を作る range()関数を使うと便利。例えば、for文のinのところにrange(10)と入れることで、0から9で計10回繰り返される。"
   ]
  },
  {
   "cell_type": "code",
   "execution_count": 13,
   "id": "c0a2d963-5d0c-4d82-a2df-769a1cc863a2",
   "metadata": {},
   "outputs": [
    {
     "name": "stdout",
     "output_type": "stream",
     "text": [
      "0  is tested\n",
      "1  is tested\n",
      "2  is tested\n",
      "3  is tested\n",
      "4  is tested\n",
      "5  is tested\n",
      "6  is tested\n",
      "7  is tested\n",
      "8  is tested\n",
      "9  is tested\n"
     ]
    }
   ],
   "source": [
    "for_range = range(10)\n",
    "\n",
    "for gene in for_range:\n",
    "    print(gene, ' is tested')"
   ]
  },
  {
   "cell_type": "markdown",
   "id": "23d5968e-25b9-4ae7-8da3-c9b198b24f64",
   "metadata": {},
   "source": [
    "__参考8: 「イテレータ」「イタラブル」といった用語について__\n",
    "\n",
    "~~~\n",
    "for 変数 in データの並び (list)など:\n",
    "    処理2\n",
    "    処理2\n",
    "~~~\n",
    "  \n",
    "「データの並び(list)など」という微妙な言い方をしている。\n",
    "多くの場合には、listなどが入ることになるが、データそのものだけではなく、「データの並びを生成可能なものが入る」と理解しておくと良い。  \n",
    "シンプルな「並び」だけではなく、それらを生成する機能を持ったもの (1回ずつ取り出していけるもの)を入力することもできる。\n",
    "例えば、zip()関数。for x,y in zip(data1, data2):\n",
    "~~~\n",
    "nums = [1, 10, 1000]\n",
    "chars = ['Z', 'B', 'Y']\n",
    "symbols = ['-', '^', '#']\n",
    "\n",
    "for n, l, s in zip(nums, chars, symbols):\n",
    "    print(n, l, s)\n",
    "\n",
    "以下出力\n",
    "1 Z -\n",
    "10 B ^\n",
    "1000 Y #\n",
    "~~~  \n",
    "\n",
    "このように「1回ずつ取り出していけるもの」を「イテラブル (なオブジェクト)」という。そして、for文のin以下の部分では、「イタラブル」なものを受け取り、そこから「イタレータ」という「1つずつ値を取り出せる機構」を生成して、それを用いて for ループを回している。イタラブル、イタレータという言葉はよく耳にすることになると思います。\n",
    "\n",
    "イタラブルブル: nums, chars, symbols  \n",
    "イタレータ: zip(nums, chars, symbols)\n",
    "\n"
   ]
  },
  {
   "cell_type": "markdown",
   "id": "07cdd591-aa5e-42c9-8f35-1d802ab1f8e8",
   "metadata": {},
   "source": [
    "### 4.5.3 while文  \n",
    "\n",
    "~~~\n",
    "while 条件式:\n",
    "    処理1\n",
    "    処理2\n",
    "~~~\n",
    "\n",
    "とすることで「条件式が真の間は」処理を繰り返すという構文。"
   ]
  },
  {
   "cell_type": "code",
   "execution_count": 5,
   "id": "f5b7016e-13eb-44fd-84ea-b984a674d39b",
   "metadata": {},
   "outputs": [
    {
     "name": "stdout",
     "output_type": "stream",
     "text": [
      "check_number =  0\n",
      "check_number =  1\n",
      "check_number =  2\n",
      "check_number =  3\n",
      "check_number =  4\n",
      "check_number =  5\n",
      "check_number =  6\n",
      "check_number =  7\n",
      "check_number =  8\n"
     ]
    }
   ],
   "source": [
    "check_number = 0\n",
    "while check_number <= 8:\n",
    "    print('check_number = ', check_number)\n",
    "    check_number = check_number + 1"
   ]
  },
  {
   "cell_type": "markdown",
   "id": "0a8a3595-cd63-458f-97ef-9087a14aad66",
   "metadata": {},
   "source": [
    "「check_numberが8以下の場合は、その数を表示して、さらに1を足せ」という命令になっている。これにより「ある条件が満たすようなるまでは処理を続ける」という操作が可能になる。"
   ]
  },
  {
   "cell_type": "markdown",
   "id": "7bbd3fcb-7826-46ba-9b1d-83e53a14c724",
   "metadata": {},
   "source": [
    "### 4.5.4 リスト内包表記  \n",
    "for文などを学んだところで、リスト内包表記について学ぶ。リスト内包表記は、リストの各要素に関数を適用することで新しいリストを取得する、特殊な表記方法である。\n",
    "\n",
    "~~~\n",
    "[式 for 変数 in リスト if 条件]\n",
    "~~~\n",
    "\n",
    "という形式で記述する。"
   ]
  },
  {
   "cell_type": "code",
   "execution_count": 6,
   "id": "2d9acf5c-7426-45e6-bb41-bb4d39893437",
   "metadata": {},
   "outputs": [
    {
     "data": {
      "text/plain": [
       "[1, 9, 8, 4]"
      ]
     },
     "execution_count": 6,
     "metadata": {},
     "output_type": "execute_result"
    }
   ],
   "source": [
    "list_test = [1, 9, 8, 4]\n",
    "list_test"
   ]
  },
  {
   "cell_type": "code",
   "execution_count": 9,
   "id": "574f1446-4e6e-4739-9510-2b845b1dc841",
   "metadata": {},
   "outputs": [
    {
     "data": {
      "text/plain": [
       "[2, 18, 16, 8]"
      ]
     },
     "execution_count": 9,
     "metadata": {},
     "output_type": "execute_result"
    }
   ],
   "source": [
    "list_comp = [x * 2 for x in list_test] #ifの部分は省略されている\n",
    "list_comp"
   ]
  },
  {
   "cell_type": "markdown",
   "id": "895cd07b-e2d9-4267-a0da-3e3fd6f396b1",
   "metadata": {},
   "source": [
    "[x * 2 for x in list_test] の部分を右から見ていく。 for x in list_test の部分で、for 変数 in リスト形式で、list_test から1つずつ要素を取り出す。先ほどのfor 文と同じ形式である。次に x * 2 で取り出した値 x * 2をしている。さらにこれに条件を加えてみる。"
   ]
  },
  {
   "cell_type": "code",
   "execution_count": 11,
   "id": "b906d45b-3043-4d29-aa5d-7fa2d11540b0",
   "metadata": {},
   "outputs": [
    {
     "data": {
      "text/plain": [
       "[2, 18, 8]"
      ]
     },
     "execution_count": 11,
     "metadata": {},
     "output_type": "execute_result"
    }
   ],
   "source": [
    "list_comp = [x * 2 for x in list_test if x != 8]\n",
    "list_comp"
   ]
  },
  {
   "cell_type": "markdown",
   "id": "e67ab454-05df-40c3-a3f3-370c0ffdb1da",
   "metadata": {},
   "source": [
    "x != 8 (xが8ではないもの)　の条件を追加した。そのため [1,9,8,4]のうち[1,9,4]が条件にあう数値となり、その2倍が新たなリストとして生成された。"
   ]
  },
  {
   "cell_type": "markdown",
   "id": "f2214838-9fc1-403b-8bc8-31ae4275ed4e",
   "metadata": {},
   "source": [
    "## 自作関数"
   ]
  },
  {
   "cell_type": "markdown",
   "id": "75c3b2d1-a46c-4a99-80ee-65ed4199a4ab",
   "metadata": {},
   "source": [
    "### 4.6.1 自作関数の基本  \n",
    "他の多くのプログラミング言語と同様に Python には、一定の処理をまとめて記述するものとして __関数__ という機能が用意されている。そして、「組み込み関数」のほかに、自分で関数 (自作関数) を定義することもできる。  \n",
    "  \n",
    "~~~\n",
    "def 関数名(引数リスト):  \n",
    "    処理\n",
    "~~~  \n",
    "\n",
    "関数はこのように記載する。defはdefine (定義する) の意味。コードを書いて確認する。"
   ]
  },
  {
   "cell_type": "code",
   "execution_count": 13,
   "id": "2327e92f-5717-48e2-8dd1-6d51bb59b198",
   "metadata": {},
   "outputs": [],
   "source": [
    "def say_hello(x):\n",
    "    print('hello', x)"
   ]
  },
  {
   "cell_type": "markdown",
   "id": "10b35f43-aeac-42b3-8be9-78512c6f5fe3",
   "metadata": {},
   "source": [
    "これで関数 say_hello() が作成できた。これを実行する。"
   ]
  },
  {
   "cell_type": "code",
   "execution_count": 14,
   "id": "1a79cb82-96dd-4b8c-bd44-d7e0a6f8bef6",
   "metadata": {},
   "outputs": [
    {
     "name": "stdout",
     "output_type": "stream",
     "text": [
      "hello Jannet\n"
     ]
    }
   ],
   "source": [
    "say_hello('Jannet')"
   ]
  },
  {
   "cell_type": "markdown",
   "id": "17cf4175-3711-42a3-9b43-ad252f7b101b",
   "metadata": {},
   "source": [
    "'Jannet' という文字列が関数に引数として渡され、文字列を加工した結果が返された。上記の例では、関数の()内に引数を渡しているが、キーワードを指定する方法もある。"
   ]
  },
  {
   "cell_type": "code",
   "execution_count": 20,
   "id": "211ee1fe-b5a2-4c33-8ccc-d7b500eabf13",
   "metadata": {},
   "outputs": [],
   "source": [
    "def say_helloandtime(name, time):\n",
    "    print('hello', name)\n",
    "    print('clock', time)"
   ]
  },
  {
   "cell_type": "markdown",
   "id": "5d049fd0-198a-4b9a-862d-7428f9b6db48",
   "metadata": {},
   "source": [
    "この関数には name, time の二つの引数が渡されている。キーワードとして渡す場合には以下のようになる。"
   ]
  },
  {
   "cell_type": "code",
   "execution_count": 21,
   "id": "8a0f64fd-c56d-4bb2-8d17-784a41b80740",
   "metadata": {},
   "outputs": [
    {
     "name": "stdout",
     "output_type": "stream",
     "text": [
      "hello Jannet\n",
      "clock 3\n"
     ]
    }
   ],
   "source": [
    "say_helloandtime(name='Jannet', time=3)"
   ]
  },
  {
   "cell_type": "markdown",
   "id": "be360755-ebb6-44ba-89d8-b580f82ce930",
   "metadata": {},
   "source": [
    "それぞれ name と time を指定して値を渡している。引き渡し順を変えても同じ結果が得られる。"
   ]
  },
  {
   "cell_type": "code",
   "execution_count": 22,
   "id": "a1881c3e-646a-4c1a-9928-d19f25215b12",
   "metadata": {},
   "outputs": [
    {
     "name": "stdout",
     "output_type": "stream",
     "text": [
      "hello Jannet\n",
      "clock 3\n"
     ]
    }
   ],
   "source": [
    "say_helloandtime(time=3, name='Jannet')"
   ]
  },
  {
   "cell_type": "markdown",
   "id": "4859e41a-d436-43e3-938a-4558a5864080",
   "metadata": {},
   "source": [
    "戻り値 (関数が処理の結果として返す値) の指定には return を用いる。"
   ]
  },
  {
   "cell_type": "code",
   "execution_count": 23,
   "id": "7ed022ae-66b1-482c-aee4-6ef475e0189b",
   "metadata": {},
   "outputs": [
    {
     "data": {
      "text/plain": [
       "'Jannet'"
      ]
     },
     "execution_count": 23,
     "metadata": {},
     "output_type": "execute_result"
    }
   ],
   "source": [
    "def check_name():\n",
    "    return 'Jannet'\n",
    "\n",
    "check_name() #実行してみる"
   ]
  },
  {
   "cell_type": "markdown",
   "id": "a35fd7f4-c91b-4d6b-a450-b1c779fa3fc2",
   "metadata": {},
   "source": [
    "実行されたらJannetという名前 (str型文字列) と常に返す。これを print()関数 に組み込む。"
   ]
  },
  {
   "cell_type": "code",
   "execution_count": 24,
   "id": "f68d1ad8-4a82-437c-8bc5-c725d4967815",
   "metadata": {},
   "outputs": [
    {
     "name": "stdout",
     "output_type": "stream",
     "text": [
      "hello Jannet\n"
     ]
    }
   ],
   "source": [
    "print('hello', check_name())"
   ]
  },
  {
   "cell_type": "markdown",
   "id": "2744aea4-1499-4643-a165-4f3638baea32",
   "metadata": {},
   "source": [
    "check_name()関数は、文字列Jannet を戻り値としている。print()関数の中でその関数が呼び出されている。returnでは、複数の値を戻すこともできる。"
   ]
  },
  {
   "cell_type": "code",
   "execution_count": 26,
   "id": "806782c0-d47a-4e3e-b923-0f2a373c6560",
   "metadata": {},
   "outputs": [
    {
     "name": "stdout",
     "output_type": "stream",
     "text": [
      "hello Jannet and Andy\n"
     ]
    }
   ],
   "source": [
    "def check_name2():\n",
    "    return 'Jannet', 'Andy'\n",
    "\n",
    "\n",
    "x, y = check_name2() #実行してみる\n",
    "\n",
    "print('hello', x, 'and', y)"
   ]
  },
  {
   "cell_type": "markdown",
   "id": "afc01c4b-b04d-4082-a911-3424c620f6e8",
   "metadata": {},
   "source": [
    "check_name2()では Jannet と Andy, 2つの文字列が返され、最初の値がx, 次の値がyに代入される。"
   ]
  },
  {
   "cell_type": "markdown",
   "id": "f7c34715-8018-458f-b175-b9430afdc381",
   "metadata": {},
   "source": [
    "### 4.6.2 可変長引数  \n",
    "可変長引数というタイプの引数の渡し方についても見ておく。"
   ]
  },
  {
   "cell_type": "code",
   "execution_count": 27,
   "id": "4e1b8d65-b5f4-4ff6-bd49-b516560bebe3",
   "metadata": {},
   "outputs": [
    {
     "name": "stdout",
     "output_type": "stream",
     "text": [
      "args: (1, 2, 3, 4, 5)\n",
      "args[1]: 2\n"
     ]
    }
   ],
   "source": [
    "def func_args(*args):\n",
    "    print('args:', args)\n",
    "    print('args[1]:', args[1])\n",
    "\n",
    "func_args(1,2,3,4,5)"
   ]
  },
  {
   "cell_type": "markdown",
   "id": "922bf2a2-c80c-4656-abd4-c3c893df63a2",
   "metadata": {},
   "source": [
    "まず、*argsについて。仮引数 (args) の頭にアスタリスク (*) をつけることで、数を定めずに引数をいくつも渡すことができる。渡された引数はタプルとして保存され、関数内部で参照できる。実際にargs[1]の数値も出力している。"
   ]
  },
  {
   "cell_type": "code",
   "execution_count": 29,
   "id": "d60cb5be-cdf8-432f-8f78-f51012a3fa51",
   "metadata": {},
   "outputs": [
    {
     "name": "stdout",
     "output_type": "stream",
     "text": [
      "kwargs: {'a': 1, 'b': 2, 'c': 3, 'd': 4, 'e': 5}\n",
      "kwargs[a]: 1\n"
     ]
    }
   ],
   "source": [
    "def func_kwargs(**kwargs):\n",
    "    print('kwargs:', kwargs)\n",
    "    print('kwargs[a]:', kwargs['a'])\n",
    "\n",
    "func_kwargs(a=1,b=2,c=3,d=4,e=5)"
   ]
  },
  {
   "cell_type": "markdown",
   "id": "726e838a-14cd-41b8-99ac-ad461dd8c0f8",
   "metadata": {},
   "source": [
    "次に、**kwargsについて。アスタリスクを2つつけることで、数を定めずにキーワード引数を渡すことができる、渡された引数は辞書型 (キーと値の組)として保存され、同じように関数内部で参照できる。"
   ]
  },
  {
   "cell_type": "markdown",
   "id": "c00c81e2-be98-4f62-8e39-ed81fcc30192",
   "metadata": {},
   "source": [
    "## 4.7 モジュールのimport  \n",
    "Pythonではすでに作成されているコードを再利用する仕組みがある。"
   ]
  },
  {
   "cell_type": "code",
   "execution_count": 31,
   "id": "f985a093-80cd-4a9b-88c4-28b85ce0f7eb",
   "metadata": {},
   "outputs": [],
   "source": [
    "import datetime"
   ]
  },
  {
   "cell_type": "markdown",
   "id": "87e22e6f-aa15-4cc8-bc85-63250cb7a389",
   "metadata": {},
   "source": [
    "特に帰ってくるメッセージはないが、これでdatetimeモジュールがimportされた。これは時間などを扱う標準モジュールの一つである。"
   ]
  },
  {
   "cell_type": "code",
   "execution_count": 33,
   "id": "b5e05547-fa79-418b-849b-3e4cf5fb041c",
   "metadata": {},
   "outputs": [
    {
     "name": "stdout",
     "output_type": "stream",
     "text": [
      "2025-05-28 17:19:39.842601\n"
     ]
    }
   ],
   "source": [
    "print(datetime.datetime.now())"
   ]
  },
  {
   "cell_type": "markdown",
   "id": "997e3841-0db5-4d33-a8d4-cffb353a09ac",
   "metadata": {},
   "source": [
    "今の時間が出力された。今は、既存のモジュールをimportしたが、このimportを使い自分の書いたコードを同様にimportすることもできる。  \n",
    "\n",
    "<span style=\"font-size: 200%; color: red;\">test_module1.py を自分で書くか？動きを見ていてもらうか？</span> \n",
    "\n",
    "test_module1.py\n",
    "~~~ \n",
    "def say_hello_module(x):\n",
    "    print('hello_module,', x)\n",
    "~~~  \n",
    "\n",
    "test_module1.py は、今実行しているjupyter notebook と同じフォルダに保存する。"
   ]
  },
  {
   "cell_type": "code",
   "execution_count": 36,
   "id": "4de0aded-645f-4124-8491-c8d57c6ab2bc",
   "metadata": {},
   "outputs": [],
   "source": [
    "import test_module1   #'.py'は入れない。"
   ]
  },
  {
   "cell_type": "markdown",
   "id": "8b50bba0-8023-4ff9-a680-e7c652e41146",
   "metadata": {},
   "source": [
    "表示上は何も変わらないが、エラーが出ないということはimport できている。"
   ]
  },
  {
   "cell_type": "code",
   "execution_count": 37,
   "id": "0fae18e0-71f7-42a4-838e-68e737172ed3",
   "metadata": {},
   "outputs": [
    {
     "name": "stdout",
     "output_type": "stream",
     "text": [
      "hello_module, Sara\n"
     ]
    }
   ],
   "source": [
    "test_module1.say_hello_module('Sara')"
   ]
  },
  {
   "cell_type": "markdown",
   "id": "417af3e2-6543-4eac-99cf-e12e410c9135",
   "metadata": {},
   "source": [
    "先ほど実行した datetime モジュールをimportしたときと同じやり方で、自作モジュールも import し、そのモジュール内の関数 say_hello_module()を呼び出している。  \n",
    "このtest_module1 と書くのが毎回面倒な場合は、次のように書くこともできる。"
   ]
  },
  {
   "cell_type": "code",
   "execution_count": 39,
   "id": "408ae548-4813-434e-bf36-c2e96601bd19",
   "metadata": {},
   "outputs": [
    {
     "name": "stdout",
     "output_type": "stream",
     "text": [
      "hello_module, john\n"
     ]
    }
   ],
   "source": [
    "import test_module1 as test1\n",
    "\n",
    "test1.say_hello_module('john')"
   ]
  },
  {
   "cell_type": "markdown",
   "id": "a8796a28-860b-4161-af29-a7aec038ea59",
   "metadata": {},
   "source": [
    "test_module1 を as test1 としてimportしたことになる。"
   ]
  },
  {
   "cell_type": "markdown",
   "id": "2521665b-9ea5-4e88-9b4d-a304b6c46e43",
   "metadata": {},
   "source": [
    "このtest_module1 モジュールの say_hello_module() は、以下のようにも書ける。"
   ]
  },
  {
   "cell_type": "code",
   "execution_count": 41,
   "id": "99e1bee4-289a-4b22-944a-ae25fafd31df",
   "metadata": {},
   "outputs": [
    {
     "name": "stdout",
     "output_type": "stream",
     "text": [
      "hello_module, Aya\n"
     ]
    }
   ],
   "source": [
    "from test_module1 import say_hello_module\n",
    "say_hello_module('Aya')"
   ]
  },
  {
   "cell_type": "markdown",
   "id": "5b190ece-37b5-4c22-9eee-3110335c102f",
   "metadata": {},
   "source": [
    "~~~\n",
    "from モジュール名 import 対象\n",
    "~~~\n",
    "\n",
    "とすることで、直接中身を叩けるようになった。さらに、as を使うこともできる"
   ]
  },
  {
   "cell_type": "code",
   "execution_count": 42,
   "id": "26f135d9-bc37-45c1-b956-06162e3a3ad9",
   "metadata": {},
   "outputs": [
    {
     "name": "stdout",
     "output_type": "stream",
     "text": [
      "hello_module, Betty\n"
     ]
    }
   ],
   "source": [
    "from test_module1 import say_hello_module as say_h\n",
    "say_h('Betty')"
   ]
  },
  {
   "cell_type": "markdown",
   "id": "3cc54428-0b08-4050-82df-96fa186da423",
   "metadata": {},
   "source": [
    "今後、Python をバイオインフォマティックスで扱っていく上で、関連するモジュールをいくつもimportして使っていくことになる。Numpy, pandasなどはもちろんのこと、SeqIOなどゲノム配列を使用するために便利なツールみないなものも必要に応じてimportして使っていくことになる。"
   ]
  },
  {
   "cell_type": "code",
   "execution_count": null,
   "id": "ccf495e4-b18c-4363-8e90-036c09f0ecc0",
   "metadata": {},
   "outputs": [],
   "source": []
  }
 ],
 "metadata": {
  "kernelspec": {
   "display_name": "Python 3 (ipykernel)",
   "language": "python",
   "name": "python3"
  },
  "language_info": {
   "codemirror_mode": {
    "name": "ipython",
    "version": 3
   },
   "file_extension": ".py",
   "mimetype": "text/x-python",
   "name": "python",
   "nbconvert_exporter": "python",
   "pygments_lexer": "ipython3",
   "version": "3.11.12"
  }
 },
 "nbformat": 4,
 "nbformat_minor": 5
}
