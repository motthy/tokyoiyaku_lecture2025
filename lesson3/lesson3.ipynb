{
 "cells": [
  {
   "cell_type": "markdown",
   "id": "7eca2378-0a94-4f87-b713-bf94e64a43eb",
   "metadata": {},
   "source": [
    "## 4.4 複合データ型  \n",
    "リスト、タプル、辞書といった複数の値の組み合わせとして扱えるデータ型について学ぶ。"
   ]
  },
  {
   "cell_type": "markdown",
   "id": "b34c28f4-778c-4750-ab47-9955ea5cb82d",
   "metadata": {},
   "source": [
    "### 4.4.1 リスト (list)"
   ]
  },
  {
   "cell_type": "markdown",
   "id": "30236fd1-92e3-4f86-927f-ce1b855d1cb5",
   "metadata": {},
   "source": [
    "__リストの作成__  \n",
    "リストは、リスト名 = [要素1, 要素2, 要素3....] といった形で作成する。"
   ]
  },
  {
   "cell_type": "code",
   "execution_count": 3,
   "id": "5d39f05b-66aa-4745-a03d-d7a3883e3323",
   "metadata": {},
   "outputs": [
    {
     "data": {
      "text/plain": [
       "[0, 3, 5, 7, 9, 11]"
      ]
     },
     "execution_count": 3,
     "metadata": {},
     "output_type": "execute_result"
    }
   ],
   "source": [
    "list1 = [0,3,5,7,9,11]\n",
    "list1"
   ]
  },
  {
   "cell_type": "markdown",
   "id": "49f1045b-1dd4-43b2-b226-259cac5ce212",
   "metadata": {},
   "source": [
    "リストlist1 が作成された。list()という組み込み関数が存在するので、listという変数名は使わないようにする。  \n",
    "typeやtupleなども同様、組み込み関数と同じ名前の変数は使わない。  "
   ]
  },
  {
   "cell_type": "markdown",
   "id": "51e296ad-eeb6-47b8-977c-10ed70a0fb15",
   "metadata": {},
   "source": [
    "list1 の型を確認する。"
   ]
  },
  {
   "cell_type": "code",
   "execution_count": 5,
   "id": "441816b1-d9c4-4224-8519-2e20fbfb6599",
   "metadata": {},
   "outputs": [
    {
     "data": {
      "text/plain": [
       "list"
      ]
     },
     "execution_count": 5,
     "metadata": {},
     "output_type": "execute_result"
    }
   ],
   "source": [
    "type(list1)"
   ]
  },
  {
   "cell_type": "markdown",
   "id": "0e0f8ae2-f8c7-4150-b5d8-450188d0e343",
   "metadata": {},
   "source": [
    "空のリストを作成することもできる"
   ]
  },
  {
   "cell_type": "code",
   "execution_count": 7,
   "id": "a7179b2e-ed5c-4cb5-9dfa-5529039ce28d",
   "metadata": {},
   "outputs": [
    {
     "data": {
      "text/plain": [
       "[]"
      ]
     },
     "execution_count": 7,
     "metadata": {},
     "output_type": "execute_result"
    }
   ],
   "source": [
    "list2=[]\n",
    "list2"
   ]
  },
  {
   "cell_type": "code",
   "execution_count": 8,
   "id": "6dbc79f1-1638-4c17-8350-0db9f1fb4ddc",
   "metadata": {},
   "outputs": [
    {
     "data": {
      "text/plain": [
       "['chr1', 1358, 2358]"
      ]
     },
     "execution_count": 8,
     "metadata": {},
     "output_type": "execute_result"
    }
   ],
   "source": [
    "list3 = ['chr1', 1358, 2358]\n",
    "list3"
   ]
  },
  {
   "cell_type": "markdown",
   "id": "eee088d6-e606-4bfd-9ecf-bfba4f322234",
   "metadata": {},
   "source": [
    "リスト自体の入れ子構造も可能"
   ]
  },
  {
   "cell_type": "code",
   "execution_count": 10,
   "id": "a5b657aa-9460-4d00-a9c3-bd9d7241d1de",
   "metadata": {},
   "outputs": [
    {
     "data": {
      "text/plain": [
       "[1, 3, ['chr1', 1358, 2358]]"
      ]
     },
     "execution_count": 10,
     "metadata": {},
     "output_type": "execute_result"
    }
   ],
   "source": [
    "list4 = [1, 3, list3]\n",
    "list4"
   ]
  },
  {
   "cell_type": "markdown",
   "id": "7c191924-a94a-4ba5-b3e6-66e247b72bf7",
   "metadata": {},
   "source": [
    "先ほど作った　list3 の中身が list4の中に入れ子構造で入っている。"
   ]
  },
  {
   "cell_type": "markdown",
   "id": "a5cce0fb-65f1-4ab0-b7ac-5c865cd766d2",
   "metadata": {},
   "source": [
    "__要素の取得__  \n",
    "リストに続く[] (角カッコ) の中に整数 (インデックス) を指定することでリスト上の「何番目かの要素」にアクセスすることができる。  "
   ]
  },
  {
   "cell_type": "code",
   "execution_count": 11,
   "id": "808bf29e-8cf7-4a89-95c4-34f661f0f382",
   "metadata": {},
   "outputs": [
    {
     "data": {
      "text/plain": [
       "[0, 3, 5, 7, 9, 11]"
      ]
     },
     "execution_count": 11,
     "metadata": {},
     "output_type": "execute_result"
    }
   ],
   "source": [
    "list1 #中身を確認する"
   ]
  },
  {
   "cell_type": "code",
   "execution_count": 12,
   "id": "a3279b1a-f52a-4771-b0b1-827294a25c30",
   "metadata": {},
   "outputs": [
    {
     "data": {
      "text/plain": [
       "0"
      ]
     },
     "execution_count": 12,
     "metadata": {},
     "output_type": "execute_result"
    }
   ],
   "source": [
    "list1[0] #0から数えるので先頭の値が0になる"
   ]
  },
  {
   "cell_type": "code",
   "execution_count": 13,
   "id": "61772ba4-b48d-43dc-b1b8-6cd68d2a09f3",
   "metadata": {},
   "outputs": [
    {
     "data": {
      "text/plain": [
       "3"
      ]
     },
     "execution_count": 13,
     "metadata": {},
     "output_type": "execute_result"
    }
   ],
   "source": [
    "list1[1] #2番目の値なので0,3 ... の3となる"
   ]
  },
  {
   "cell_type": "markdown",
   "id": "c48968c2-5838-48d1-ba90-7a38c954cbf0",
   "metadata": {},
   "source": [
    "マイナスの値を指定することで「後ろから」アクセスすることもできる"
   ]
  },
  {
   "cell_type": "code",
   "execution_count": 15,
   "id": "c50c18ba-5b22-450d-9b19-b51629c2c0d3",
   "metadata": {},
   "outputs": [
    {
     "data": {
      "text/plain": [
       "11"
      ]
     },
     "execution_count": 15,
     "metadata": {},
     "output_type": "execute_result"
    }
   ],
   "source": [
    "list1[-1]   #list1の最後の値となる。"
   ]
  },
  {
   "cell_type": "code",
   "execution_count": 18,
   "id": "2b586316-da77-4dea-b704-23d9713007bf",
   "metadata": {},
   "outputs": [
    {
     "data": {
      "text/plain": [
       "9"
      ]
     },
     "execution_count": 18,
     "metadata": {},
     "output_type": "execute_result"
    }
   ],
   "source": [
    "list1[-2]   #list1の後ろから2番目の値となる"
   ]
  },
  {
   "cell_type": "markdown",
   "id": "c0011239-0bb9-46f8-be5c-2f871a1cb23d",
   "metadata": {},
   "source": [
    "存在しない値にアクセスしようとするとエラーになる"
   ]
  },
  {
   "cell_type": "code",
   "execution_count": 19,
   "id": "32b24b07-2efd-4465-890e-cdf6196ba2d1",
   "metadata": {},
   "outputs": [
    {
     "data": {
      "text/plain": [
       "[]"
      ]
     },
     "execution_count": 19,
     "metadata": {},
     "output_type": "execute_result"
    }
   ],
   "source": [
    "list2 #list2は空リスト"
   ]
  },
  {
   "cell_type": "code",
   "execution_count": 20,
   "id": "fa50896b-6c97-4327-a4f7-0ac727b55f8d",
   "metadata": {},
   "outputs": [
    {
     "ename": "IndexError",
     "evalue": "list index out of range",
     "output_type": "error",
     "traceback": [
      "\u001b[31m---------------------------------------------------------------------------\u001b[39m",
      "\u001b[31mIndexError\u001b[39m                                Traceback (most recent call last)",
      "\u001b[36mCell\u001b[39m\u001b[36m \u001b[39m\u001b[32mIn[20]\u001b[39m\u001b[32m, line 1\u001b[39m\n\u001b[32m----> \u001b[39m\u001b[32m1\u001b[39m \u001b[43mlist2\u001b[49m\u001b[43m[\u001b[49m\u001b[32;43m0\u001b[39;49m\u001b[43m]\u001b[49m \u001b[38;5;66;03m#list2にはインデックス0の値、すなわち「１番目の値」はない\u001b[39;00m\n",
      "\u001b[31mIndexError\u001b[39m: list index out of range"
     ]
    }
   ],
   "source": [
    "list2[0] #list2にはインデックス0の値、すなわち「１番目の値」はない"
   ]
  },
  {
   "cell_type": "code",
   "execution_count": 21,
   "id": "5576892b-7482-464a-acf9-671302edcd90",
   "metadata": {},
   "outputs": [
    {
     "ename": "IndexError",
     "evalue": "list index out of range",
     "output_type": "error",
     "traceback": [
      "\u001b[31m---------------------------------------------------------------------------\u001b[39m",
      "\u001b[31mIndexError\u001b[39m                                Traceback (most recent call last)",
      "\u001b[36mCell\u001b[39m\u001b[36m \u001b[39m\u001b[32mIn[21]\u001b[39m\u001b[32m, line 1\u001b[39m\n\u001b[32m----> \u001b[39m\u001b[32m1\u001b[39m \u001b[43mlist1\u001b[49m\u001b[43m[\u001b[49m\u001b[32;43m10000\u001b[39;49m\u001b[43m]\u001b[49m \u001b[38;5;66;03m#list1のインデックス10000, すなわち「10001番目の値」もない\u001b[39;00m\n",
      "\u001b[31mIndexError\u001b[39m: list index out of range"
     ]
    }
   ],
   "source": [
    "list1[10000] #list1のインデックス10000, すなわち「10001番目の値」もない"
   ]
  },
  {
   "cell_type": "markdown",
   "id": "d6aaf6fa-19a0-41d6-878d-6c16836dce2d",
   "metadata": {},
   "source": [
    "上のエラーメッセージに、IndexError: list index out of rangeとある。リスト内の要素の個数以上の値を指定してしまったのでエラーとなった。  \n",
    "なお len() 関数にて、リストの要素数自体を取得することもできる。len()関数は、括弧の中身の長さ(要素の個数)を返す。length の len"
   ]
  },
  {
   "cell_type": "code",
   "execution_count": 22,
   "id": "38956e26-41e6-401c-be83-453fbbc2e4f2",
   "metadata": {},
   "outputs": [
    {
     "data": {
      "text/plain": [
       "6"
      ]
     },
     "execution_count": 22,
     "metadata": {},
     "output_type": "execute_result"
    }
   ],
   "source": [
    "len(list1)"
   ]
  },
  {
   "cell_type": "markdown",
   "id": "98c8ac69-5585-45d3-91c9-eff46da7af3d",
   "metadata": {},
   "source": [
    "list1の要素数は6"
   ]
  },
  {
   "cell_type": "code",
   "execution_count": 23,
   "id": "aa14663d-52a2-4ed8-84a4-f66ae506d1ef",
   "metadata": {},
   "outputs": [
    {
     "data": {
      "text/plain": [
       "0"
      ]
     },
     "execution_count": 23,
     "metadata": {},
     "output_type": "execute_result"
    }
   ],
   "source": [
    "len(list2)"
   ]
  },
  {
   "cell_type": "markdown",
   "id": "448015af-7a28-4e1d-a436-a39ee3224b2c",
   "metadata": {},
   "source": [
    "list2は空リストなので、要素数は0"
   ]
  },
  {
   "cell_type": "markdown",
   "id": "3c0216f1-bca4-4836-9967-88fa7f70c8cd",
   "metadata": {},
   "source": [
    "__スライス__  \n",
    "__リスト名[開始値:停止値]__ とすることで指定インデックス範囲の部分リストを取り出すこともできる (スライス)。  \n",
    "  \n",
    "以下のような書き方もできる  \n",
    "[開始値:] 開始値から最後まで  \n",
    "[:停止値] 0から停止値の一つ前まで\n",
    "\n",
    "さらに、[開始値:停止値:間隔] とすることで、開始値から停止値の1つ前まで、「いくつおき」の値をとるか指定することができる。  \n",
    "開始値は0である。わかりやすくするため、0から順に数字を入れた、インデックスと値が同一のリストを作っておく。"
   ]
  },
  {
   "cell_type": "code",
   "execution_count": 24,
   "id": "ef25f11b-43d5-4041-830e-f9732e824671",
   "metadata": {},
   "outputs": [
    {
     "data": {
      "text/plain": [
       "[0, 1, 2, 3, 4, 5, 6, 7, 8]"
      ]
     },
     "execution_count": 24,
     "metadata": {},
     "output_type": "execute_result"
    }
   ],
   "source": [
    "list_num = [0,1,2,3,4,5,6,7,8]\n",
    "list_num"
   ]
  },
  {
   "cell_type": "code",
   "execution_count": 27,
   "id": "c623b787-22b3-49fa-b93a-fb857b126a31",
   "metadata": {},
   "outputs": [
    {
     "data": {
      "text/plain": [
       "[1, 2, 3, 4, 5, 6, 7, 8]"
      ]
     },
     "execution_count": 27,
     "metadata": {},
     "output_type": "execute_result"
    }
   ],
   "source": [
    "list_num[1:]   #list_num[1]から最後まで"
   ]
  },
  {
   "cell_type": "code",
   "execution_count": 28,
   "id": "d66402c3-1804-4635-a612-051dfc484b33",
   "metadata": {},
   "outputs": [
    {
     "data": {
      "text/plain": [
       "[0, 1, 2, 3]"
      ]
     },
     "execution_count": 28,
     "metadata": {},
     "output_type": "execute_result"
    }
   ],
   "source": [
    "list_num[:4]  #0からlist_num[4]の一つ前まで"
   ]
  },
  {
   "cell_type": "code",
   "execution_count": 30,
   "id": "ba9d25cc-1807-4c65-8295-502d9b79eb91",
   "metadata": {},
   "outputs": [
    {
     "data": {
      "text/plain": [
       "[1, 2, 3]"
      ]
     },
     "execution_count": 30,
     "metadata": {},
     "output_type": "execute_result"
    }
   ],
   "source": [
    "list_num[1:4]  #要素:0-3"
   ]
  },
  {
   "cell_type": "code",
   "execution_count": 31,
   "id": "2645d60e-5b70-40cf-bab7-a997bd259805",
   "metadata": {},
   "outputs": [
    {
     "data": {
      "text/plain": [
       "[0, 2, 4]"
      ]
     },
     "execution_count": 31,
     "metadata": {},
     "output_type": "execute_result"
    }
   ],
   "source": [
    "list_num[0:5:2]  #0以上5未満の数列で、2つおきの値"
   ]
  },
  {
   "cell_type": "markdown",
   "id": "bfc98c59-b7d3-42ef-a4b7-fae293590b97",
   "metadata": {},
   "source": [
    "間隔をマイナスにすると逆順とすることもできる"
   ]
  },
  {
   "cell_type": "code",
   "execution_count": 32,
   "id": "9609d242-8853-4b3a-8348-916f4c9aefe8",
   "metadata": {},
   "outputs": [
    {
     "data": {
      "text/plain": [
       "[8, 7, 6, 5, 4, 3, 2, 1, 0]"
      ]
     },
     "execution_count": 32,
     "metadata": {},
     "output_type": "execute_result"
    }
   ],
   "source": [
    "list_num[::-1]"
   ]
  },
  {
   "cell_type": "markdown",
   "id": "71054a52-3ef2-4b2b-bfe2-bb020671d2c2",
   "metadata": {},
   "source": [
    "__連結__  \n",
    "リストとリストを結合させ、新しいリストを作ることもできる"
   ]
  },
  {
   "cell_type": "code",
   "execution_count": 34,
   "id": "389974f2-81f5-4581-aa4b-e95e49bf9ac1",
   "metadata": {},
   "outputs": [
    {
     "data": {
      "text/plain": [
       "['chr1', 1358, 2358]"
      ]
     },
     "execution_count": 34,
     "metadata": {},
     "output_type": "execute_result"
    }
   ],
   "source": [
    "list3  #先ほど作ったリスト"
   ]
  },
  {
   "cell_type": "code",
   "execution_count": 36,
   "id": "898950d6-eb32-409d-a44d-09538ec1286e",
   "metadata": {},
   "outputs": [
    {
     "data": {
      "text/plain": [
       "['atgc', 1]"
      ]
     },
     "execution_count": 36,
     "metadata": {},
     "output_type": "execute_result"
    }
   ],
   "source": [
    "list5 = ['atgc',1]\n",
    "list5"
   ]
  },
  {
   "cell_type": "code",
   "execution_count": 37,
   "id": "45e52b6a-6522-4939-8711-06ea2e34e3ca",
   "metadata": {},
   "outputs": [
    {
     "data": {
      "text/plain": [
       "['chr1', 1358, 2358, 'atgc', 1]"
      ]
     },
     "execution_count": 37,
     "metadata": {},
     "output_type": "execute_result"
    }
   ],
   "source": [
    "list6 = list3 + list5\n",
    "list6"
   ]
  },
  {
   "cell_type": "markdown",
   "id": "0fd8013c-cb91-45d5-8687-a352bffb5048",
   "metadata": {},
   "source": [
    "__要素の入れ替え、追加など__  \n",
    "リストは可変 (作成後に変更可能)。インデックスを指定して、そこだけ要素の変更、といったことができる。"
   ]
  },
  {
   "cell_type": "code",
   "execution_count": 38,
   "id": "ce45371d-9260-4524-b8d7-5e9c7c568dbe",
   "metadata": {},
   "outputs": [
    {
     "data": {
      "text/plain": [
       "[0, 3, 5, 7, 9, 11]"
      ]
     },
     "execution_count": 38,
     "metadata": {},
     "output_type": "execute_result"
    }
   ],
   "source": [
    "list1"
   ]
  },
  {
   "cell_type": "code",
   "execution_count": 39,
   "id": "8e7fa323-04b8-418c-b149-802639455417",
   "metadata": {},
   "outputs": [
    {
     "data": {
      "text/plain": [
       "7"
      ]
     },
     "execution_count": 39,
     "metadata": {},
     "output_type": "execute_result"
    }
   ],
   "source": [
    "list1[3] #インデックス3の値は7"
   ]
  },
  {
   "cell_type": "code",
   "execution_count": 40,
   "id": "fdc2168f-e372-4b1f-95b7-610de76c7ea4",
   "metadata": {},
   "outputs": [
    {
     "data": {
      "text/plain": [
       "'edited'"
      ]
     },
     "execution_count": 40,
     "metadata": {},
     "output_type": "execute_result"
    }
   ],
   "source": [
    "list1[3] = 'edited' #インデックス3の値を文字列'edited'に書き換える\n",
    "list1[3]"
   ]
  },
  {
   "cell_type": "code",
   "execution_count": 41,
   "id": "2fa3c747-ce1c-414a-9bf8-b1cf5d5db2f8",
   "metadata": {},
   "outputs": [
    {
     "data": {
      "text/plain": [
       "[0, 3, 5, 'edited', 9, 11]"
      ]
     },
     "execution_count": 41,
     "metadata": {},
     "output_type": "execute_result"
    }
   ],
   "source": [
    "list1 #全体を確認"
   ]
  },
  {
   "cell_type": "markdown",
   "id": "a7017d36-867a-430c-9248-4a1ebc1c8910",
   "metadata": {},
   "source": [
    "リスト名.append(値) で末尾への値の追加ができる append()メソッド"
   ]
  },
  {
   "cell_type": "code",
   "execution_count": 42,
   "id": "8409d700-5b10-4c1a-a90b-e776103feac2",
   "metadata": {},
   "outputs": [
    {
     "data": {
      "text/plain": [
       "[0, 3, 5, 'edited', 9, 11]"
      ]
     },
     "execution_count": 42,
     "metadata": {},
     "output_type": "execute_result"
    }
   ],
   "source": [
    "list1"
   ]
  },
  {
   "cell_type": "code",
   "execution_count": 44,
   "id": "c25c40da-213c-4ef6-b765-692727ec0a5c",
   "metadata": {},
   "outputs": [
    {
     "data": {
      "text/plain": [
       "[0, 3, 5, 'edited', 9, 11, 'append_data', 'append_data']"
      ]
     },
     "execution_count": 44,
     "metadata": {},
     "output_type": "execute_result"
    }
   ],
   "source": [
    "list1.append('append_data')  # 'append_data' をリストの末尾に追加する\n",
    "list1"
   ]
  },
  {
   "cell_type": "code",
   "execution_count": 46,
   "id": "310bae2f-18f0-4729-b82d-a83c98c8315e",
   "metadata": {},
   "outputs": [
    {
     "data": {
      "text/plain": [
       "[0, 3, 5, 'edited', 9, 11, 'append_data', 'append_data', 11]"
      ]
     },
     "execution_count": 46,
     "metadata": {},
     "output_type": "execute_result"
    }
   ],
   "source": [
    "list1.append(11)\n",
    "list1"
   ]
  },
  {
   "cell_type": "markdown",
   "id": "f86ee074-558a-4b85-a621-923270bbb54b",
   "metadata": {},
   "source": [
    "11が末尾に追加された。リスト中では同じ値を複数置くこともできる。  \n",
    "リスト名.remove(値)で削除もできる。remove()メソッド"
   ]
  },
  {
   "cell_type": "code",
   "execution_count": 47,
   "id": "7d285492-369d-495e-aeea-d7f091eebd94",
   "metadata": {},
   "outputs": [
    {
     "data": {
      "text/plain": [
       "[0, 3, 5, 'edited', 9, 'append_data', 'append_data', 11]"
      ]
     },
     "execution_count": 47,
     "metadata": {},
     "output_type": "execute_result"
    }
   ],
   "source": [
    "list1.remove(11)\n",
    "list1"
   ]
  },
  {
   "cell_type": "markdown",
   "id": "79ce7626-e982-4096-8380-12331d12e61e",
   "metadata": {},
   "source": [
    "「最初の」11が削除された。remove()は先頭からみていく。"
   ]
  },
  {
   "cell_type": "markdown",
   "id": "bb3f3b48-4f43-4ead-a98f-bcd4a39e77aa",
   "metadata": {},
   "source": [
    "__ソート__  \n",
    "リストはソートすることができる。sorted(リスト) とすることで、ソートされた結果を出力できる。sorted()関数。"
   ]
  },
  {
   "cell_type": "code",
   "execution_count": 50,
   "id": "74e92683-5b00-46c2-8d33-2deb6d444f7c",
   "metadata": {},
   "outputs": [
    {
     "data": {
      "text/plain": [
       "[1, 2, 3, 4, 5, 6, 7, 8]"
      ]
     },
     "execution_count": 50,
     "metadata": {},
     "output_type": "execute_result"
    }
   ],
   "source": [
    "list7 = [1, 5, 2, 3, 8, 4, 7, 6]\n",
    "list8 = sorted(list7)\n",
    "list8"
   ]
  },
  {
   "cell_type": "markdown",
   "id": "c76b6446-37ba-4b24-8d67-e6b02e3b20f0",
   "metadata": {},
   "source": [
    "このとき元のリストは変更されていない"
   ]
  },
  {
   "cell_type": "code",
   "execution_count": 51,
   "id": "85fc0ac4-b181-45b4-ba7f-af22c7c0367b",
   "metadata": {},
   "outputs": [
    {
     "data": {
      "text/plain": [
       "[1, 5, 2, 3, 8, 4, 7, 6]"
      ]
     },
     "execution_count": 51,
     "metadata": {},
     "output_type": "execute_result"
    }
   ],
   "source": [
    "list7"
   ]
  },
  {
   "cell_type": "markdown",
   "id": "a9cfca96-8663-4d0a-a946-ea1698ff50a4",
   "metadata": {},
   "source": [
    "ソートは逆順もできる"
   ]
  },
  {
   "cell_type": "code",
   "execution_count": 53,
   "id": "340eafca-c89d-4026-acba-d2d77d388daf",
   "metadata": {},
   "outputs": [
    {
     "data": {
      "text/plain": [
       "[8, 7, 6, 5, 4, 3, 2, 1]"
      ]
     },
     "execution_count": 53,
     "metadata": {},
     "output_type": "execute_result"
    }
   ],
   "source": [
    "list9 = sorted(list8, reverse=True)\n",
    "list9"
   ]
  },
  {
   "cell_type": "markdown",
   "id": "f3571077-1ee4-43a0-aa9f-9b971b416f0f",
   "metadata": {},
   "source": [
    "逆順になったものを正の順でソートし直せばもとの順に戻る。(reverse=Flase は省略できる)"
   ]
  },
  {
   "cell_type": "code",
   "execution_count": 54,
   "id": "68921b6f-34d1-4478-80e5-b07837e14b2d",
   "metadata": {},
   "outputs": [
    {
     "data": {
      "text/plain": [
       "[1, 2, 3, 4, 5, 6, 7, 8]"
      ]
     },
     "execution_count": 54,
     "metadata": {},
     "output_type": "execute_result"
    }
   ],
   "source": [
    "list10=sorted(list9, reverse=False)\n",
    "list10"
   ]
  },
  {
   "cell_type": "markdown",
   "id": "db9b2cd3-5592-45bf-963b-9d2742dbe364",
   "metadata": {},
   "source": [
    "__Keyを使ったソート__  \n",
    "keyパラメータを用いて、さまざまな条件でのソートが可能。"
   ]
  },
  {
   "cell_type": "code",
   "execution_count": 55,
   "id": "61bef06b-3f0e-4135-abc7-b9392c672bbb",
   "metadata": {},
   "outputs": [
    {
     "data": {
      "text/plain": [
       "[1, 2, -3, 4, -5, -6]"
      ]
     },
     "execution_count": 55,
     "metadata": {},
     "output_type": "execute_result"
    }
   ],
   "source": [
    "list11 = [-3, 1, -5, 4, 2, -6]\n",
    "list_abs = sorted(list11, key=abs)  #絶対値でソート\n",
    "list_abs"
   ]
  },
  {
   "cell_type": "code",
   "execution_count": 56,
   "id": "2d458163-7ec4-40d1-8295-d572696beb29",
   "metadata": {},
   "outputs": [
    {
     "data": {
      "text/plain": [
       "['shizuoka', 'hokkaido', 'tokyo', 'osaka', 'mie']"
      ]
     },
     "execution_count": 56,
     "metadata": {},
     "output_type": "execute_result"
    }
   ],
   "source": [
    "list12 = ['shizuoka', 'tokyo', 'mie', 'hokkaido', 'osaka']\n",
    "list_len = sorted(list12, key=len, reverse=True) #文字列の長さで降順にソート\n",
    "list_len"
   ]
  },
  {
   "cell_type": "markdown",
   "id": "8f8dc0de-2911-4e29-8642-b4793ebed0aa",
   "metadata": {},
   "source": [
    "__独自関数でソート__  \n",
    "keyとなる関数を作成のうえ、ソートさせることもできる。まずはkeyとなる関数get_gene_num(x)を作成してみる。  \n",
    "自作関数作成の詳細は、後ほど触れる。"
   ]
  },
  {
   "cell_type": "code",
   "execution_count": 57,
   "id": "ecdb6d0c-1673-4e38-944b-e415ea99bd65",
   "metadata": {},
   "outputs": [],
   "source": [
    "def get_gene_num(x):\n",
    "    gene_num=x.split('_')[-1]\n",
    "    return int(gene_num)"
   ]
  },
  {
   "cell_type": "markdown",
   "id": "51a116ce-822f-49c2-8bd1-907b7b2178ac",
   "metadata": {},
   "source": [
    "これは gene_1 といった文字列があった場合、最後の数字だけを取り出して、整数として返すという機能をもつ。  \n",
    "(現状では中身を理解できなくても大丈夫です)"
   ]
  },
  {
   "cell_type": "code",
   "execution_count": 58,
   "id": "77e32d29-d7cf-49a4-a27a-e3f4dce59d70",
   "metadata": {},
   "outputs": [
    {
     "data": {
      "text/plain": [
       "1"
      ]
     },
     "execution_count": 58,
     "metadata": {},
     "output_type": "execute_result"
    }
   ],
   "source": [
    "get_gene_num('gene_1') #試しに関数に文字列'gene_1'を入れて実行する"
   ]
  },
  {
   "cell_type": "markdown",
   "id": "75003c4f-c6ac-4f6b-b211-d083ef9d4c5d",
   "metadata": {},
   "source": [
    "これを組み入れてソートする。例えば以下のようなgene_xxという形の文字列からなるリストを作る。"
   ]
  },
  {
   "cell_type": "code",
   "execution_count": 59,
   "id": "a82a4f3b-ed46-4493-8a78-dcc5bfd144c9",
   "metadata": {},
   "outputs": [
    {
     "data": {
      "text/plain": [
       "['gene_3',\n",
       " 'gene_1',\n",
       " 'gene_10',\n",
       " 'gene_25',\n",
       " 'gene_21',\n",
       " 'gene_19',\n",
       " 'gene_2',\n",
       " 'gene_29',\n",
       " 'gene_30',\n",
       " 'gene_11']"
      ]
     },
     "execution_count": 59,
     "metadata": {},
     "output_type": "execute_result"
    }
   ],
   "source": [
    "list11=['gene_3', 'gene_1', 'gene_10', 'gene_25', 'gene_21', 'gene_19', 'gene_2', 'gene_29', 'gene_30', 'gene_11',]\n",
    "list11"
   ]
  },
  {
   "cell_type": "markdown",
   "id": "229c9c14-49fb-4f4f-bc87-197e0c8fbbd8",
   "metadata": {},
   "source": [
    "試しにこれおをそのままソートすると"
   ]
  },
  {
   "cell_type": "code",
   "execution_count": 61,
   "id": "e9dbf557-7e4d-41f2-843f-9528465783bb",
   "metadata": {},
   "outputs": [
    {
     "data": {
      "text/plain": [
       "['gene_1',\n",
       " 'gene_10',\n",
       " 'gene_11',\n",
       " 'gene_19',\n",
       " 'gene_2',\n",
       " 'gene_21',\n",
       " 'gene_25',\n",
       " 'gene_29',\n",
       " 'gene_3',\n",
       " 'gene_30']"
      ]
     },
     "execution_count": 61,
     "metadata": {},
     "output_type": "execute_result"
    }
   ],
   "source": [
    "sorted(list11)"
   ]
  },
  {
   "cell_type": "markdown",
   "id": "df67a564-1787-4b98-8b9e-42869d5bd597",
   "metadata": {},
   "source": [
    "文字列としてソートされているので、gene以下が、1, 10, 11 ... といった並びになってしまう。先頭から数えて5文字目 (gene_) までは全ての文字列で等しいので、次の6文字目(数字の1文字目)でまずソートされ、さらに7文字目 (数字の2文字目) でソートされている。　　\n",
    "\n",
    "先ほどの関数をkeyとしてもう一度ソートしてみる。"
   ]
  },
  {
   "cell_type": "code",
   "execution_count": 62,
   "id": "f9fc9d3a-975c-4112-9d6b-7ea20cbc5942",
   "metadata": {},
   "outputs": [
    {
     "data": {
      "text/plain": [
       "['gene_1',\n",
       " 'gene_2',\n",
       " 'gene_3',\n",
       " 'gene_10',\n",
       " 'gene_11',\n",
       " 'gene_19',\n",
       " 'gene_21',\n",
       " 'gene_25',\n",
       " 'gene_29',\n",
       " 'gene_30']"
      ]
     },
     "execution_count": 62,
     "metadata": {},
     "output_type": "execute_result"
    }
   ],
   "source": [
    "sorted(list11, key=get_gene_num)"
   ]
  },
  {
   "cell_type": "markdown",
   "id": "250d3b9d-d5aa-4c16-8adb-f6f842f7b950",
   "metadata": {},
   "source": [
    "数字としてソートされた。実際のバイオインフォマティクスのデータを扱っていると、このように数値順でソートしたくなる場面が多くある。例えば、変異情報を記載したファイル (vcfファイル) 等にて、位置情報として「1番染色体/2番染色体/3番染色体」を意味する表記項目があり、そこには、「1/2/3」と上記されるケース、「chr1/chr2/chr3」と記載されるケースがある。それらも状況に応じて、中身を揃えつつ扱うことになる\n"
   ]
  },
  {
   "cell_type": "markdown",
   "id": "6e933831-b8d6-4d4d-af5b-5417d5d83cc3",
   "metadata": {},
   "source": [
    "__無名関数でソート__  \n",
    "上のソートをlamdba式 (無名関数、関数を名前を定めず使う手法) を使うことで、関数定義なしに同様にワンライナー(1行)で書くこともできる。"
   ]
  },
  {
   "cell_type": "markdown",
   "id": "0c612985-d805-4ccd-9287-82df4249266e",
   "metadata": {},
   "source": [
    "lambda 引数: 式"
   ]
  },
  {
   "cell_type": "markdown",
   "id": "a97c3631-b162-474c-a3ba-5d4f6a1f0851",
   "metadata": {},
   "source": [
    "\n",
    "という書き方でかく。これを組み入れると以下の通りになる。lamdba式は諸学者のうちは無理に使うことはないが、適所で使うことでコードの行数を減らし、見通しをよくすることができる。"
   ]
  },
  {
   "cell_type": "code",
   "execution_count": 64,
   "id": "ea558e4f-db28-4ce9-8606-ddd8253ccf6a",
   "metadata": {},
   "outputs": [
    {
     "data": {
      "text/plain": [
       "['gene_1',\n",
       " 'gene_2',\n",
       " 'gene_3',\n",
       " 'gene_10',\n",
       " 'gene_11',\n",
       " 'gene_19',\n",
       " 'gene_21',\n",
       " 'gene_25',\n",
       " 'gene_29',\n",
       " 'gene_30']"
      ]
     },
     "execution_count": 64,
     "metadata": {},
     "output_type": "execute_result"
    }
   ],
   "source": [
    "sorted(list11, key=lambda x: int(x.split('_')[-1]))"
   ]
  },
  {
   "cell_type": "markdown",
   "id": "3807e32c-3018-4334-b3f1-b693270fa5d4",
   "metadata": {},
   "source": [
    "__参考1: sort()とsorted()__\n",
    "  \n",
    "sorted()関数と、リストにおける組み込みメソッドsort() について触れる。ここまでリストをソートするのに「sorted()関数」を使ってきた。実は、リストには他にも「sort()メソッド」がある。"
   ]
  },
  {
   "cell_type": "code",
   "execution_count": 67,
   "id": "8762206e-73d5-4f93-a6c6-f0e161de59ec",
   "metadata": {},
   "outputs": [
    {
     "data": {
      "text/plain": [
       "[0, 5, 3, 4, 2]"
      ]
     },
     "execution_count": 67,
     "metadata": {},
     "output_type": "execute_result"
    }
   ],
   "source": [
    "list_sort_test = [0,5,3,4,2]\n",
    "list_sort_test"
   ]
  },
  {
   "cell_type": "markdown",
   "id": "64ffd2ee-bf02-4964-8e0c-0bc4464c9772",
   "metadata": {},
   "source": [
    "まずは、先ほどから行なっている sorted()関数をかける"
   ]
  },
  {
   "cell_type": "code",
   "execution_count": 68,
   "id": "06cbb4cd-789e-4586-a6f2-aeeb3a087aa1",
   "metadata": {},
   "outputs": [
    {
     "data": {
      "text/plain": [
       "[0, 2, 3, 4, 5]"
      ]
     },
     "execution_count": 68,
     "metadata": {},
     "output_type": "execute_result"
    }
   ],
   "source": [
    "sorted(list_sort_test)"
   ]
  },
  {
   "cell_type": "markdown",
   "id": "b42dbe00-b87a-4570-9238-5eea22cdb3ea",
   "metadata": {},
   "source": [
    "ソートされた。ただし、このとき、もとのlist_sort_testリストは"
   ]
  },
  {
   "cell_type": "code",
   "execution_count": 69,
   "id": "97a78071-323f-41b7-ae0e-cd4a726dce36",
   "metadata": {},
   "outputs": [
    {
     "data": {
      "text/plain": [
       "[0, 5, 3, 4, 2]"
      ]
     },
     "execution_count": 69,
     "metadata": {},
     "output_type": "execute_result"
    }
   ],
   "source": [
    "list_sort_test"
   ]
  },
  {
   "cell_type": "markdown",
   "id": "294847fe-7c2e-4443-b98f-22cbd7373685",
   "metadata": {},
   "source": [
    "もとのままになっている。一方リストにはsort()メソッドがある"
   ]
  },
  {
   "cell_type": "code",
   "execution_count": 70,
   "id": "1476afe9-7a3f-48ef-8204-a4397e945d57",
   "metadata": {},
   "outputs": [],
   "source": [
    "list_sort_test.sort() #特に何も出力されない"
   ]
  },
  {
   "cell_type": "markdown",
   "id": "21197a27-a4a9-40db-b350-acffe2ada265",
   "metadata": {},
   "source": [
    "list_sort_test の中身を見てみる"
   ]
  },
  {
   "cell_type": "code",
   "execution_count": 71,
   "id": "f5b5bb7e-bb11-41a5-8457-495abafdabb4",
   "metadata": {},
   "outputs": [
    {
     "data": {
      "text/plain": [
       "[0, 2, 3, 4, 5]"
      ]
     },
     "execution_count": 71,
     "metadata": {},
     "output_type": "execute_result"
    }
   ],
   "source": [
    "list_sort_test"
   ]
  },
  {
   "cell_type": "markdown",
   "id": "dbd5a4dd-fe82-4db7-ab02-310908032a83",
   "metadata": {},
   "source": [
    "もとのリスト自体がソートされた。sorted()はあくまで新しい、処理済みリストを作り出す(非破壊的)ものだが、sort()メソッドはリスト自体を加工してしまう(破壊的)。  \n",
    "最初の方で触れたstr型メソッドのreprace()メソッドなどは非破壊的である。メソッドだから常に元の値を加工してしまうというわけではない。"
   ]
  },
  {
   "cell_type": "markdown",
   "id": "f1809969-bc82-4b03-9753-1d7c0b01dbf1",
   "metadata": {},
   "source": [
    "__参考2: natsort__\n",
    "  \n",
    "先ほどは自作関数を用いて文字列と数字が混ざっている要素のソートを行った。この場合、ソートは基本的に辞書順に実行されるために、意図したものと異なるソート結果になってしまう。そこで独自関数で意図した結果になるようにソートすることもできるというのは先ほど確認した通りである。しかし、実は、同等の機能はpythonの既存外部パッケージでも実現可能である。それがnatsortである。これは数字と文字の入った要素等を\"自然に\"ソートする機能を提供する。  \n",
    "nasortパッケージ自体かなり多くの機能をもっている。sorted()の差し替えとして使えるように整備された関数である。「以下は、試す場合は pip や conda などで、natsortパッケージをインストールする必要があるかもしれない。」"
   ]
  },
  {
   "cell_type": "markdown",
   "id": "6af964b8-380a-42e2-b1b9-2de8b26af8a4",
   "metadata": {},
   "source": [
    "まずはパッケージの関数をimportする"
   ]
  },
  {
   "cell_type": "code",
   "execution_count": 74,
   "id": "8d00161e-2d3a-4160-a648-2afa7ea92c67",
   "metadata": {},
   "outputs": [],
   "source": [
    "from natsort import natsorted"
   ]
  },
  {
   "cell_type": "markdown",
   "id": "773996d3-626c-414c-a017-6e10b180994f",
   "metadata": {},
   "source": [
    "先ほど操作していたlist11で試す"
   ]
  },
  {
   "cell_type": "code",
   "execution_count": 76,
   "id": "4069761b-263f-408d-957c-2cffff1d0606",
   "metadata": {},
   "outputs": [
    {
     "data": {
      "text/plain": [
       "['gene_3',\n",
       " 'gene_1',\n",
       " 'gene_10',\n",
       " 'gene_25',\n",
       " 'gene_21',\n",
       " 'gene_19',\n",
       " 'gene_2',\n",
       " 'gene_29',\n",
       " 'gene_30',\n",
       " 'gene_11']"
      ]
     },
     "execution_count": 76,
     "metadata": {},
     "output_type": "execute_result"
    }
   ],
   "source": [
    "list11"
   ]
  },
  {
   "cell_type": "code",
   "execution_count": 78,
   "id": "5a03ddc1-f0fd-4da1-acc5-482c536f5831",
   "metadata": {},
   "outputs": [
    {
     "data": {
      "text/plain": [
       "['gene_1',\n",
       " 'gene_10',\n",
       " 'gene_11',\n",
       " 'gene_19',\n",
       " 'gene_2',\n",
       " 'gene_21',\n",
       " 'gene_25',\n",
       " 'gene_29',\n",
       " 'gene_3',\n",
       " 'gene_30']"
      ]
     },
     "execution_count": 78,
     "metadata": {},
     "output_type": "execute_result"
    }
   ],
   "source": [
    "sorted(list11)  #sorted() 関数"
   ]
  },
  {
   "cell_type": "markdown",
   "id": "747bfcfa-95ee-4cde-9203-48b2b0306277",
   "metadata": {},
   "source": [
    "これは先ほど実行してみた通り、文字列の並び順にそのままソートされている。  \n",
    "natsorted()を試す。"
   ]
  },
  {
   "cell_type": "code",
   "execution_count": 79,
   "id": "17c8abb3-618d-45e8-9f40-645762e277e4",
   "metadata": {},
   "outputs": [
    {
     "data": {
      "text/plain": [
       "['gene_1',\n",
       " 'gene_2',\n",
       " 'gene_3',\n",
       " 'gene_10',\n",
       " 'gene_11',\n",
       " 'gene_19',\n",
       " 'gene_21',\n",
       " 'gene_25',\n",
       " 'gene_29',\n",
       " 'gene_30']"
      ]
     },
     "execution_count": 79,
     "metadata": {},
     "output_type": "execute_result"
    }
   ],
   "source": [
    "natsorted(list11)"
   ]
  },
  {
   "cell_type": "markdown",
   "id": "56d0c6bf-f5ec-4017-b946-d0dd93f0c79d",
   "metadata": {},
   "source": [
    "'gene_' より後ろが数値でソートされた。自作関数を用いたソート結果と同じ。  \n",
    "このnatsortパッケージには、ほかにもいくつかの関数が用意されている。必要に応じて調べてみてください。"
   ]
  },
  {
   "cell_type": "markdown",
   "id": "3dfbb673-1358-469f-accd-fe2b2df64398",
   "metadata": {},
   "source": [
    "### 4.4.2 タプル (tuple)  \n",
    "タプルとは immutable (イミュータブル)(不変)なリスト。タプル名 = (要素1,要素2,要素3...) といった形で作成する。リストは[], タプルは()。"
   ]
  },
  {
   "cell_type": "code",
   "execution_count": 80,
   "id": "71dd232e-cea4-4500-bb2b-ba008efafc0d",
   "metadata": {},
   "outputs": [
    {
     "data": {
      "text/plain": [
       "('gene1', 'chr8', 1, 2, 3)"
      ]
     },
     "execution_count": 80,
     "metadata": {},
     "output_type": "execute_result"
    }
   ],
   "source": [
    "tuple1 = ('gene1', 'chr8', 1, 2, 3)\n",
    "tuple1"
   ]
  },
  {
   "cell_type": "markdown",
   "id": "44810758-635a-447c-ba29-44293f850882",
   "metadata": {},
   "source": [
    "要素へのアクセスやスライスはリストと同様に可能。"
   ]
  },
  {
   "cell_type": "code",
   "execution_count": 81,
   "id": "e015ae5a-832c-4fc6-8f66-12205d2dabd8",
   "metadata": {},
   "outputs": [
    {
     "data": {
      "text/plain": [
       "'gene1'"
      ]
     },
     "execution_count": 81,
     "metadata": {},
     "output_type": "execute_result"
    }
   ],
   "source": [
    "tuple1[0]"
   ]
  },
  {
   "cell_type": "code",
   "execution_count": 82,
   "id": "350776da-dba3-4f67-b0c4-28aeeb2b6102",
   "metadata": {},
   "outputs": [
    {
     "data": {
      "text/plain": [
       "2"
      ]
     },
     "execution_count": 82,
     "metadata": {},
     "output_type": "execute_result"
    }
   ],
   "source": [
    "tuple1[3]"
   ]
  },
  {
   "cell_type": "code",
   "execution_count": 83,
   "id": "704fce4b-fed0-4df0-878e-ccebbfc8ffeb",
   "metadata": {},
   "outputs": [
    {
     "data": {
      "text/plain": [
       "('gene1',)"
      ]
     },
     "execution_count": 83,
     "metadata": {},
     "output_type": "execute_result"
    }
   ],
   "source": [
    "tuple1[0:1]"
   ]
  },
  {
   "cell_type": "code",
   "execution_count": 85,
   "id": "78283dff-6f60-470e-9610-063665c016f5",
   "metadata": {},
   "outputs": [
    {
     "data": {
      "text/plain": [
       "('gene1', 'chr8', 1)"
      ]
     },
     "execution_count": 85,
     "metadata": {},
     "output_type": "execute_result"
    }
   ],
   "source": [
    "tuple1[0:3]"
   ]
  },
  {
   "cell_type": "raw",
   "id": "1792df3b-8332-4f3f-a31e-49b5176ea2e1",
   "metadata": {},
   "source": [
    "タプルも、リスト同様に入れ子にできる"
   ]
  },
  {
   "cell_type": "code",
   "execution_count": 87,
   "id": "0c3ffbef-3418-4094-8a9b-bdcbcf44a142",
   "metadata": {},
   "outputs": [
    {
     "data": {
      "text/plain": [
       "(1, 2, [3, 4], (5, 6))"
      ]
     },
     "execution_count": 87,
     "metadata": {},
     "output_type": "execute_result"
    }
   ],
   "source": [
    "tuple2=(1,2,[3,4],(5,6)) #タプルの中にタプルやリストを入れ子にする\n",
    "tuple2"
   ]
  },
  {
   "cell_type": "markdown",
   "id": "132f5176-beeb-431e-ab5d-6ccd1f68e6e9",
   "metadata": {},
   "source": [
    "このように、「タプルの中にタプルやリストを入れ子にする」こともできる。ただし、たぷるはimmutable(イミュータブル)(不変)なので、要素の追加や変更はできない。リストでは行えた以下のような操作はエラーになる。"
   ]
  },
  {
   "cell_type": "code",
   "execution_count": 95,
   "id": "0a436afd-c109-4fcf-9fed-b785acd72f02",
   "metadata": {},
   "outputs": [
    {
     "ename": "TypeError",
     "evalue": "'tuple' object does not support item assignment",
     "output_type": "error",
     "traceback": [
      "\u001b[31m---------------------------------------------------------------------------\u001b[39m",
      "\u001b[31mTypeError\u001b[39m                                 Traceback (most recent call last)",
      "\u001b[36mCell\u001b[39m\u001b[36m \u001b[39m\u001b[32mIn[95]\u001b[39m\u001b[32m, line 1\u001b[39m\n\u001b[32m----> \u001b[39m\u001b[32m1\u001b[39m \u001b[43mtuple1\u001b[49m\u001b[43m[\u001b[49m\u001b[32;43m0\u001b[39;49m\u001b[43m]\u001b[49m = \u001b[33m'\u001b[39m\u001b[33mgene2\u001b[39m\u001b[33m'\u001b[39m\n",
      "\u001b[31mTypeError\u001b[39m: 'tuple' object does not support item assignment"
     ]
    }
   ],
   "source": [
    "tuple1[0] = 'gene2'"
   ]
  },
  {
   "cell_type": "markdown",
   "id": "922b8352-4e90-4ad4-8fa6-f784fc704f6e",
   "metadata": {},
   "source": [
    "TypeError: 'tuple' object does not support item assignment.「タプルオブジェクトはitemの割り当てにはたいおうしていない。」とエラーになった。"
   ]
  },
  {
   "cell_type": "code",
   "execution_count": 96,
   "id": "fda219dd-ba42-426c-949d-352555debdb1",
   "metadata": {},
   "outputs": [
    {
     "ename": "AttributeError",
     "evalue": "'tuple' object has no attribute 'append'",
     "output_type": "error",
     "traceback": [
      "\u001b[31m---------------------------------------------------------------------------\u001b[39m",
      "\u001b[31mAttributeError\u001b[39m                            Traceback (most recent call last)",
      "\u001b[36mCell\u001b[39m\u001b[36m \u001b[39m\u001b[32mIn[96]\u001b[39m\u001b[32m, line 1\u001b[39m\n\u001b[32m----> \u001b[39m\u001b[32m1\u001b[39m \u001b[43mtuple1\u001b[49m\u001b[43m.\u001b[49m\u001b[43mappend\u001b[49m(\u001b[33m'\u001b[39m\u001b[33m4\u001b[39m\u001b[33m'\u001b[39m)\n",
      "\u001b[31mAttributeError\u001b[39m: 'tuple' object has no attribute 'append'"
     ]
    }
   ],
   "source": [
    "tuple1.append('4')"
   ]
  },
  {
   "cell_type": "markdown",
   "id": "adaab194-6d93-47f4-9cd7-36fb1e9b82e5",
   "metadata": {},
   "source": [
    "同様に「appendメソッドはありません」とエラーになった。  \n",
    "ただし、タプルとリストは相互変換 (それぞれを元にした新たなタプルorリストの生成)が可能。リストに変換した上でその値の一部を入れ替えて扱うということができる。"
   ]
  },
  {
   "cell_type": "code",
   "execution_count": 97,
   "id": "fb23a21a-a397-47e3-a4f0-dc6a2c93a1ca",
   "metadata": {},
   "outputs": [
    {
     "data": {
      "text/plain": [
       "('gene1', 'chr8', 1, 2, 3)"
      ]
     },
     "execution_count": 97,
     "metadata": {},
     "output_type": "execute_result"
    }
   ],
   "source": [
    "tuple1"
   ]
  },
  {
   "cell_type": "code",
   "execution_count": 98,
   "id": "599f11ad-a254-41c0-b49e-29bf14681f19",
   "metadata": {},
   "outputs": [
    {
     "data": {
      "text/plain": [
       "['gene1', 'chr8', 1, 2, 3]"
      ]
     },
     "execution_count": 98,
     "metadata": {},
     "output_type": "execute_result"
    }
   ],
   "source": [
    "list_from_tuple1 = list(tuple1)\n",
    "list_from_tuple1"
   ]
  },
  {
   "cell_type": "code",
   "execution_count": 100,
   "id": "7a36e160-6bef-494b-ae6f-3f69a16ba82a",
   "metadata": {},
   "outputs": [
    {
     "data": {
      "text/plain": [
       "('gene1', 'chr8', 1, 2, 3)"
      ]
     },
     "execution_count": 100,
     "metadata": {},
     "output_type": "execute_result"
    }
   ],
   "source": [
    "tuple(list_from_tuple1)"
   ]
  },
  {
   "cell_type": "markdown",
   "id": "5047214f-8e50-4617-b129-391bd4fdf7b0",
   "metadata": {},
   "source": [
    "__参考3: タプルとリストの違いについて__\n",
    "  \n",
    "公式チュートリアルの説明では、タプルとリストは用途によって使い分けるもの、とされている。リストはたいてい同じ型の要素、タプルは複数の方の要素からなることもある、という説明がされている。リストは値を追加/削除して使用することもあるのに対して、タプルは、あるデータの「組み合わせ」として参照して扱う感じでしょうか。また、タプルは処理がリストより高速になる。タプルはデータが不変であるために、データに「書き込み保護」的要素をもたせる意味もある。"
   ]
  },
  {
   "cell_type": "markdown",
   "id": "9f25b274-0f5a-4482-b7cd-7a7e7d41d4bf",
   "metadata": {},
   "source": [
    "__参考4: 文字列のスライス操作__\n",
    "  \n",
    "\n",
    "ここまでリストとタプル、およびその際さについてやってきた。先ほどのスライス操作は文字列に対して行うこともできる。例えば、次のようなゲノム配列があった場合、"
   ]
  },
  {
   "cell_type": "code",
   "execution_count": 103,
   "id": "8d5655ae-6634-4224-a250-78d575a12f90",
   "metadata": {},
   "outputs": [
    {
     "data": {
      "text/plain": [
       "'atgcatgcatgc'"
      ]
     },
     "execution_count": 103,
     "metadata": {},
     "output_type": "execute_result"
    }
   ],
   "source": [
    "DNA_seq1 = 'atgcatgcatgc'\n",
    "DNA_seq1"
   ]
  },
  {
   "cell_type": "markdown",
   "id": "fef7c87e-5f05-4ba5-b153-cbb564e92336",
   "metadata": {},
   "source": [
    "では、この文字列の一部を取り出す。"
   ]
  },
  {
   "cell_type": "code",
   "execution_count": 105,
   "id": "7ef10441-6894-40ce-a77e-9447b3fcd166",
   "metadata": {},
   "outputs": [
    {
     "data": {
      "text/plain": [
       "'cat'"
      ]
     },
     "execution_count": 105,
     "metadata": {},
     "output_type": "execute_result"
    }
   ],
   "source": [
    "DNA_seq1[3:6]"
   ]
  },
  {
   "cell_type": "markdown",
   "id": "c320591b-dfc6-4406-b82a-94bfd7881195",
   "metadata": {},
   "source": [
    "ゼロから数えて3番目から5番目まで、つまり頭から4文字目のcから6文字目のtまでがスライスできた。文字列もリストと同様にスライス操作が可能。\n"
   ]
  },
  {
   "cell_type": "code",
   "execution_count": 106,
   "id": "6582f448-bc5e-49cb-9c78-6fee481b1c08",
   "metadata": {},
   "outputs": [],
   "source": [
    "test_list = [0,1,2,3,4,5,6,7,8]\n",
    "test_str='012345678'"
   ]
  },
  {
   "cell_type": "markdown",
   "id": "6a4eea5d-bf4b-4ec9-8ae8-da53bc612bbf",
   "metadata": {},
   "source": [
    "このようにリストと文字列を作ってみると"
   ]
  },
  {
   "cell_type": "code",
   "execution_count": 107,
   "id": "2bcf6e65-863f-4dde-88db-ddeabff19315",
   "metadata": {},
   "outputs": [
    {
     "data": {
      "text/plain": [
       "[3, 4, 5]"
      ]
     },
     "execution_count": 107,
     "metadata": {},
     "output_type": "execute_result"
    }
   ],
   "source": [
    "test_list[3:6]"
   ]
  },
  {
   "cell_type": "code",
   "execution_count": 108,
   "id": "b95380a0-589d-4a64-bbff-58ae3c7bf50b",
   "metadata": {},
   "outputs": [
    {
     "data": {
      "text/plain": [
       "'345'"
      ]
     },
     "execution_count": 108,
     "metadata": {},
     "output_type": "execute_result"
    }
   ],
   "source": [
    "test_str[3:6]"
   ]
  },
  {
   "cell_type": "markdown",
   "id": "fb945c83-fb8a-4610-93d2-9c4d2a22e8df",
   "metadata": {},
   "source": [
    "同じように取り出せる。ただし、以下のような違いもある。  \n",
    "例えば、リストは、すでにやった通り要素の入れ替えが可能。"
   ]
  },
  {
   "cell_type": "code",
   "execution_count": 109,
   "id": "7c8f4947-348e-4bb0-99dd-9172ec71b8c2",
   "metadata": {},
   "outputs": [
    {
     "data": {
      "text/plain": [
       "[0, 1, 2, 3, 4, 5, 'a', 7, 8]"
      ]
     },
     "execution_count": 109,
     "metadata": {},
     "output_type": "execute_result"
    }
   ],
   "source": [
    "test_list[6] = 'a'\n",
    "test_list"
   ]
  },
  {
   "cell_type": "markdown",
   "id": "063009e5-5021-44ea-ac69-b65e6da9f0bb",
   "metadata": {},
   "source": [
    "入れ替わった。では、リストと同じような操作で、文字列の一部を入れ替えようとすると"
   ]
  },
  {
   "cell_type": "code",
   "execution_count": 111,
   "id": "a9cf1d39-218d-4de0-bf69-79961fcfaa6a",
   "metadata": {},
   "outputs": [
    {
     "ename": "TypeError",
     "evalue": "'str' object does not support item assignment",
     "output_type": "error",
     "traceback": [
      "\u001b[31m---------------------------------------------------------------------------\u001b[39m",
      "\u001b[31mTypeError\u001b[39m                                 Traceback (most recent call last)",
      "\u001b[36mCell\u001b[39m\u001b[36m \u001b[39m\u001b[32mIn[111]\u001b[39m\u001b[32m, line 1\u001b[39m\n\u001b[32m----> \u001b[39m\u001b[32m1\u001b[39m \u001b[43mtest_str\u001b[49m\u001b[43m[\u001b[49m\u001b[32;43m6\u001b[39;49m\u001b[43m]\u001b[49m = \u001b[33m'\u001b[39m\u001b[33ma\u001b[39m\u001b[33m'\u001b[39m\n",
      "\u001b[31mTypeError\u001b[39m: 'str' object does not support item assignment"
     ]
    }
   ],
   "source": [
    "test_str[6] = 'a'"
   ]
  },
  {
   "cell_type": "markdown",
   "id": "720a4ebb-d94d-48aa-8ac4-3aff7abc506f",
   "metadata": {},
   "source": [
    "'str' object does not support item assignment、「str型は要素の割り当てに対応していません」とエラーになった。文字列は immutable(イミュータブル)(不変)なので、例えば、文字列から一部を加工して新しい配列を作り出す場合は、一部の入れ替えなどではなく、それら入れ替えなどの操作を行った形の「新しい文字列を作り出す」作業を行うことになる。例えば、上記のように入れ替えた文字列が欲しい場合、"
   ]
  },
  {
   "cell_type": "code",
   "execution_count": 112,
   "id": "0721b26b-f28a-493b-a7b8-fb52faea5eec",
   "metadata": {},
   "outputs": [
    {
     "data": {
      "text/plain": [
       "'012345a78'"
      ]
     },
     "execution_count": 112,
     "metadata": {},
     "output_type": "execute_result"
    }
   ],
   "source": [
    "test_str[:6] + 'a' + test_str[7:]"
   ]
  },
  {
   "cell_type": "markdown",
   "id": "7569075a-30c1-4fda-b2a1-2d6a94ee8790",
   "metadata": {},
   "source": [
    "このやり方では、入れ替えたい文字列の前後をスライスして、入れ替えたい文字を間に挟んで、+ で結合している。他のやり方として、"
   ]
  },
  {
   "cell_type": "code",
   "execution_count": 113,
   "id": "a21b17dd-02a1-49d1-a7c6-fc17959e0e51",
   "metadata": {},
   "outputs": [
    {
     "data": {
      "text/plain": [
       "['0', '1', '2', '3', '4', '5', '6', '7', '8']"
      ]
     },
     "execution_count": 113,
     "metadata": {},
     "output_type": "execute_result"
    }
   ],
   "source": [
    "list_from_test_str = list(test_str)\n",
    "list_from_test_str"
   ]
  },
  {
   "cell_type": "markdown",
   "id": "ff377a93-82a8-4095-9709-0403cbc6df19",
   "metadata": {},
   "source": [
    "文字列をすべてリスト変換した上で、"
   ]
  },
  {
   "cell_type": "code",
   "execution_count": 116,
   "id": "d1ea9807-c056-439c-a4c2-b14df8e5ca04",
   "metadata": {},
   "outputs": [
    {
     "data": {
      "text/plain": [
       "'012345a78'"
      ]
     },
     "execution_count": 116,
     "metadata": {},
     "output_type": "execute_result"
    }
   ],
   "source": [
    "list_from_test_str[6]='a'\n",
    "''.join(list_from_test_str)"
   ]
  },
  {
   "cell_type": "markdown",
   "id": "27c7cb73-8805-4792-882e-83a44f425def",
   "metadata": {},
   "source": [
    "文字を入れ替えたあとにリストを再び文字列に戻している。join()の部分は、空文字列を間に挿入して(いいかえれば何も挿入せず)、join()メソッドでリスト内の要素を結合、という操作をやっている。  \n",
    "バイオインフォマティックスをやる上では、遺伝子情報の配列をいじるという操作は当然発生することになるので、そのような場合、元の文字列は加工できないので、常に何らかの形で、「加工後の」新しい文字列を生成薄といったやり方を用いることになる。"
   ]
  },
  {
   "cell_type": "markdown",
   "id": "4e8b2016-58f6-4339-9b14-702b9578e605",
   "metadata": {},
   "source": [
    "### 4.4.3 辞書型 (ディクショナリ)   \n",
    "辞書型(dict)は、キー (key) と 値 (value) というデータの組みを保存していくデータ型である。波カッコ{}の中に値を入れ、  \n",
    "\n",
    "辞書名 = {キー1: 値1, キー2: 値2....}  \n",
    "\n",
    "と書いていく。"
   ]
  },
  {
   "cell_type": "code",
   "execution_count": 119,
   "id": "d1524989-9f47-445e-968a-cb2d5a086e6f",
   "metadata": {},
   "outputs": [],
   "source": [
    "gene_set1 = {'chr':1, 'pos' : 324, 'ref' : 'c', 'var': 't'}"
   ]
  },
  {
   "cell_type": "markdown",
   "id": "31c4dc87-e6c9-43ce-b9ec-34f70988b38f",
   "metadata": {},
   "source": [
    "例えば、「染色体1番、324番目の塩基、リファレンスはC, そこがTに変異している」という表記だとする。"
   ]
  },
  {
   "cell_type": "code",
   "execution_count": 120,
   "id": "5b0c892f-dee3-46ca-aca0-829dbd23393d",
   "metadata": {},
   "outputs": [
    {
     "data": {
      "text/plain": [
       "{'chr': 1, 'pos': 324, 'ref': 'c', 'var': 't'}"
      ]
     },
     "execution_count": 120,
     "metadata": {},
     "output_type": "execute_result"
    }
   ],
   "source": [
    "gene_set1"
   ]
  },
  {
   "cell_type": "code",
   "execution_count": 121,
   "id": "8e42745a-6ec8-4df2-a8d2-bf62b3542ae3",
   "metadata": {},
   "outputs": [
    {
     "data": {
      "text/plain": [
       "1"
      ]
     },
     "execution_count": 121,
     "metadata": {},
     "output_type": "execute_result"
    }
   ],
   "source": [
    "gene_set1['chr']"
   ]
  },
  {
   "cell_type": "markdown",
   "id": "744398f8-080a-451b-80f9-f4cf9360c3a3",
   "metadata": {},
   "source": [
    "とすることで、gene_set1内で、染色体(chr)は？と聞けば、1が取り出せる。"
   ]
  },
  {
   "cell_type": "markdown",
   "id": "448d4d63-6376-4bf1-bd88-156c3a46b3ce",
   "metadata": {},
   "source": [
    "### 4.4.4 集合型 (セット)  \n",
    "__集合型(set)__は、データの集合を扱うデータ型である。波カッコ{}内に値を入れ、\n",
    "\n",
    "集合名 = {値1, 値2, 値3....}  \n",
    "\n",
    "と書いていく。__データ内に順序はない。__"
   ]
  },
  {
   "cell_type": "code",
   "execution_count": 141,
   "id": "cae1319e-7347-49d6-8f6b-372960f95d43",
   "metadata": {},
   "outputs": [],
   "source": [
    "set1 = {'gene_1', 'gene_3', 'gene_8'}"
   ]
  },
  {
   "cell_type": "code",
   "execution_count": 142,
   "id": "7aace46a-2377-460e-94cc-054348a349db",
   "metadata": {},
   "outputs": [
    {
     "data": {
      "text/plain": [
       "{'gene_1', 'gene_3', 'gene_8'}"
      ]
     },
     "execution_count": 142,
     "metadata": {},
     "output_type": "execute_result"
    }
   ],
   "source": [
    "set1 #出力は環境によって順序が異なる"
   ]
  },
  {
   "cell_type": "code",
   "execution_count": 143,
   "id": "f9bf5ef9-930d-4488-8d6a-76ad4633c4a9",
   "metadata": {},
   "outputs": [],
   "source": [
    "set2 = {2,1,3}"
   ]
  },
  {
   "cell_type": "code",
   "execution_count": 144,
   "id": "33cc35d2-e98a-4f0e-8912-7a63d5edb22a",
   "metadata": {},
   "outputs": [
    {
     "data": {
      "text/plain": [
       "{1, 2, 3}"
      ]
     },
     "execution_count": 144,
     "metadata": {},
     "output_type": "execute_result"
    }
   ],
   "source": [
    "set2 #出力は環境によって順序が異なる"
   ]
  },
  {
   "cell_type": "markdown",
   "id": "f6e09772-c9ed-4c84-9c6c-634ee7b199df",
   "metadata": {},
   "source": [
    "セットは要素の追加や削除ができる"
   ]
  },
  {
   "cell_type": "code",
   "execution_count": 145,
   "id": "354d6f45-a556-43a2-a8f7-126c71f3a6f9",
   "metadata": {},
   "outputs": [
    {
     "data": {
      "text/plain": [
       "{'gene_1', 'gene_3', 'gene_8'}"
      ]
     },
     "execution_count": 145,
     "metadata": {},
     "output_type": "execute_result"
    }
   ],
   "source": [
    "set1"
   ]
  },
  {
   "cell_type": "code",
   "execution_count": 146,
   "id": "44dad990-e07d-4dfb-929f-b86d000c785a",
   "metadata": {},
   "outputs": [
    {
     "data": {
      "text/plain": [
       "{12, 'gene_1', 'gene_3', 'gene_8'}"
      ]
     },
     "execution_count": 146,
     "metadata": {},
     "output_type": "execute_result"
    }
   ],
   "source": [
    "set1.add(12)\n",
    "set1"
   ]
  },
  {
   "cell_type": "code",
   "execution_count": 147,
   "id": "cbe4b932-dc00-45d7-971d-1eb7d37ea718",
   "metadata": {},
   "outputs": [
    {
     "data": {
      "text/plain": [
       "{12, 'gene_3', 'gene_8'}"
      ]
     },
     "execution_count": 147,
     "metadata": {},
     "output_type": "execute_result"
    }
   ],
   "source": [
    "set1.remove('gene_1')\n",
    "set1"
   ]
  },
  {
   "cell_type": "markdown",
   "id": "45535e25-d452-4494-a67d-b445ca756bc1",
   "metadata": {},
   "source": [
    "また、集合演算(和、積、差、対称差) も可能になっている。"
   ]
  },
  {
   "cell_type": "code",
   "execution_count": 139,
   "id": "9aefe34f-6adb-42c0-b1e3-0931b5455126",
   "metadata": {},
   "outputs": [
    {
     "data": {
      "text/plain": [
       "{1, 2, 3, 4, 5, 6, 7}"
      ]
     },
     "execution_count": 139,
     "metadata": {},
     "output_type": "execute_result"
    }
   ],
   "source": [
    "set3 = {1,2,3,4,5}\n",
    "set4 = {3,4,5,6,7}\n",
    "set3 | set4 #和"
   ]
  },
  {
   "cell_type": "code",
   "execution_count": 148,
   "id": "76901b19-ba1f-4f52-8fc1-6279698acab2",
   "metadata": {},
   "outputs": [
    {
     "data": {
      "text/plain": [
       "{3, 4, 5}"
      ]
     },
     "execution_count": 148,
     "metadata": {},
     "output_type": "execute_result"
    }
   ],
   "source": [
    "set3 & set4 #積 (共通部分)"
   ]
  },
  {
   "cell_type": "code",
   "execution_count": 149,
   "id": "c7eb556f-10dc-48d7-ab05-fd772d8d2af9",
   "metadata": {},
   "outputs": [
    {
     "data": {
      "text/plain": [
       "{1, 2}"
      ]
     },
     "execution_count": 149,
     "metadata": {},
     "output_type": "execute_result"
    }
   ],
   "source": [
    "set3 - set4 #差"
   ]
  },
  {
   "cell_type": "code",
   "execution_count": 150,
   "id": "d35865bb-acd0-4570-a1e7-b5b7309ec03e",
   "metadata": {},
   "outputs": [
    {
     "data": {
      "text/plain": [
       "{1, 2, 6, 7}"
      ]
     },
     "execution_count": 150,
     "metadata": {},
     "output_type": "execute_result"
    }
   ],
   "source": [
    "set3 ^ set4 #対象差 (どちらか一方にのみある値)"
   ]
  },
  {
   "cell_type": "markdown",
   "id": "ccddf9ca-6f30-4c3f-80b0-5ad7086c143c",
   "metadata": {},
   "source": [
    "さらに、リストやタプルは集合に変換できる"
   ]
  },
  {
   "cell_type": "code",
   "execution_count": 151,
   "id": "6ea5fd82-bcae-402a-964e-f0fec201145c",
   "metadata": {},
   "outputs": [],
   "source": [
    "list_s = [1,2,3]  #リスト\n",
    "tupple_s = (4,5,6) #タプル"
   ]
  },
  {
   "cell_type": "code",
   "execution_count": 152,
   "id": "886f1a33-c770-4170-9798-d224e58a9495",
   "metadata": {},
   "outputs": [
    {
     "data": {
      "text/plain": [
       "{1, 2, 3}"
      ]
     },
     "execution_count": 152,
     "metadata": {},
     "output_type": "execute_result"
    }
   ],
   "source": [
    "set(list_s)"
   ]
  },
  {
   "cell_type": "code",
   "execution_count": 153,
   "id": "ec6e487c-4edf-4905-937a-6c7d6e374f49",
   "metadata": {},
   "outputs": [
    {
     "data": {
      "text/plain": [
       "{4, 5, 6}"
      ]
     },
     "execution_count": 153,
     "metadata": {},
     "output_type": "execute_result"
    }
   ],
   "source": [
    "set(tupple_s)"
   ]
  },
  {
   "cell_type": "markdown",
   "id": "0127d3bc-132d-4d90-be9a-7a6c28c168e5",
   "metadata": {},
   "source": [
    "なお、集合では同じ値の重複はありません。そのため値の重複があるリストでは、1つにまとめられる。"
   ]
  },
  {
   "cell_type": "code",
   "execution_count": 154,
   "id": "f22ec296-0fcb-4b9b-a782-432a01b82194",
   "metadata": {},
   "outputs": [
    {
     "data": {
      "text/plain": [
       "[1, 1, 2, 3, 4, 5]"
      ]
     },
     "execution_count": 154,
     "metadata": {},
     "output_type": "execute_result"
    }
   ],
   "source": [
    "list_s2 = [1,1,2,3,4,5]\n",
    "list_s2"
   ]
  },
  {
   "cell_type": "code",
   "execution_count": 155,
   "id": "37873cbf-8671-4a55-a8b8-9416003bd395",
   "metadata": {},
   "outputs": [
    {
     "data": {
      "text/plain": [
       "{1, 2, 3, 4, 5}"
      ]
     },
     "execution_count": 155,
     "metadata": {},
     "output_type": "execute_result"
    }
   ],
   "source": [
    "set(list_s2)"
   ]
  },
  {
   "cell_type": "markdown",
   "id": "49b2e841-825f-46db-88d5-ba478b5258bf",
   "metadata": {},
   "source": [
    "__参考5: 複合型データを学んだ上での「変数」の補足 (オプジェクト)__\n",
    "  \n",
    "ここまで勉強したところで少しだけ後戻りをする。Python では全てのものは「オブジェクト」とされている。オブジェクトは実際にメモリ上に存在するものである。細かい話は置いておいて、重要なのは変数はオブジェクト (のメモリ上の場所) を「参照」しているということである。以下は、初学者のうちは気にしなくてもよいが、複雑なデータを扱うときは、ときどき謎のエラーや出力の原因になるので、心の片隅に置いておくと良い。"
   ]
  },
  {
   "cell_type": "code",
   "execution_count": 156,
   "id": "214fef83-fc69-41f9-8f45-d4a368faa06f",
   "metadata": {},
   "outputs": [],
   "source": [
    "val_a = 1\n",
    "val_b = val_a #val_bをval_a が参照するオブジェクトに紐づけた。"
   ]
  },
  {
   "cell_type": "code",
   "execution_count": 157,
   "id": "82cf8db6-dc49-40b4-a87e-5436e3e214a1",
   "metadata": {},
   "outputs": [
    {
     "data": {
      "text/plain": [
       "1"
      ]
     },
     "execution_count": 157,
     "metadata": {},
     "output_type": "execute_result"
    }
   ],
   "source": [
    "val_a"
   ]
  },
  {
   "cell_type": "code",
   "execution_count": 158,
   "id": "e6220a60-8c08-46ce-b1d4-bf12eaeb19bf",
   "metadata": {},
   "outputs": [
    {
     "data": {
      "text/plain": [
       "1"
      ]
     },
     "execution_count": 158,
     "metadata": {},
     "output_type": "execute_result"
    }
   ],
   "source": [
    "val_b"
   ]
  },
  {
   "cell_type": "markdown",
   "id": "48c3ccad-851e-4a1c-ac40-7553a1124faf",
   "metadata": {},
   "source": [
    "val_aは1です。val_bも1です。ここで、val_a = val_a + 1としてみる"
   ]
  },
  {
   "cell_type": "code",
   "execution_count": 159,
   "id": "6a0b7969-e3ff-4a8d-9e49-067ca1854b7c",
   "metadata": {},
   "outputs": [],
   "source": [
    "val_a = val_a + 1"
   ]
  },
  {
   "cell_type": "code",
   "execution_count": 161,
   "id": "643d6d43-5e12-4702-ba82-61e0e6199a5d",
   "metadata": {},
   "outputs": [
    {
     "data": {
      "text/plain": [
       "2"
      ]
     },
     "execution_count": 161,
     "metadata": {},
     "output_type": "execute_result"
    }
   ],
   "source": [
    "val_a"
   ]
  },
  {
   "cell_type": "code",
   "execution_count": 162,
   "id": "2c1d3107-9844-4c92-9e51-32545aab6c2e",
   "metadata": {},
   "outputs": [
    {
     "data": {
      "text/plain": [
       "1"
      ]
     },
     "execution_count": 162,
     "metadata": {},
     "output_type": "execute_result"
    }
   ],
   "source": [
    "val_b"
   ]
  },
  {
   "cell_type": "markdown",
   "id": "cb2cd815-e2d5-4b6f-a24a-879f094b2e85",
   "metadata": {},
   "source": [
    "val_aのみ値が変わった。参照先が1 (というオブジェクト) から2 (というオブジェクト) になった。一方 val_bは1で変わらない。参照先はあくまで、val_aが紐づけられていた1 (というオブジェクト) である。この参照先は、id()という関数で確認できる"
   ]
  },
  {
   "cell_type": "code",
   "execution_count": 163,
   "id": "dde64e5c-2e42-42b7-a5fe-d00200d20703",
   "metadata": {},
   "outputs": [
    {
     "data": {
      "text/plain": [
       "4414965688"
      ]
     },
     "execution_count": 163,
     "metadata": {},
     "output_type": "execute_result"
    }
   ],
   "source": [
    "id(val_a) #値は環境により異なります"
   ]
  },
  {
   "cell_type": "code",
   "execution_count": 164,
   "id": "2cd5260b-da92-41cb-87e1-4296942d2f3e",
   "metadata": {},
   "outputs": [
    {
     "data": {
      "text/plain": [
       "4414965656"
      ]
     },
     "execution_count": 164,
     "metadata": {},
     "output_type": "execute_result"
    }
   ],
   "source": [
    "id(val_b) #値は環境により異なります"
   ]
  },
  {
   "cell_type": "markdown",
   "id": "dfcffc1d-9146-4f28-a3d6-b309320a2d68",
   "metadata": {},
   "source": [
    "参照先は違うものである。これと同じような操作をリストで行ってみる。"
   ]
  },
  {
   "cell_type": "code",
   "execution_count": 165,
   "id": "0c3d60c5-1da6-4d2d-a3b1-54fad272826d",
   "metadata": {},
   "outputs": [],
   "source": [
    "list_a = [1,2,3]\n",
    "list_b = list_a"
   ]
  },
  {
   "cell_type": "code",
   "execution_count": 166,
   "id": "888b43c6-1756-492d-a3d9-f62a8d8d7a6d",
   "metadata": {},
   "outputs": [
    {
     "data": {
      "text/plain": [
       "[1, 2, 3]"
      ]
     },
     "execution_count": 166,
     "metadata": {},
     "output_type": "execute_result"
    }
   ],
   "source": [
    "list_a"
   ]
  },
  {
   "cell_type": "code",
   "execution_count": 167,
   "id": "913d1a73-ef46-4230-bb18-262719037e4d",
   "metadata": {},
   "outputs": [
    {
     "data": {
      "text/plain": [
       "[1, 2, 3]"
      ]
     },
     "execution_count": 167,
     "metadata": {},
     "output_type": "execute_result"
    }
   ],
   "source": [
    "list_b"
   ]
  },
  {
   "cell_type": "markdown",
   "id": "a92f8711-130e-4673-b6aa-2cb01e86f993",
   "metadata": {},
   "source": [
    "ここまではよいが、、、、list_a に append()メソッドで値を追加する。これにより、list_a で参照されているリスト「自体」が変化する。"
   ]
  },
  {
   "cell_type": "code",
   "execution_count": 168,
   "id": "d3255c45-e2d8-49bf-b3f4-641d10168f7f",
   "metadata": {},
   "outputs": [],
   "source": [
    "list_a.append(4)"
   ]
  },
  {
   "cell_type": "code",
   "execution_count": 169,
   "id": "579dd5cc-4f69-499f-9e47-9cdc2fa3c033",
   "metadata": {},
   "outputs": [
    {
     "data": {
      "text/plain": [
       "[1, 2, 3, 4]"
      ]
     },
     "execution_count": 169,
     "metadata": {},
     "output_type": "execute_result"
    }
   ],
   "source": [
    "list_a"
   ]
  },
  {
   "cell_type": "code",
   "execution_count": 170,
   "id": "5dd3e5b8-a9e5-45fd-8c14-600e86447955",
   "metadata": {},
   "outputs": [
    {
     "data": {
      "text/plain": [
       "[1, 2, 3, 4]"
      ]
     },
     "execution_count": 170,
     "metadata": {},
     "output_type": "execute_result"
    }
   ],
   "source": [
    "list_b"
   ]
  },
  {
   "cell_type": "markdown",
   "id": "f6074096-d0cd-43b6-8c59-80cff10bc1d4",
   "metadata": {},
   "source": [
    "先ほどと異なり、list_bの内容も変化した。参照先を見てみると、"
   ]
  },
  {
   "cell_type": "code",
   "execution_count": 171,
   "id": "e6e45c56-8afb-4b50-a6a4-81c34d253b2d",
   "metadata": {},
   "outputs": [
    {
     "data": {
      "text/plain": [
       "4473118080"
      ]
     },
     "execution_count": 171,
     "metadata": {},
     "output_type": "execute_result"
    }
   ],
   "source": [
    "id(list_a) #値は環境によって異なる"
   ]
  },
  {
   "cell_type": "code",
   "execution_count": 173,
   "id": "ac1c0703-9db5-4dac-b2fb-bef22b1eb726",
   "metadata": {},
   "outputs": [
    {
     "data": {
      "text/plain": [
       "4473118080"
      ]
     },
     "execution_count": 173,
     "metadata": {},
     "output_type": "execute_result"
    }
   ],
   "source": [
    "id(list_b) #値は環境によって異なる"
   ]
  },
  {
   "cell_type": "markdown",
   "id": "8ae9a7f4-561c-4797-b88d-66148dd2213d",
   "metadata": {},
   "source": [
    "つまりこの2つのリストは参照先が「一緒」である。参照先の (メモリアドレス上に存在する)データ自体が変化した。こういうことが起こりうるということをおさえておく必要がある。"
   ]
  },
  {
   "cell_type": "markdown",
   "id": "ce5ac775-d4b0-4a65-b2df-80cae0663a48",
   "metadata": {},
   "source": [
    "__参考6: データのコピーについて__\n",
    "  \n",
    "ここまで学習してきた方なら「リストなどのデータをコピーして使いたいときはどうしたらいいのか？」という疑問をお持ちになるかもしれない。リストA を作った上で、そのリストの中身をコピーしたリストBを作りたい。でも、  \n",
    "リストB = リストA  \n",
    "とすればリストAを編集すると中身が変わってしまう。ではどうするか？  \n",
    "\n",
    "このような場合、pythonではオブジェクトをコピーして使うことになる。そのための手段も用意されている。その操作、手法は、複数用意されており、操作内容等から「浅いコピー (shallow copy)」「深いコピー (deep copy)」と分けてよばれている。「浅いコピー」では、すべての要素 (オブジェクト)を複製したい完全なコピーを作り出す。大雑把な言い方をすると、リストの中にリスト、といった複雑な構造の場合、「浅いコピー」だとデータが完全にコピーできないため、編集した時に完全に独立したデータにならない。一方「深いコピー」はメモリ等を食いますが、完全に別のデータセットを作ることになる。"
   ]
  },
  {
   "cell_type": "markdown",
   "id": "5a807f09-70ac-4b27-916d-e780fa4925bc",
   "metadata": {},
   "source": [
    "まずは上の復讐として、代入するとどうなるかを確認する。"
   ]
  },
  {
   "cell_type": "code",
   "execution_count": 174,
   "id": "9591472f-11e8-432f-8014-b3329da3c328",
   "metadata": {},
   "outputs": [],
   "source": [
    "list_a=[3,2,1] "
   ]
  },
  {
   "cell_type": "code",
   "execution_count": 175,
   "id": "6c0ff840-6262-4e82-bec0-de5b6c1f4a54",
   "metadata": {},
   "outputs": [],
   "source": [
    "list_b=list_a"
   ]
  },
  {
   "cell_type": "code",
   "execution_count": 176,
   "id": "a30b0619-5775-4139-85df-476682639e5f",
   "metadata": {},
   "outputs": [
    {
     "data": {
      "text/plain": [
       "[3, 2, 1]"
      ]
     },
     "execution_count": 176,
     "metadata": {},
     "output_type": "execute_result"
    }
   ],
   "source": [
    "list_b"
   ]
  },
  {
   "cell_type": "code",
   "execution_count": 177,
   "id": "81f4d641-c54b-4f1f-8319-03a6082fb4dc",
   "metadata": {},
   "outputs": [],
   "source": [
    "list_a.sort() #sortメソッドはリスト自体を変化させる破壊的操作"
   ]
  },
  {
   "cell_type": "code",
   "execution_count": 178,
   "id": "9308f2a1-fe9f-4f8c-b159-f5e5c9b4053f",
   "metadata": {},
   "outputs": [
    {
     "data": {
      "text/plain": [
       "[1, 2, 3]"
      ]
     },
     "execution_count": 178,
     "metadata": {},
     "output_type": "execute_result"
    }
   ],
   "source": [
    "list_a"
   ]
  },
  {
   "cell_type": "code",
   "execution_count": 179,
   "id": "456526e7-c9ce-4807-a37a-d49b02bff4a0",
   "metadata": {},
   "outputs": [
    {
     "data": {
      "text/plain": [
       "[1, 2, 3]"
      ]
     },
     "execution_count": 179,
     "metadata": {},
     "output_type": "execute_result"
    }
   ],
   "source": [
    "list_b"
   ]
  },
  {
   "cell_type": "markdown",
   "id": "0c729378-2b54-40ae-8ef4-0354d1fa5823",
   "metadata": {},
   "source": [
    "list_a を編集しただけなのにlist_bが変化してしまった。これではデータが独立していない。  \n",
    "\n",
    "そこで、まず「浅いコピー」をやってみる。これは list のcopyメソッド、もしくは copy モジュールのcopy() 関数によって可能である。"
   ]
  },
  {
   "cell_type": "markdown",
   "id": "9cfa2526-69e4-4901-8ff5-2ace5f3b4a79",
   "metadata": {},
   "source": [
    "listのcopyメソッドを試す。"
   ]
  },
  {
   "cell_type": "code",
   "execution_count": 180,
   "id": "2e1f6a0d-fe05-4af5-8970-174a22c88aa4",
   "metadata": {},
   "outputs": [],
   "source": [
    "list_a = [3,2,1]\n",
    "list_b=list_a.copy()"
   ]
  },
  {
   "cell_type": "markdown",
   "id": "28d82c53-5020-4ae0-99d5-7d4527b1a3e2",
   "metadata": {},
   "source": [
    "list_aを加工する"
   ]
  },
  {
   "cell_type": "code",
   "execution_count": 182,
   "id": "6eda0a58-bb73-4224-ae75-65580ce210a8",
   "metadata": {},
   "outputs": [],
   "source": [
    "list_a.append(4)"
   ]
  },
  {
   "cell_type": "code",
   "execution_count": 184,
   "id": "70d0c0b3-a02e-4140-a2f9-acee574ec594",
   "metadata": {},
   "outputs": [
    {
     "data": {
      "text/plain": [
       "[3, 2, 1, 4]"
      ]
     },
     "execution_count": 184,
     "metadata": {},
     "output_type": "execute_result"
    }
   ],
   "source": [
    "list_a"
   ]
  },
  {
   "cell_type": "markdown",
   "id": "8275d4f9-dc99-4cb3-b0c0-f463fdae0324",
   "metadata": {},
   "source": [
    "list_bをみてみる"
   ]
  },
  {
   "cell_type": "code",
   "execution_count": 185,
   "id": "bab9bb78-223e-40c1-b273-720857afa853",
   "metadata": {},
   "outputs": [
    {
     "data": {
      "text/plain": [
       "[3, 2, 1]"
      ]
     },
     "execution_count": 185,
     "metadata": {},
     "output_type": "execute_result"
    }
   ],
   "source": [
    "list_b"
   ]
  },
  {
   "cell_type": "markdown",
   "id": "9236992a-3070-4afd-a9d7-e730719edfa2",
   "metadata": {},
   "source": [
    "変化していない。オブジェクトとして独立している、コピーが作成されていることがわかる。  \n",
    "次に、copy()関数を使ってみる。"
   ]
  },
  {
   "cell_type": "code",
   "execution_count": 187,
   "id": "5f15c97c-79ed-486b-8b31-5068cabb32a4",
   "metadata": {},
   "outputs": [],
   "source": [
    "import copy\n",
    "list_a=[3,2,1] #list_aを再作成する\n",
    "list_c=copy.copy(list_a)"
   ]
  },
  {
   "cell_type": "code",
   "execution_count": 188,
   "id": "e81bae01-0b65-48f4-84a4-e689ffc82d62",
   "metadata": {},
   "outputs": [
    {
     "data": {
      "text/plain": [
       "[3, 2, 1]"
      ]
     },
     "execution_count": 188,
     "metadata": {},
     "output_type": "execute_result"
    }
   ],
   "source": [
    "list_a"
   ]
  },
  {
   "cell_type": "markdown",
   "id": "89fd91e8-9a6a-4317-92a2-a26824b4a1d0",
   "metadata": {},
   "source": [
    "list_a を加工する"
   ]
  },
  {
   "cell_type": "code",
   "execution_count": 189,
   "id": "70e4853e-1377-4629-a076-14d688ca514a",
   "metadata": {},
   "outputs": [],
   "source": [
    "list_a.sort()"
   ]
  },
  {
   "cell_type": "code",
   "execution_count": 190,
   "id": "bfe34c6d-30ee-4ec7-a41d-d4ee5555f943",
   "metadata": {},
   "outputs": [
    {
     "data": {
      "text/plain": [
       "[1, 2, 3]"
      ]
     },
     "execution_count": 190,
     "metadata": {},
     "output_type": "execute_result"
    }
   ],
   "source": [
    "list_a"
   ]
  },
  {
   "cell_type": "markdown",
   "id": "054e945c-faa3-4f32-9f65-779bd137d807",
   "metadata": {},
   "source": [
    "ここでlist_cを見てみる。"
   ]
  },
  {
   "cell_type": "code",
   "execution_count": 191,
   "id": "70be0c0b-18c9-49d0-852e-eff31914eded",
   "metadata": {},
   "outputs": [
    {
     "data": {
      "text/plain": [
       "[3, 2, 1]"
      ]
     },
     "execution_count": 191,
     "metadata": {},
     "output_type": "execute_result"
    }
   ],
   "source": [
    "list_c"
   ]
  },
  {
   "cell_type": "markdown",
   "id": "561e795e-0ea0-4a04-8f60-653bf47c9e8c",
   "metadata": {},
   "source": [
    "加工されていない。しっかり、データ自体がコピーされていることがわかる。  \n",
    "では、次に deepcopy()を試す。"
   ]
  },
  {
   "cell_type": "code",
   "execution_count": 192,
   "id": "930ce8c7-5213-4d7f-aae1-1e4a352b029e",
   "metadata": {},
   "outputs": [],
   "source": [
    "list_complex=[1,2,3,[1,2]]"
   ]
  },
  {
   "cell_type": "code",
   "execution_count": 193,
   "id": "016fabba-5293-410e-9dab-f32e9229fe02",
   "metadata": {},
   "outputs": [
    {
     "data": {
      "text/plain": [
       "[1, 2, 3, [1, 2]]"
      ]
     },
     "execution_count": 193,
     "metadata": {},
     "output_type": "execute_result"
    }
   ],
   "source": [
    "list_complex"
   ]
  },
  {
   "cell_type": "markdown",
   "id": "39389c21-a584-4c6d-a64f-a41a22215ae2",
   "metadata": {},
   "source": [
    "浅いコピー、深いコピー両方作ってみる。"
   ]
  },
  {
   "cell_type": "code",
   "execution_count": 194,
   "id": "bdc4d464-39ff-45f5-bb21-26c55a955f32",
   "metadata": {},
   "outputs": [],
   "source": [
    "list_complex_shallow_copy=copy.copy(list_complex)\n",
    "list_complex_deep_copy=copy.deepcopy(list_complex)"
   ]
  },
  {
   "cell_type": "code",
   "execution_count": 195,
   "id": "d594d016-5be3-4b1d-b75e-c9c2c5a16658",
   "metadata": {},
   "outputs": [
    {
     "data": {
      "text/plain": [
       "[1, 2, 3, [1, 2]]"
      ]
     },
     "execution_count": 195,
     "metadata": {},
     "output_type": "execute_result"
    }
   ],
   "source": [
    "list_complex_shallow_copy"
   ]
  },
  {
   "cell_type": "code",
   "execution_count": 196,
   "id": "f72af905-7921-41ee-be44-373ba323ccd0",
   "metadata": {},
   "outputs": [
    {
     "data": {
      "text/plain": [
       "[1, 2, 3, [1, 2]]"
      ]
     },
     "execution_count": 196,
     "metadata": {},
     "output_type": "execute_result"
    }
   ],
   "source": [
    "list_complex_deep_copy"
   ]
  },
  {
   "cell_type": "markdown",
   "id": "138ae492-12ae-4f16-9418-a75710b3dc04",
   "metadata": {},
   "source": [
    "元のデータを少し加工してみる"
   ]
  },
  {
   "cell_type": "code",
   "execution_count": 198,
   "id": "2c4faae9-daab-4277-a0fd-df0c77a1acbd",
   "metadata": {},
   "outputs": [],
   "source": [
    "list_complex.append(10000)"
   ]
  },
  {
   "cell_type": "code",
   "execution_count": 199,
   "id": "2a7077d8-f6f5-4950-9e27-ac21e3aafe95",
   "metadata": {},
   "outputs": [
    {
     "data": {
      "text/plain": [
       "[1, 2, 3, [1, 2], 10000]"
      ]
     },
     "execution_count": 199,
     "metadata": {},
     "output_type": "execute_result"
    }
   ],
   "source": [
    "list_complex"
   ]
  },
  {
   "cell_type": "markdown",
   "id": "9bd27bd8-5caf-4830-8cd5-1f1aa715f8e8",
   "metadata": {},
   "source": [
    "しっかりappendされている。では、コピーしたデータではどうなっているか？"
   ]
  },
  {
   "cell_type": "code",
   "execution_count": 200,
   "id": "0597da38-ab14-47e4-b04e-50a545638070",
   "metadata": {},
   "outputs": [
    {
     "data": {
      "text/plain": [
       "[1, 2, 3, [1, 2]]"
      ]
     },
     "execution_count": 200,
     "metadata": {},
     "output_type": "execute_result"
    }
   ],
   "source": [
    "list_complex_shallow_copy"
   ]
  },
  {
   "cell_type": "code",
   "execution_count": 201,
   "id": "8eb6596b-e4bf-4b7d-9cd8-1c0c004baa52",
   "metadata": {},
   "outputs": [
    {
     "data": {
      "text/plain": [
       "[1, 2, 3, [1, 2]]"
      ]
     },
     "execution_count": 201,
     "metadata": {},
     "output_type": "execute_result"
    }
   ],
   "source": [
    "list_complex_deep_copy"
   ]
  },
  {
   "cell_type": "markdown",
   "id": "afe0430d-ea2a-458d-8aaf-4f9270ac716c",
   "metadata": {},
   "source": [
    "どちらもコピーしたデータは影響を受けていない。しっかりコピーできている。  \n",
    "では、ここで、list_complex の複合オブジェクト内のリストを少し加工する。"
   ]
  },
  {
   "cell_type": "code",
   "execution_count": 202,
   "id": "d831814c-4906-475d-96da-9ab2c4f780d9",
   "metadata": {},
   "outputs": [
    {
     "data": {
      "text/plain": [
       "[1, 2]"
      ]
     },
     "execution_count": 202,
     "metadata": {},
     "output_type": "execute_result"
    }
   ],
   "source": [
    "list_complex[3] #これがリスト内のリストです。ここの要素を参照して加工する"
   ]
  },
  {
   "cell_type": "code",
   "execution_count": 203,
   "id": "da052a9e-87f7-417f-bb4b-b5dd4788cc3e",
   "metadata": {},
   "outputs": [],
   "source": [
    "list_complex[3][0]=100 #参照したリスト内の初めの値を100に置換した"
   ]
  },
  {
   "cell_type": "code",
   "execution_count": 204,
   "id": "da72deff-ca28-442b-97f4-ba76faebe4d5",
   "metadata": {},
   "outputs": [
    {
     "data": {
      "text/plain": [
       "[100, 2]"
      ]
     },
     "execution_count": 204,
     "metadata": {},
     "output_type": "execute_result"
    }
   ],
   "source": [
    "list_complex[3]"
   ]
  },
  {
   "cell_type": "code",
   "execution_count": 205,
   "id": "070be12a-e311-4618-87b4-f7b9c561aa39",
   "metadata": {},
   "outputs": [
    {
     "data": {
      "text/plain": [
       "[1, 2, 3, [100, 2], 10000]"
      ]
     },
     "execution_count": 205,
     "metadata": {},
     "output_type": "execute_result"
    }
   ],
   "source": [
    "list_complex"
   ]
  },
  {
   "cell_type": "markdown",
   "id": "d1e237cf-b548-4e0a-8610-1a2468718eea",
   "metadata": {},
   "source": [
    "このようにリスト内の値が変化している、では、コピーしたデータはどうなっているか？"
   ]
  },
  {
   "cell_type": "code",
   "execution_count": 206,
   "id": "1472363e-2b5d-4ab2-af42-266d111563b3",
   "metadata": {},
   "outputs": [
    {
     "data": {
      "text/plain": [
       "[1, 2, 3, [100, 2]]"
      ]
     },
     "execution_count": 206,
     "metadata": {},
     "output_type": "execute_result"
    }
   ],
   "source": [
    "list_complex_shallow_copy"
   ]
  },
  {
   "cell_type": "code",
   "execution_count": 207,
   "id": "2a1724ca-adbe-4a0a-9c82-1100a2fb85b9",
   "metadata": {},
   "outputs": [
    {
     "data": {
      "text/plain": [
       "[1, 2, 3, [1, 2]]"
      ]
     },
     "execution_count": 207,
     "metadata": {},
     "output_type": "execute_result"
    }
   ],
   "source": [
    "list_complex_deep_copy"
   ]
  },
  {
   "cell_type": "markdown",
   "id": "8ef12568-4ca2-4fa1-a9de-b6f56aeb0505",
   "metadata": {},
   "source": [
    "shallow_copyデータは、リスト内の要素が先ほどの加工の影響を受けて、変化していた。一方で、deep_copyデータでは、リスト内リストも影響を受けていない。  \n",
    "浅いコピー、深いコピー、状況に応じて使い分けるということになるだろう。  \n",
    "このように、データの複製の際にも、いったいどういうオブジェクトを、どの意図でコピーするのか？というの"
   ]
  }
 ],
 "metadata": {
  "kernelspec": {
   "display_name": "Python 3 (ipykernel)",
   "language": "python",
   "name": "python3"
  },
  "language_info": {
   "codemirror_mode": {
    "name": "ipython",
    "version": 3
   },
   "file_extension": ".py",
   "mimetype": "text/x-python",
   "name": "python",
   "nbconvert_exporter": "python",
   "pygments_lexer": "ipython3",
   "version": "3.11.11"
  }
 },
 "nbformat": 4,
 "nbformat_minor": 5
}
