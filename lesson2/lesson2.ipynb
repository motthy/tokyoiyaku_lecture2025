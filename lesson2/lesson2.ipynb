{
 "cells": [
  {
   "cell_type": "markdown",
   "id": "7eca2378-0a94-4f87-b713-bf94e64a43eb",
   "metadata": {},
   "source": [
    "## 4.1 はじめに  "
   ]
  },
  {
   "cell_type": "code",
   "execution_count": 1,
   "id": "5d39f05b-66aa-4745-a03d-d7a3883e3323",
   "metadata": {},
   "outputs": [],
   "source": [
    "val_int = 1 #これで1を紐づけます。"
   ]
  },
  {
   "cell_type": "markdown",
   "id": "49f1045b-1dd4-43b2-b226-259cac5ce212",
   "metadata": {},
   "source": [
    "#以下はコメントなので、コメントは入力しなくてよいです。  \n",
    "\n",
    "* インラインコメント\n",
    "\n",
    "    \n",
    "  コード文  #コメント\n",
    "    \n",
    "* ブロックコメント\n",
    "\n",
    "  \n",
    "  #コメント  \n",
    "  コード文  \n",
    "  コード文  \n",
    "  ....  \n",
    "  \n",
    "Pythonのコードを記載していくスタイルとしては、あまりインラインコメントは多用しないことが推奨されている。 "
   ]
  },
  {
   "cell_type": "markdown",
   "id": "50471844-5576-4e00-96ba-7568ea7b2fec",
   "metadata": {},
   "source": [
    "## 4.2 関数とメソッド"
   ]
  },
  {
   "cell_type": "markdown",
   "id": "924ca07b-4e2f-4038-85fb-49945051cac0",
   "metadata": {},
   "source": [
    "関数とメソッド、どちらもデータの処理に関するものと受け取っておいてください。"
   ]
  },
  {
   "cell_type": "markdown",
   "id": "d18a98e0-30e1-4a09-8036-e9dc29aef19e",
   "metadata": {},
   "source": [
    "### 4.2.1 関数 (functions)"
   ]
  },
  {
   "attachments": {},
   "cell_type": "markdown",
   "id": "965b5f28-5278-4733-96b0-eb7cc2643b40",
   "metadata": {},
   "source": [
    "関数は、  \n",
    "  \n",
    "関数名(中に何かを書く、もしくは空白)  \n",
    "\n",
    "というふうに、関数名+()内に変数など、という形で記載する。以下に関数の例を示す。  \n",
    "入力して実行 (セル内でShift-Return/Enter)してみてください。"
   ]
  },
  {
   "cell_type": "code",
   "execution_count": 3,
   "id": "88bc2c7c-cc95-4100-8ffa-493d720483ea",
   "metadata": {},
   "outputs": [
    {
     "data": {
      "text/plain": [
       "7"
      ]
     },
     "execution_count": 3,
     "metadata": {},
     "output_type": "execute_result"
    }
   ],
   "source": [
    "abs(-7)"
   ]
  },
  {
   "cell_type": "markdown",
   "id": "b8e5152c-c341-4e6f-a7f9-ef85dc213e18",
   "metadata": {},
   "source": [
    "abs()関数といい、値の絶対値を返す関数です。"
   ]
  },
  {
   "cell_type": "code",
   "execution_count": 4,
   "id": "44fd37a0-d005-442c-923b-629fdc6949e7",
   "metadata": {},
   "outputs": [
    {
     "data": {
      "text/plain": [
       "7"
      ]
     },
     "execution_count": 4,
     "metadata": {},
     "output_type": "execute_result"
    }
   ],
   "source": [
    "abs(7)"
   ]
  },
  {
   "cell_type": "markdown",
   "id": "a2b24b27-a066-4d56-9652-4b9b32592e06",
   "metadata": {},
   "source": [
    "次に print()関数を試す。括弧内の値を出力する。 "
   ]
  },
  {
   "cell_type": "code",
   "execution_count": 5,
   "id": "6a451912-aa9b-4b52-b60c-6ac9b2f777b7",
   "metadata": {},
   "outputs": [
    {
     "name": "stdout",
     "output_type": "stream",
     "text": [
      "Herro Bio!\n"
     ]
    }
   ],
   "source": [
    "test_str='Herro Bio!'\n",
    "print(test_str)"
   ]
  },
  {
   "cell_type": "markdown",
   "id": "3d3d63b2-add2-4549-9070-ad1d847e0a20",
   "metadata": {},
   "source": [
    "ここでは、test_strの中身 (文字列 'Hello Bio') を出力しなさい。という命令を実行している。  \n",
    "ただし、Jupyter Notebook の場合は、変数を入力するとそのまま中身を返してくれる。"
   ]
  },
  {
   "cell_type": "code",
   "execution_count": 6,
   "id": "84f25875-a391-48c6-8945-c81d59a62240",
   "metadata": {},
   "outputs": [
    {
     "data": {
      "text/plain": [
       "'Herro Bio!'"
      ]
     },
     "execution_count": 6,
     "metadata": {},
     "output_type": "execute_result"
    }
   ],
   "source": [
    "test_str"
   ]
  },
  {
   "cell_type": "markdown",
   "id": "21e7071e-30cc-4b2f-ad8f-861467da477c",
   "metadata": {},
   "source": [
    "print()を使用したときと表記が違うのは、あくまでセルの中身を評価した結果が返ってくるので、「str型(文字列)」としての'Hello Bio!'が帰ってきているためである。  \n",
    "この違うをもう少し見てみる。  "
   ]
  },
  {
   "cell_type": "code",
   "execution_count": 7,
   "id": "a515a6d7-0c5e-40e1-8958-b0d670c9d0e2",
   "metadata": {},
   "outputs": [
    {
     "name": "stdout",
     "output_type": "stream",
     "text": [
      "1.26.4\n"
     ]
    }
   ],
   "source": [
    "import numpy as np\n",
    "print(np.__version__)"
   ]
  },
  {
   "cell_type": "code",
   "execution_count": 8,
   "id": "2d6f17bb-af2e-40d2-8a4a-843612796089",
   "metadata": {},
   "outputs": [],
   "source": [
    "array1=np.array([[0,1],[2,3]]) #実行しても画面表示はでてきません。"
   ]
  },
  {
   "cell_type": "markdown",
   "id": "cec0c29d-cab8-43fc-a541-f2232aea1c19",
   "metadata": {},
   "source": [
    "array1 をprint()してみる。"
   ]
  },
  {
   "cell_type": "code",
   "execution_count": 9,
   "id": "46e8b6f2-bc78-44d7-b614-c96eb8e07503",
   "metadata": {},
   "outputs": [
    {
     "name": "stdout",
     "output_type": "stream",
     "text": [
      "[[0 1]\n",
      " [2 3]]\n"
     ]
    }
   ],
   "source": [
    "print(array1)"
   ]
  },
  {
   "cell_type": "markdown",
   "id": "4b44029a-3f07-466e-b80e-7d2d8ef98559",
   "metadata": {},
   "source": [
    "これは2行2列の行列である。　次に array1 と打ってみる。"
   ]
  },
  {
   "cell_type": "code",
   "execution_count": 10,
   "id": "ca5c7498-c4dd-4572-8d2c-9be160b57423",
   "metadata": {},
   "outputs": [
    {
     "data": {
      "text/plain": [
       "array([[0, 1],\n",
       "       [2, 3]])"
      ]
     },
     "execution_count": 10,
     "metadata": {},
     "output_type": "execute_result"
    }
   ],
   "source": [
    "array1"
   ]
  },
  {
   "cell_type": "markdown",
   "id": "e11a4af8-02f1-42bd-86fe-14069c683740",
   "metadata": {},
   "source": [
    "先ほどと違って、array という表記がついてくる。これは、この中身自体が array型 というものである。"
   ]
  },
  {
   "cell_type": "markdown",
   "id": "dfc17552-e3da-4d9a-8475-dc1c290c8e4f",
   "metadata": {},
   "source": [
    "また、Jupyter Notebook はコードセルが返す値は、最後の行の結果だけである。"
   ]
  },
  {
   "cell_type": "code",
   "execution_count": 11,
   "id": "c1f3ec37-12ba-443d-85e5-fb029b85070a",
   "metadata": {},
   "outputs": [
    {
     "data": {
      "text/plain": [
       "2"
      ]
     },
     "execution_count": 11,
     "metadata": {},
     "output_type": "execute_result"
    }
   ],
   "source": [
    "val_a=1\n",
    "val_b=2\n",
    "val_a\n",
    "val_b"
   ]
  },
  {
   "cell_type": "markdown",
   "id": "b976e89c-0b13-4eb4-9bc8-f480317c2fa4",
   "metadata": {},
   "source": [
    "実行する1つのコードセル内で両方を表示したければ、print()文を2回実行する必要がある。"
   ]
  },
  {
   "cell_type": "code",
   "execution_count": 12,
   "id": "a3726c47-13a9-4666-a7d2-3b8271cf6aa6",
   "metadata": {},
   "outputs": [
    {
     "name": "stdout",
     "output_type": "stream",
     "text": [
      "1\n",
      "2\n"
     ]
    }
   ],
   "source": [
    "print(val_a)\n",
    "print(val_b)"
   ]
  },
  {
   "cell_type": "markdown",
   "id": "52dd8109-1053-4864-86db-66c3b2ce11ba",
   "metadata": {},
   "source": [
    "このようなabs()やprint()のようにpythonではじめから用意されている関数を __組み込み関数 (build-in function)__ と言う。自分でも関数は作ることができるため、それと区別するためにこのように呼ばれる。"
   ]
  },
  {
   "cell_type": "markdown",
   "id": "d322dba9-5bcf-463e-a372-0b22600c06ac",
   "metadata": {},
   "source": [
    "### 4.2.2 メソッド (method)"
   ]
  },
  {
   "cell_type": "markdown",
   "id": "9e92e01a-151a-437f-a7bf-86b8724b187b",
   "metadata": {},
   "source": [
    "メソッドは、変数etc.メソッド名 (何か書いたり、書かなかったり)  \n",
    "\n",
    "というふうに、間に.(ピリオド) を置き、その後ろにメソッド名という形で記載する。"
   ]
  },
  {
   "cell_type": "code",
   "execution_count": 14,
   "id": "b5f28e43-c5ae-4ebf-8ebb-7e90a23264e8",
   "metadata": {},
   "outputs": [
    {
     "data": {
      "text/plain": [
       "'HELLO BIO'"
      ]
     },
     "execution_count": 14,
     "metadata": {},
     "output_type": "execute_result"
    }
   ],
   "source": [
    "'Hello Bio'.upper()"
   ]
  },
  {
   "cell_type": "markdown",
   "id": "e31afb2a-e01a-44bf-8fa2-b2758cf1092d",
   "metadata": {},
   "source": [
    "ここで使っているのは、str型のメソッドupper()である。文字列を大文字に変換したものを出力する。"
   ]
  },
  {
   "cell_type": "code",
   "execution_count": 15,
   "id": "2d4fe400-0540-44d7-a7e6-3a80d282a653",
   "metadata": {},
   "outputs": [
    {
     "data": {
      "text/plain": [
       "'HELLO INFO'"
      ]
     },
     "execution_count": 15,
     "metadata": {},
     "output_type": "execute_result"
    }
   ],
   "source": [
    "'Hello Bio'.upper().replace('BIO','INFO')"
   ]
  },
  {
   "cell_type": "raw",
   "id": "ffd2ff0d-ec85-4a1e-8eb0-ebbf12d97fd3",
   "metadata": {},
   "source": [
    "replace()メソッドは、文字列を置換するメソッド。ここでは、「'Hello Bio'を大文字化したもの」に対して「BIO -> INFOへの変換」を行っている。  \n",
    "このように重ねがけみたいな書き方もできる。  \n",
    "\n",
    "メソッドは、ある対象に「付属する機能」とも捉えられる。upper(), replace()はここでは str型 に「付属する機能」として実行する。  \n",
    "「はじめから用意されているメソッド」も、関数同様に「組み込みメソッド」という言い方もする。"
   ]
  },
  {
   "cell_type": "markdown",
   "id": "fa7bc5a2-3704-4c21-947e-3a1e2839bfc3",
   "metadata": {},
   "source": [
    "## 4.3 変数"
   ]
  },
  {
   "cell_type": "markdown",
   "id": "b202c127-abea-4bd9-8dc1-516a6a5f1126",
   "metadata": {},
   "source": [
    "### 4.3.1 変数の基本  \n",
    "変数はデータの入れ物である。=で代入 (紐付け) を行う。また変数を作成する際には型宣言 (整数を入れるのか、文字列を入れるのか、といった指定) は必要ない。文字列を表現する場合は 囲い文字として'' (シングルクォーテーション)と\"\" (ダブルクォーテーション) のどちらも使える。"
   ]
  },
  {
   "cell_type": "code",
   "execution_count": 17,
   "id": "7ccb7442-c54d-4c08-bd9e-b36c275fe5af",
   "metadata": {},
   "outputs": [
    {
     "data": {
      "text/plain": [
       "1"
      ]
     },
     "execution_count": 17,
     "metadata": {},
     "output_type": "execute_result"
    }
   ],
   "source": [
    "val_int=1\n",
    "val_int"
   ]
  },
  {
   "cell_type": "code",
   "execution_count": 18,
   "id": "0a00c1f6-3979-4227-804c-385cfecb5149",
   "metadata": {},
   "outputs": [
    {
     "data": {
      "text/plain": [
       "1.1"
      ]
     },
     "execution_count": 18,
     "metadata": {},
     "output_type": "execute_result"
    }
   ],
   "source": [
    "val_float=1.1\n",
    "val_float"
   ]
  },
  {
   "cell_type": "code",
   "execution_count": 19,
   "id": "4654ba74-7950-4979-a0ad-63a16d13c592",
   "metadata": {},
   "outputs": [
    {
     "data": {
      "text/plain": [
       "'atgc'"
      ]
     },
     "execution_count": 19,
     "metadata": {},
     "output_type": "execute_result"
    }
   ],
   "source": [
    "val_str='atgc'\n",
    "val_str"
   ]
  },
  {
   "cell_type": "markdown",
   "id": "b107f18d-1f7d-43cd-9e17-1895ab7f01c7",
   "metadata": {},
   "source": [
    "以上のように、数字も文字も入る。type()関数で、型を確認することができる。"
   ]
  },
  {
   "cell_type": "code",
   "execution_count": 20,
   "id": "efa199a3-dd36-4bc6-bd8d-9160f312efc9",
   "metadata": {},
   "outputs": [
    {
     "data": {
      "text/plain": [
       "int"
      ]
     },
     "execution_count": 20,
     "metadata": {},
     "output_type": "execute_result"
    }
   ],
   "source": [
    "type(val_int) #1はint(整数)型です"
   ]
  },
  {
   "cell_type": "code",
   "execution_count": 21,
   "id": "8b562114-8219-467c-862a-9b9cc8c12924",
   "metadata": {},
   "outputs": [
    {
     "data": {
      "text/plain": [
       "float"
      ]
     },
     "execution_count": 21,
     "metadata": {},
     "output_type": "execute_result"
    }
   ],
   "source": [
    "type(val_float) #1はfloat(浮動小数点)型です"
   ]
  },
  {
   "cell_type": "code",
   "execution_count": 22,
   "id": "73976911-c03b-4ddd-94ba-ccfaa0098b09",
   "metadata": {},
   "outputs": [
    {
     "data": {
      "text/plain": [
       "str"
      ]
     },
     "execution_count": 22,
     "metadata": {},
     "output_type": "execute_result"
    }
   ],
   "source": [
    "type(val_str) #'atgc'はstr(文字列)型です"
   ]
  },
  {
   "cell_type": "markdown",
   "id": "008fd903-7b91-40b4-9a01-72ddb9090fbc",
   "metadata": {},
   "source": [
    "以下のようにtype()関数に直接'1','1.1','atgc'といった値を入れることもできる"
   ]
  },
  {
   "cell_type": "code",
   "execution_count": 23,
   "id": "d2cddce6-0989-4f77-9563-8caf2a204988",
   "metadata": {},
   "outputs": [
    {
     "data": {
      "text/plain": [
       "int"
      ]
     },
     "execution_count": 23,
     "metadata": {},
     "output_type": "execute_result"
    }
   ],
   "source": [
    "type(1)"
   ]
  },
  {
   "cell_type": "code",
   "execution_count": 24,
   "id": "b3040e60-a407-42ff-a98b-d88ce0a43fe6",
   "metadata": {},
   "outputs": [
    {
     "data": {
      "text/plain": [
       "float"
      ]
     },
     "execution_count": 24,
     "metadata": {},
     "output_type": "execute_result"
    }
   ],
   "source": [
    "type(1.1)"
   ]
  },
  {
   "cell_type": "code",
   "execution_count": 25,
   "id": "62b1181c-282b-4f0a-b47a-ce051069d014",
   "metadata": {},
   "outputs": [
    {
     "data": {
      "text/plain": [
       "str"
      ]
     },
     "execution_count": 25,
     "metadata": {},
     "output_type": "execute_result"
    }
   ],
   "source": [
    "type('atgc')"
   ]
  },
  {
   "cell_type": "markdown",
   "id": "c09d62ac-3dd1-4a7d-a1e4-1a0c111dec31",
   "metadata": {},
   "source": [
    "例えば、「str型 (文字列) としての100」と「int型 (整数) としての100」は異なるので注意。"
   ]
  },
  {
   "cell_type": "code",
   "execution_count": 28,
   "id": "c455c50a-a16a-4b12-ae06-4d91ea6e6f04",
   "metadata": {},
   "outputs": [],
   "source": [
    "num_int = 100 # int型 (整数)の100です\n",
    "num_str = '100' # str型 (文字列)の100です"
   ]
  },
  {
   "cell_type": "code",
   "execution_count": 29,
   "id": "c6067acb-249d-44eb-b0ee-d1a93bdcc669",
   "metadata": {},
   "outputs": [
    {
     "data": {
      "text/plain": [
       "100"
      ]
     },
     "execution_count": 29,
     "metadata": {},
     "output_type": "execute_result"
    }
   ],
   "source": [
    "num_int"
   ]
  },
  {
   "cell_type": "code",
   "execution_count": 30,
   "id": "08c8996e-56da-40f4-8dd6-5688b58cb1d9",
   "metadata": {},
   "outputs": [
    {
     "data": {
      "text/plain": [
       "'100'"
      ]
     },
     "execution_count": 30,
     "metadata": {},
     "output_type": "execute_result"
    }
   ],
   "source": [
    "num_str"
   ]
  },
  {
   "cell_type": "markdown",
   "id": "2e320d77-1430-474e-bb5b-97cd2ff455c0",
   "metadata": {},
   "source": [
    "整数の100は加減乗除などが可能だが、、、"
   ]
  },
  {
   "cell_type": "code",
   "execution_count": 31,
   "id": "107d80b9-4765-4e63-8746-1aa186311768",
   "metadata": {},
   "outputs": [
    {
     "data": {
      "text/plain": [
       "101"
      ]
     },
     "execution_count": 31,
     "metadata": {},
     "output_type": "execute_result"
    }
   ],
   "source": [
    "num_int + 1"
   ]
  },
  {
   "cell_type": "code",
   "execution_count": 32,
   "id": "ef4b2262-e3fe-45e5-81ec-8db251604005",
   "metadata": {},
   "outputs": [
    {
     "ename": "TypeError",
     "evalue": "can only concatenate str (not \"int\") to str",
     "output_type": "error",
     "traceback": [
      "\u001b[31m---------------------------------------------------------------------------\u001b[39m",
      "\u001b[31mTypeError\u001b[39m                                 Traceback (most recent call last)",
      "\u001b[36mCell\u001b[39m\u001b[36m \u001b[39m\u001b[32mIn[32]\u001b[39m\u001b[32m, line 1\u001b[39m\n\u001b[32m----> \u001b[39m\u001b[32m1\u001b[39m \u001b[43mnum_str\u001b[49m\u001b[43m \u001b[49m\u001b[43m+\u001b[49m\u001b[43m \u001b[49m\u001b[32;43m1\u001b[39;49m\n",
      "\u001b[31mTypeError\u001b[39m: can only concatenate str (not \"int\") to str"
     ]
    }
   ],
   "source": [
    "num_str + 1"
   ]
  },
  {
   "cell_type": "markdown",
   "id": "6f4733fa-e4b0-4d50-b3f9-d26a72c26363",
   "metadata": {},
   "source": [
    "文字列ではエラーになる。int型 (整数) と float型 (小数) の加算は可能"
   ]
  },
  {
   "cell_type": "code",
   "execution_count": 34,
   "id": "796c2956-38f2-4f56-8141-9e2e92743626",
   "metadata": {},
   "outputs": [
    {
     "data": {
      "text/plain": [
       "2.1"
      ]
     },
     "execution_count": 34,
     "metadata": {},
     "output_type": "execute_result"
    }
   ],
   "source": [
    "val_add = val_int + val_float #int型の1と、float型の1.1を加算する\n",
    "val_add"
   ]
  },
  {
   "cell_type": "code",
   "execution_count": 35,
   "id": "770330c8-a9d1-42e8-b8fb-38bcd5a46840",
   "metadata": {},
   "outputs": [
    {
     "data": {
      "text/plain": [
       "float"
      ]
     },
     "execution_count": 35,
     "metadata": {},
     "output_type": "execute_result"
    }
   ],
   "source": [
    "type(val_add)"
   ]
  },
  {
   "cell_type": "markdown",
   "id": "58fd00c1-2ed4-49ad-893c-6566a60e9184",
   "metadata": {},
   "source": [
    "自動的にval_addはfloat型に揃えられて、計算されている。  \n",
    "「str型と数値型」の加算はできないが、「文字列としての100」と「文字列としての1」を「足す」ことは可能。"
   ]
  },
  {
   "cell_type": "markdown",
   "id": "d10956cf-fff2-4e54-abeb-1aea7271eb6c",
   "metadata": {},
   "source": [
    "先ほどのエラーメッセージには、  \n",
    "__TypeError: can only concatenate str (not \"int\") to str__  \n",
    "と記載があった。\n",
    "これは、TypeErrorで、型(type)のエラーであることが明示されている。concatenateは連結するという意味。つまり「型エラー。strは int ではなく、str とだけ連結できますよ」というメッセージ。　　\n",
    "\n",
    "str + str を試す"
   ]
  },
  {
   "cell_type": "code",
   "execution_count": 36,
   "id": "bce4b650-af37-440a-9032-48da5955a664",
   "metadata": {},
   "outputs": [
    {
     "data": {
      "text/plain": [
       "'1001'"
      ]
     },
     "execution_count": 36,
     "metadata": {},
     "output_type": "execute_result"
    }
   ],
   "source": [
    "num_str + '1' #str型としての変数num_str(='100')と '1'を+する"
   ]
  },
  {
   "cell_type": "markdown",
   "id": "cb69a74a-11d4-401a-b2e0-353026a790e8",
   "metadata": {},
   "source": [
    "文字列 + 文字列は、連結した文字列になる。  \n",
    "バイオインフォマティックスで遺伝子配列を扱う場合、文字列としての配列を扱うこともあれば、それらを連結することもある。  \n",
    "\n",
    "ゲノム配列 (のようなもの)を連結してみる"
   ]
  },
  {
   "cell_type": "code",
   "execution_count": 37,
   "id": "3b282dc1-8739-4ee1-8ed8-0cb27ea42ee5",
   "metadata": {},
   "outputs": [
    {
     "data": {
      "text/plain": [
       "'atgcATGC'"
      ]
     },
     "execution_count": 37,
     "metadata": {},
     "output_type": "execute_result"
    }
   ],
   "source": [
    "'atgc' + 'ATGC'"
   ]
  },
  {
   "cell_type": "markdown",
   "id": "0a41d5e6-4211-48b3-9d85-77bf5c142859",
   "metadata": {},
   "source": [
    "文字列としてのゲノム配列であれば、このように扱える。  \n",
    "関数を用いて型変換した結果を得ることもできる。int()関数を使う。この関数は与えられた引数(ここでは整数が記載されたstr型文字列)をint型に変換する"
   ]
  },
  {
   "cell_type": "code",
   "execution_count": 38,
   "id": "78814137-f710-4a3e-9087-defdae467378",
   "metadata": {},
   "outputs": [
    {
     "data": {
      "text/plain": [
       "100"
      ]
     },
     "execution_count": 38,
     "metadata": {},
     "output_type": "execute_result"
    }
   ],
   "source": [
    "int(num_str) #str型としての変数num_str(='100')"
   ]
  },
  {
   "cell_type": "markdown",
   "id": "f78f0384-ef42-4f80-a031-b0dc488f19d2",
   "metadata": {},
   "source": [
    "int型としての100が返ってきた。''で括られていない。"
   ]
  },
  {
   "cell_type": "code",
   "execution_count": 39,
   "id": "b074c59f-79d1-4414-81c9-c636d08db72e",
   "metadata": {},
   "outputs": [
    {
     "data": {
      "text/plain": [
       "101"
      ]
     },
     "execution_count": 39,
     "metadata": {},
     "output_type": "execute_result"
    }
   ],
   "source": [
    "int(num_str) + 1"
   ]
  },
  {
   "cell_type": "markdown",
   "id": "c207da26-674e-4e7d-98f2-1c3faba52f69",
   "metadata": {},
   "source": [
    "先ほどとは異なり、int型としての100+1を実行できた。  \n",
    "実際にデータを扱う際には、文字列としての数字を数値に変換して処理、ということも行うので、その際にはこういう関数を使うことができる。"
   ]
  },
  {
   "cell_type": "code",
   "execution_count": null,
   "id": "643df567-fcc8-4e60-be59-c6df773696e1",
   "metadata": {},
   "outputs": [],
   "source": []
  }
 ],
 "metadata": {
  "kernelspec": {
   "display_name": "Python 3 (ipykernel)",
   "language": "python",
   "name": "python3"
  },
  "language_info": {
   "codemirror_mode": {
    "name": "ipython",
    "version": 3
   },
   "file_extension": ".py",
   "mimetype": "text/x-python",
   "name": "python",
   "nbconvert_exporter": "python",
   "pygments_lexer": "ipython3",
   "version": "3.11.11"
  }
 },
 "nbformat": 4,
 "nbformat_minor": 5
}
